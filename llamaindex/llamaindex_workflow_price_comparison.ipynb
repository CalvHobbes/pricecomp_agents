{
  "cells": [
    {
      "cell_type": "markdown",
      "metadata": {
        "id": "view-in-github",
        "colab_type": "text"
      },
      "source": [
        "<a href=\"https://colab.research.google.com/github/CalvHobbes/pricecomp_agents/blob/main/llamaindex/llamaindex_workflow_price_comparison.ipynb\" target=\"_parent\"><img src=\"https://colab.research.google.com/assets/colab-badge.svg\" alt=\"Open In Colab\"/></a>"
      ]
    },
    {
      "cell_type": "code",
      "execution_count": 1,
      "metadata": {
        "colab": {
          "base_uri": "https://localhost:8080/"
        },
        "id": "hMS-Frhtdb3K",
        "outputId": "e287a000-fb01-44de-9c36-3af82aed7f54"
      },
      "outputs": [
        {
          "output_type": "stream",
          "name": "stdout",
          "text": [
            "Requirement already satisfied: beautifulsoup4 in /usr/local/lib/python3.10/dist-packages (4.12.3)\n",
            "Requirement already satisfied: requests in /usr/local/lib/python3.10/dist-packages (2.32.3)\n",
            "Requirement already satisfied: soupsieve>1.2 in /usr/local/lib/python3.10/dist-packages (from beautifulsoup4) (2.6)\n",
            "Requirement already satisfied: charset-normalizer<4,>=2 in /usr/local/lib/python3.10/dist-packages (from requests) (3.4.0)\n",
            "Requirement already satisfied: idna<4,>=2.5 in /usr/local/lib/python3.10/dist-packages (from requests) (3.10)\n",
            "Requirement already satisfied: urllib3<3,>=1.21.1 in /usr/local/lib/python3.10/dist-packages (from requests) (2.2.3)\n",
            "Requirement already satisfied: certifi>=2017.4.17 in /usr/local/lib/python3.10/dist-packages (from requests) (2024.12.14)\n"
          ]
        }
      ],
      "source": [
        "!pip install beautifulsoup4 requests"
      ]
    },
    {
      "cell_type": "code",
      "execution_count": 2,
      "metadata": {
        "id": "mJjmprjgxoIv"
      },
      "outputs": [],
      "source": [
        "import nest_asyncio\n",
        "\n",
        "nest_asyncio.apply()"
      ]
    },
    {
      "cell_type": "code",
      "execution_count": 4,
      "metadata": {
        "id": "no5PnrrNd4va"
      },
      "outputs": [],
      "source": [
        "# prompt: check if in colab environment and if so, fetch helper functions for tools\n",
        "\n",
        "import sys\n",
        "\n",
        "try:\n",
        "  import google.colab\n",
        "  IN_COLAB = True\n",
        "except:\n",
        "  IN_COLAB = False\n",
        "\n",
        "if IN_COLAB:\n",
        "  !wget https://raw.githubusercontent.com/CalvHobbes/shop_india/main/llamaindex/search_Croma.py -o /dev/null\n",
        "  !wget https://raw.githubusercontent.com/CalvHobbes/shop_india/main/llamaindex/search_reliance.py -o /dev/null\n"
      ]
    },
    {
      "cell_type": "code",
      "execution_count": 5,
      "metadata": {
        "id": "oHVpzJGQdb3L"
      },
      "outputs": [],
      "source": [
        "# Import the necessary functions\n",
        "from search_Croma import fetch_prices_from_croma\n",
        "from search_reliance import fetch_prices_from_reliance\n",
        "import json\n",
        "\n",
        "def test_functions():\n",
        "  # Define the product query\n",
        "  query = \"iphone 16 pro max\"\n",
        "\n",
        "  # Fetch prices from Croma\n",
        "  croma_prices = fetch_prices_from_croma(query)\n",
        "  print(\"Croma Prices:\")\n",
        "  print(json.dumps(croma_prices, indent=4))\n",
        "\n",
        "  # Fetch prices from Reliance Digital\n",
        "  reliance_prices = fetch_prices_from_reliance(query)\n",
        "  print(\"Reliance Digital Prices:\")\n",
        "  print(json.dumps(reliance_prices, indent=4))\n",
        "\n",
        "\n",
        "# test_functions()\n",
        "\n",
        "\n",
        "\n"
      ]
    },
    {
      "cell_type": "code",
      "execution_count": null,
      "metadata": {
        "id": "xFOIHaGMgfn4"
      },
      "outputs": [],
      "source": [
        "!pip install llama-index llama-index-llms-openai"
      ]
    },
    {
      "cell_type": "code",
      "execution_count": 9,
      "metadata": {
        "id": "R8iwBoj3goli"
      },
      "outputs": [],
      "source": [
        "from google.colab import userdata\n",
        "import os\n",
        "\n",
        "os.environ[\"OPENAI_API_KEY\"] = userdata.get('OPENAPI_KEY')"
      ]
    },
    {
      "cell_type": "code",
      "source": [
        "from llama_index.core.llms import ChatMessage\n",
        "from llama_index.core.tools import ToolSelection, ToolOutput\n",
        "from llama_index.core.workflow import Event\n",
        "\n",
        "\n",
        "class InputEvent(Event):\n",
        "    input: list[ChatMessage]\n",
        "\n",
        "\n",
        "class ToolCallEvent(Event):\n",
        "    tool_calls: list[ToolSelection]\n",
        "\n",
        "\n",
        "class FunctionOutputEvent(Event):\n",
        "    output: ToolOutput"
      ],
      "metadata": {
        "id": "sYj0UrX48iOW"
      },
      "execution_count": 12,
      "outputs": []
    },
    {
      "cell_type": "code",
      "execution_count": 14,
      "metadata": {
        "id": "fZifKj-XjOtN"
      },
      "outputs": [],
      "source": [
        "from typing import Any, List\n",
        "\n",
        "from llama_index.core.llms.function_calling import FunctionCallingLLM\n",
        "from llama_index.core.memory import ChatMemoryBuffer\n",
        "from llama_index.core.tools.types import BaseTool\n",
        "from llama_index.core.workflow import Workflow, StartEvent, StopEvent, step\n",
        "\n",
        "\n",
        "class FuncationCallingAgent(Workflow):\n",
        "    def __init__(\n",
        "        self,\n",
        "        *args: Any,\n",
        "        llm: FunctionCallingLLM | None = None,\n",
        "        tools: List[BaseTool] | None = None,\n",
        "        **kwargs: Any,\n",
        "    ) -> None:\n",
        "        super().__init__(*args, **kwargs)\n",
        "        self.tools = tools or []\n",
        "\n",
        "        self.llm = llm or OpenAI()\n",
        "        assert self.llm.metadata.is_function_calling_model\n",
        "\n",
        "        self.memory = ChatMemoryBuffer.from_defaults(llm=llm)\n",
        "        self.sources = []\n",
        "\n",
        "    @step\n",
        "    async def prepare_chat_history(self, ev: StartEvent) -> InputEvent:\n",
        "        # clear sources\n",
        "        self.sources = []\n",
        "\n",
        "        # get user input\n",
        "        user_input = ev.input\n",
        "        user_msg = ChatMessage(role=\"user\", content=user_input)\n",
        "        self.memory.put(user_msg)\n",
        "\n",
        "        # get chat history\n",
        "        chat_history = self.memory.get()\n",
        "        return InputEvent(input=chat_history)\n",
        "\n",
        "    @step\n",
        "    async def handle_llm_input(\n",
        "        self, ev: InputEvent\n",
        "    ) -> ToolCallEvent | StopEvent:\n",
        "        chat_history = ev.input\n",
        "\n",
        "        response = await self.llm.achat_with_tools(\n",
        "            self.tools, chat_history=chat_history\n",
        "        )\n",
        "        self.memory.put(response.message)\n",
        "\n",
        "        tool_calls = self.llm.get_tool_calls_from_response(\n",
        "            response, error_on_no_tool_call=False\n",
        "        )\n",
        "\n",
        "        if not tool_calls:\n",
        "            return StopEvent(\n",
        "                result={\"response\": response, \"sources\": [*self.sources]}\n",
        "            )\n",
        "        else:\n",
        "            return ToolCallEvent(tool_calls=tool_calls)\n",
        "\n",
        "    @step\n",
        "    async def handle_tool_calls(self, ev: ToolCallEvent) -> InputEvent:\n",
        "        tool_calls = ev.tool_calls\n",
        "        tools_by_name = {tool.metadata.get_name(): tool for tool in self.tools}\n",
        "\n",
        "        tool_msgs = []\n",
        "\n",
        "        # call tools -- safely!\n",
        "        for tool_call in tool_calls:\n",
        "            tool = tools_by_name.get(tool_call.tool_name)\n",
        "            additional_kwargs = {\n",
        "                \"tool_call_id\": tool_call.tool_id,\n",
        "                \"name\": tool.metadata.get_name(),\n",
        "            }\n",
        "            if not tool:\n",
        "                tool_msgs.append(\n",
        "                    ChatMessage(\n",
        "                        role=\"tool\",\n",
        "                        content=f\"Tool {tool_call.tool_name} does not exist\",\n",
        "                        additional_kwargs=additional_kwargs,\n",
        "                    )\n",
        "                )\n",
        "                continue\n",
        "\n",
        "            try:\n",
        "                tool_output = tool(**tool_call.tool_kwargs)\n",
        "                self.sources.append(tool_output)\n",
        "                tool_msgs.append(\n",
        "                    ChatMessage(\n",
        "                        role=\"tool\",\n",
        "                        content=tool_output.content,\n",
        "                        additional_kwargs=additional_kwargs,\n",
        "                    )\n",
        "                )\n",
        "            except Exception as e:\n",
        "                tool_msgs.append(\n",
        "                    ChatMessage(\n",
        "                        role=\"tool\",\n",
        "                        content=f\"Encountered error in tool call: {e}\",\n",
        "                        additional_kwargs=additional_kwargs,\n",
        "                    )\n",
        "                )\n",
        "\n",
        "        for msg in tool_msgs:\n",
        "            self.memory.put(msg)\n",
        "\n",
        "        chat_history = self.memory.get()\n",
        "        return InputEvent(input=chat_history)\n",
        "\n",
        "\n"
      ]
    },
    {
      "cell_type": "code",
      "execution_count": 15,
      "metadata": {
        "id": "yO9gkjhngq8S"
      },
      "outputs": [],
      "source": [
        "from llama_index.core.tools import FunctionTool\n",
        "from llama_index.llms.openai import OpenAI\n",
        "\n",
        "# model = OpenAI(model=\"gpt-3.5-turbo\")\n",
        "model = OpenAI(model=\"gpt-4o-mini\")\n",
        "\n"
      ]
    },
    {
      "cell_type": "code",
      "execution_count": 16,
      "metadata": {
        "id": "6Fpvpo1Xqi4Y"
      },
      "outputs": [],
      "source": [
        "instructions = '''\n",
        "You are an intelligent assistant tasked with analyzing and combining product price data by executing one or more tools available to you. to run the tools you must provide them the name of the product the user is searching.. Your goal is to identify the most relevant product prices and present them in a structured format.  Execute all applicable tools.Follow these steps:\n",
        "\n",
        "Combine Results: Analyze the product data from all websites. If product names or display names are slightly different but refer to the same product, use your judgment to group them together.\n",
        "\n",
        "Identify the Best Prices: For each product, compare the prices across all websites and order them in ascending order (lowest price first).\n",
        "\n",
        "Output Format: Present the results in the following structured format for each product:\n",
        "\n",
        "Product Name: The most accurate or common name for the product.\n",
        "\n",
        "For each store, include:\n",
        "\n",
        "Store Display Name: The name of the store.\n",
        "\n",
        "Product URL: A clickable link to the product page.\n",
        "\n",
        "Price: The price of the product at that store.\n",
        "\n",
        "Ensure the store-wise details are ordered by ascending price (cheapest first).\n",
        "\n",
        "Handle Ambiguities: If product names or details are unclear, use context to determine if they refer to the same product. If uncertain, list them separately.\n",
        "\n",
        "Sample Result:\n",
        "Product Name: Wireless Noise-Cancelling Headphones\n",
        "- Store: TechWorld, Product URL: [TechWorld Link], Price: $120\n",
        "- Store: GadgetHub, Product URL: [GadgetHub Link], Price: $125\n",
        "- Store: ElectroShop, Product URL: [ElectroShop Link], Price: $130\n",
        "\n",
        "'''"
      ]
    },
    {
      "cell_type": "code",
      "source": [
        "from llama_index.core.tools import FunctionTool\n",
        "\n",
        "croma_tool = FunctionTool.from_defaults(\n",
        "    fn=fetch_prices_from_croma,\n",
        "    name=\"croma_prices\",\n",
        "    description=\"Fetches product prices from Chroma\")\n",
        "\n",
        "reliance_tool = FunctionTool.from_defaults(\n",
        "    fn=fetch_prices_from_reliance,\n",
        "    name=\"reliance_prices\",\n",
        "    description=\"Fetches product prices from Reliance Digital\")\n",
        "\n"
      ],
      "metadata": {
        "id": "dkjCUvCC-CwW"
      },
      "execution_count": 17,
      "outputs": []
    },
    {
      "cell_type": "code",
      "source": [
        "\n",
        "agent = FuncationCallingAgent(\n",
        "    llm=model, tools=[croma_tool, reliance_tool], timeout=120, verbose=True\n",
        ")\n"
      ],
      "metadata": {
        "id": "kyDDXar--v2Z"
      },
      "execution_count": 21,
      "outputs": []
    },
    {
      "cell_type": "code",
      "execution_count": 27,
      "metadata": {
        "colab": {
          "base_uri": "https://localhost:8080/",
          "height": 394
        },
        "id": "1GEvEQajs1RE",
        "outputId": "e853ae16-8990-4eed-9a39-cf7f385ddd69"
      },
      "outputs": [
        {
          "output_type": "stream",
          "name": "stdout",
          "text": [
            "Running step prepare_chat_history\n",
            "Step prepare_chat_history produced event InputEvent\n",
            "Running step handle_llm_input\n",
            "Step handle_llm_input produced event ToolCallEvent\n",
            "Running step handle_tool_calls\n",
            "Step handle_tool_calls produced event InputEvent\n",
            "Running step handle_llm_input\n",
            "Step handle_llm_input produced event ToolCallEvent\n",
            "Running step handle_tool_calls\n",
            "Step handle_tool_calls produced event InputEvent\n",
            "Running step handle_llm_input\n",
            "Step handle_llm_input produced event StopEvent\n"
          ]
        },
        {
          "output_type": "error",
          "ename": "AttributeError",
          "evalue": "'dict' object has no attribute 'response'",
          "traceback": [
            "\u001b[0;31m---------------------------------------------------------------------------\u001b[0m",
            "\u001b[0;31mAttributeError\u001b[0m                            Traceback (most recent call last)",
            "\u001b[0;32m<ipython-input-27-271c305bbd9c>\u001b[0m in \u001b[0;36m<cell line: 5>\u001b[0;34m()\u001b[0m\n\u001b[1;32m      3\u001b[0m \u001b[0;34m\u001b[0m\u001b[0m\n\u001b[1;32m      4\u001b[0m \u001b[0mresponse\u001b[0m \u001b[0;34m=\u001b[0m \u001b[0;32mawait\u001b[0m \u001b[0magent\u001b[0m\u001b[0;34m.\u001b[0m\u001b[0mrun\u001b[0m\u001b[0;34m(\u001b[0m\u001b[0minput\u001b[0m\u001b[0;34m=\u001b[0m\u001b[0;34m\"What is the best price for LG 9kg  Front Load Washing Machine?\"\u001b[0m\u001b[0;34m)\u001b[0m\u001b[0;34m\u001b[0m\u001b[0;34m\u001b[0m\u001b[0m\n\u001b[0;32m----> 5\u001b[0;31m \u001b[0mdisplay\u001b[0m\u001b[0;34m(\u001b[0m\u001b[0mMarkdown\u001b[0m\u001b[0;34m(\u001b[0m\u001b[0mresponse\u001b[0m\u001b[0;34m.\u001b[0m\u001b[0mresponse\u001b[0m\u001b[0;34m)\u001b[0m\u001b[0;34m)\u001b[0m\u001b[0;34m\u001b[0m\u001b[0;34m\u001b[0m\u001b[0m\n\u001b[0m",
            "\u001b[0;31mAttributeError\u001b[0m: 'dict' object has no attribute 'response'"
          ]
        }
      ],
      "source": [
        "from IPython.display import display, Markdown\n",
        "\n",
        "\n",
        "response = await agent.run(input=\"What is the best price for LG 9kg  Front Load Washing Machine?\")\n",
        "display(Markdown(response.text))"
      ]
    },
    {
      "cell_type": "code",
      "source": [
        "print(response['response'])\n"
      ],
      "metadata": {
        "colab": {
          "base_uri": "https://localhost:8080/"
        },
        "id": "3WvRIK2YrqG8",
        "outputId": "bb951d51-0ec9-4e91-fd99-df226a1cb511"
      },
      "execution_count": 55,
      "outputs": [
        {
          "output_type": "stream",
          "name": "stdout",
          "text": [
            "assistant: Here are the best prices for the LG 9kg Front Load Washing Machine from Croma and Reliance Digital:\n",
            "\n",
            "### Croma\n",
            "1. **[LG 9kg 5 Star Fully Automatic Front Load Washing Machine (FHV1409Z4M)](https://www.croma.com/lg-9kg-5-star-fully-automatic-front-load-washing-machine-fhv1409z4m-abmqeil-lg-thinq-with-wi-fi-middle-black-/p/260606)** - ₹43,990.00\n",
            "2. **[LG 9 kg 5 Star Wi-Fi Inverter Fully Automatic Front Load Washing Machine (FHB1209Z4B)](https://www.croma.com/lg-9-kg-5-star-wi-fi-inverter-fully-automatic-front-load-washing-machine-fhb1209z4b-auto-restart-platinum-black-/p/311332)** - ₹45,990.00\n",
            "3. **[LG 9 Kg 5 Star Inverter Fully Automatic Front Load Washing Machine (FHP1209Z9B)](https://www.croma.com/lg-9-kg-5-star-inverter-fully-automatic-front-load-washing-machine-fhp1209z9b-ablqeil-in-built-heater-steam-plus-black-/p/270905)** - ₹44,990.00\n",
            "\n",
            "### Reliance Digital\n",
            "1. **[LG 9 Kg Fully Automatic Front Loading Washing Machine (FHB1209Z4B)](https://www.reliancedigital.in/lg-9-kg-fully-automatic-front-loading-washing-machine-fhb1209z4b-platinum-black/p/494460088)** - ₹39,990.00\n",
            "2. **[LG 9 Kg Front Load Fully Automatic Washing Machine (FHV1409Z2M)](https://www.reliancedigital.in/lg-9-kg-front-load-fully-automatic-washing-machine-fhv1409z2m-middle-black/p/493620608)** - ₹40,990.00\n",
            "\n",
            "### Best Price\n",
            "The best price for the LG 9kg Front Load Washing Machine is **₹39,990.00** at Reliance Digital for the model **FHB1209Z4B**.\n"
          ]
        }
      ]
    }
  ],
  "metadata": {
    "colab": {
      "provenance": [],
      "include_colab_link": true
    },
    "kernelspec": {
      "display_name": "agentenv",
      "language": "python",
      "name": "python3"
    },
    "language_info": {
      "codemirror_mode": {
        "name": "ipython",
        "version": 3
      },
      "file_extension": ".py",
      "mimetype": "text/x-python",
      "name": "python",
      "nbconvert_exporter": "python",
      "pygments_lexer": "ipython3",
      "version": "3.13.1"
    }
  },
  "nbformat": 4,
  "nbformat_minor": 0
}