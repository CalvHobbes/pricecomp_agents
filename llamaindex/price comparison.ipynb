{
  "cells": [
    {
      "cell_type": "markdown",
      "metadata": {
        "id": "view-in-github",
        "colab_type": "text"
      },
      "source": [
        "<a href=\"https://colab.research.google.com/github/CalvHobbes/shop_india/blob/main/llamaindex/price%20comparison.ipynb\" target=\"_parent\"><img src=\"https://colab.research.google.com/assets/colab-badge.svg\" alt=\"Open In Colab\"/></a>"
      ]
    },
    {
      "cell_type": "code",
      "execution_count": 1,
      "metadata": {
        "colab": {
          "base_uri": "https://localhost:8080/"
        },
        "id": "hMS-Frhtdb3K",
        "outputId": "2ecf2c0b-3521-4b17-fd85-5ffbe1c14569"
      },
      "outputs": [
        {
          "output_type": "stream",
          "name": "stdout",
          "text": [
            "Requirement already satisfied: beautifulsoup4 in /usr/local/lib/python3.11/dist-packages (4.12.3)\n",
            "Requirement already satisfied: requests in /usr/local/lib/python3.11/dist-packages (2.32.3)\n",
            "Requirement already satisfied: soupsieve>1.2 in /usr/local/lib/python3.11/dist-packages (from beautifulsoup4) (2.6)\n",
            "Requirement already satisfied: charset-normalizer<4,>=2 in /usr/local/lib/python3.11/dist-packages (from requests) (3.4.1)\n",
            "Requirement already satisfied: idna<4,>=2.5 in /usr/local/lib/python3.11/dist-packages (from requests) (3.10)\n",
            "Requirement already satisfied: urllib3<3,>=1.21.1 in /usr/local/lib/python3.11/dist-packages (from requests) (2.3.0)\n",
            "Requirement already satisfied: certifi>=2017.4.17 in /usr/local/lib/python3.11/dist-packages (from requests) (2024.12.14)\n"
          ]
        }
      ],
      "source": [
        "!pip install beautifulsoup4 requests"
      ]
    },
    {
      "cell_type": "code",
      "source": [
        "# prompt: check if in colab environment and if so, fetch helper functions for tools\n",
        "\n",
        "import sys\n",
        "\n",
        "try:\n",
        "  import google.colab\n",
        "  IN_COLAB = True\n",
        "except:\n",
        "  IN_COLAB = False\n",
        "\n",
        "if IN_COLAB:\n",
        "  !wget https://raw.githubusercontent.com/CalvHobbes/shop_india/main/llamaindex/search_Croma.py\n",
        "  !wget https://raw.githubusercontent.com/CalvHobbes/shop_india/main/llamaindex/search_reliance.py\n"
      ],
      "metadata": {
        "colab": {
          "base_uri": "https://localhost:8080/"
        },
        "id": "no5PnrrNd4va",
        "outputId": "5093637e-1eaf-4181-b01b-0bc9b3bae091"
      },
      "execution_count": 2,
      "outputs": [
        {
          "output_type": "stream",
          "name": "stdout",
          "text": [
            "--2025-01-30 13:49:59--  https://raw.githubusercontent.com/CalvHobbes/shop_india/main/llamaindex/search_Croma.py\n",
            "Resolving raw.githubusercontent.com (raw.githubusercontent.com)... 185.199.108.133, 185.199.110.133, 185.199.111.133, ...\n",
            "Connecting to raw.githubusercontent.com (raw.githubusercontent.com)|185.199.108.133|:443... connected.\n",
            "HTTP request sent, awaiting response... 200 OK\n",
            "Length: 1811 (1.8K) [text/plain]\n",
            "Saving to: ‘search_Croma.py’\n",
            "\n",
            "search_Croma.py     100%[===================>]   1.77K  --.-KB/s    in 0s      \n",
            "\n",
            "2025-01-30 13:49:59 (24.5 MB/s) - ‘search_Croma.py’ saved [1811/1811]\n",
            "\n",
            "--2025-01-30 13:49:59--  https://raw.githubusercontent.com/CalvHobbes/shop_india/main/llamaindex/search_reliance.py\n",
            "Resolving raw.githubusercontent.com (raw.githubusercontent.com)... 185.199.108.133, 185.199.109.133, 185.199.110.133, ...\n",
            "Connecting to raw.githubusercontent.com (raw.githubusercontent.com)|185.199.108.133|:443... connected.\n",
            "HTTP request sent, awaiting response... 200 OK\n",
            "Length: 1460 (1.4K) [text/plain]\n",
            "Saving to: ‘search_reliance.py’\n",
            "\n",
            "search_reliance.py  100%[===================>]   1.43K  --.-KB/s    in 0s      \n",
            "\n",
            "2025-01-30 13:49:59 (21.9 MB/s) - ‘search_reliance.py’ saved [1460/1460]\n",
            "\n"
          ]
        }
      ]
    },
    {
      "cell_type": "code",
      "execution_count": null,
      "metadata": {
        "id": "oHVpzJGQdb3L"
      },
      "outputs": [],
      "source": [
        "# Import the necessary functions\n",
        "from search_Croma import fetch_prices_from_croma\n",
        "from search_reliance import fetch_prices_from_reliance\n",
        "import json\n",
        "\n",
        "def test_functions():\n",
        "  # Define the product query\n",
        "  query = \"iphone 16 pro max\"\n",
        "\n",
        "  # Fetch prices from Croma\n",
        "  croma_prices = fetch_prices_from_croma(query)\n",
        "  print(\"Croma Prices:\")\n",
        "  print(json.dumps(croma_prices, indent=4))\n",
        "\n",
        "  # Fetch prices from Reliance Digital\n",
        "  reliance_prices = fetch_prices_from_reliance(query)\n",
        "  print(\"Reliance Digital Prices:\")\n",
        "  print(json.dumps(reliance_prices, indent=4))\n",
        "\n",
        "\n",
        "# test_functions()\n",
        "\n",
        "\n",
        "\n"
      ]
    },
    {
      "cell_type": "code",
      "source": [
        "!pip install llama-index llama-index-llms-openai"
      ],
      "metadata": {
        "id": "xFOIHaGMgfn4"
      },
      "execution_count": null,
      "outputs": []
    },
    {
      "cell_type": "code",
      "source": [
        "from google.colab import userdata\n",
        "import os\n",
        "\n",
        "os.environ[\"OPENAI_API_KEY\"] = userdata.get('OPENAPI_KEY')"
      ],
      "metadata": {
        "id": "R8iwBoj3goli"
      },
      "execution_count": 9,
      "outputs": []
    },
    {
      "cell_type": "code",
      "source": [
        "\n",
        "croma_tool = FunctionTool.from_defaults(\n",
        "    fn=fetch_prices_from_croma,\n",
        "    name=\"fetch_prices_from_croma\",\n",
        "    description=\"Fetches prices for a product from Croma.\",\n",
        ")\n",
        "\n",
        "reliance_tool = FunctionTool.from_defaults(\n",
        "    fn=fetch_prices_from_reliance,\n",
        "    name=\"fetch_prices_from_reliance\",\n",
        "    description=\"Fetches prices for a product from Reliance Digital.\",\n",
        ")\n"
      ],
      "metadata": {
        "id": "fZifKj-XjOtN"
      },
      "execution_count": 12,
      "outputs": []
    },
    {
      "cell_type": "code",
      "source": [
        "from llama_index.core.tools import FunctionTool\n",
        "from llama_index.llms.openai import OpenAI\n",
        "\n",
        "# model = OpenAI(model=\"gpt-3.5-turbo\")\n",
        "model = OpenAI(model=\"gpt-4o-mini\")\n",
        "\n"
      ],
      "metadata": {
        "id": "yO9gkjhngq8S"
      },
      "execution_count": 19,
      "outputs": []
    },
    {
      "cell_type": "code",
      "source": [
        "from llama_index.agent.openai import OpenAIAgent\n",
        "\n",
        "instructions = '''\n",
        "You are an intelligent assistant tasked with analyzing and combining product price data by executing one or more tools available to you. to run the tools you must provide them the name of the product the user is searching.. Your goal is to identify the most relevant product prices and present them in a structured format.  Execute all applicable tools.Follow these steps:\n",
        "\n",
        "Combine Results: Analyze the product data from all websites. If product names or display names are slightly different but refer to the same product, use your judgment to group them together.\n",
        "\n",
        "Identify the Best Prices: For each product, compare the prices across all websites and order them in ascending order (lowest price first).\n",
        "\n",
        "Output Format: Present the results in the following structured format for each product:\n",
        "\n",
        "Product Name: The most accurate or common name for the product.\n",
        "\n",
        "For each store, include:\n",
        "\n",
        "Store Display Name: The name of the store.\n",
        "\n",
        "Product URL: A clickable link to the product page.\n",
        "\n",
        "Price: The price of the product at that store.\n",
        "\n",
        "Ensure the store-wise details are ordered by ascending price (cheapest first).\n",
        "\n",
        "Handle Ambiguities: If product names or details are unclear, use context to determine if they refer to the same product. If uncertain, list them separately.\n",
        "\n",
        "Sample Result:\n",
        "Product Name: Wireless Noise-Cancelling Headphones\n",
        "- Store: TechWorld, Product URL: [TechWorld Link], Price: $120\n",
        "- Store: GadgetHub, Product URL: [GadgetHub Link], Price: $125\n",
        "- Store: ElectroShop, Product URL: [ElectroShop Link], Price: $130\n",
        "\n",
        "'''\n",
        "\n",
        "# Initialize the OpenAIAgent with the tools and model\n",
        "agent = OpenAIAgent.from_tools(\n",
        "    [croma_tool, reliance_tool],\n",
        "    llm=model,\n",
        "    verbose=True,\n",
        "    instructions=instructions\n",
        ")\n"
      ],
      "metadata": {
        "id": "XYJZwCoNkml3"
      },
      "execution_count": 20,
      "outputs": []
    },
    {
      "cell_type": "code",
      "source": [
        "\n",
        "chat_history = []\n",
        "response = agent.chat(\"What is the best price for iphone 16 pro max?\", chat_history=chat_history)\n",
        "print(str(response))"
      ],
      "metadata": {
        "id": "VkBn33M8mGwz",
        "outputId": "d08936a9-d7d7-40ad-9c21-9a383752a6c7",
        "colab": {
          "base_uri": "https://localhost:8080/"
        }
      },
      "execution_count": 21,
      "outputs": [
        {
          "output_type": "stream",
          "name": "stdout",
          "text": [
            "Added user message to memory: What is the best price for iphone 16 pro max?\n",
            "=== Calling Function ===\n",
            "Calling function: fetch_prices_from_croma with args: {\"product\": \"iphone 16 pro max\"}\n",
            "Got output: [{'name': 'Apple iPhone 16 Pro Max (256GB, Desert Titanium)', 'url': 'https://www.croma.com/apple-iphone-16-pro-max-256gb-desert-titanium-/p/309746', 'price': 137900.0}, {'name': 'Apple iPhone 16 Pro Max (256GB, Natural Titanium)', 'url': 'https://www.croma.com/apple-iphone-16-pro-max-256gb-natural-titanium-/p/309747', 'price': 137900.0}, {'name': 'Apple iPhone 16 Pro Max (256GB, Black Titanium)', 'url': 'https://www.croma.com/apple-iphone-16-pro-max-256gb-black-titanium-/p/309742', 'price': 137900.0}, {'name': 'Apple iPhone 16 Pro Max (256GB, White Titanium)', 'url': 'https://www.croma.com/apple-iphone-16-pro-max-256gb-white-titanium-/p/309744', 'price': 137900.0}, {'name': 'Apple iPhone 16 Pro Max (512GB, Black Titanium)', 'url': 'https://www.croma.com/apple-iphone-16-pro-max-512gb-black-titanium-/p/309748', 'price': 157900.0}, {'name': 'Apple iPhone 16 Pro Max (1TB, Natural Titanium)', 'url': 'https://www.croma.com/apple-iphone-16-pro-max-1tb-natural-titanium-/p/309774', 'price': 177900.0}, {'name': 'Apple iPhone 16 Pro Max (1TB, Black Titanium)', 'url': 'https://www.croma.com/apple-iphone-16-pro-max-1tb-black-titanium-/p/309754', 'price': 177900.0}, {'name': 'Apple iPhone 16 Pro Max (512GB, Natural Titanium)', 'url': 'https://www.croma.com/apple-iphone-16-pro-max-512gb-natural-titanium-/p/309751', 'price': 157900.0}, {'name': 'Apple iPhone 16 Pro Max (512GB, Desert Titanium)', 'url': 'https://www.croma.com/apple-iphone-16-pro-max-512gb-desert-titanium-/p/309750', 'price': 157900.0}, {'name': 'Apple iPhone 16 Pro Max (1TB, White Titanium)', 'url': 'https://www.croma.com/apple-iphone-16-pro-max-1tb-white-titanium-/p/309771', 'price': 177900.0}, {'name': 'Apple iPhone 16 Pro Max (512GB, White Titanium)', 'url': 'https://www.croma.com/apple-iphone-16-pro-max-512gb-white-titanium-/p/309749', 'price': 157900.0}, {'name': 'Apple iPhone 16 Pro Max (1TB, Desert Titanium)', 'url': 'https://www.croma.com/apple-iphone-16-pro-max-1tb-desert-titanium-/p/309773', 'price': 177900.0}, {'name': 'Apple iPhone 16 Pro (128GB, Desert Titanium)', 'url': 'https://www.croma.com/apple-iphone-16-pro-128gb-desert-titanium-/p/309727', 'price': 112900.0}, {'name': 'Apple iPhone 16 Pro (256GB, Desert Titanium)', 'url': 'https://www.croma.com/apple-iphone-16-pro-256gb-desert-titanium-/p/309731', 'price': 122900.0}, {'name': 'Apple iPhone 16 Pro (256GB, Black Titanium)', 'url': 'https://www.croma.com/apple-iphone-16-pro-256gb-black-titanium-/p/309729', 'price': 122900.0}, {'name': 'Apple iPhone 16 Pro (128GB, Natural Titanium)', 'url': 'https://www.croma.com/apple-iphone-16-pro-128gb-natural-titanium-/p/309728', 'price': 112900.0}, {'name': 'Apple iPhone 16 Pro (256GB, Natural Titanium)', 'url': 'https://www.croma.com/apple-iphone-16-pro-256gb-natural-titanium-/p/309732', 'price': 122900.0}, {'name': 'Apple iPhone 16 Pro (128GB, Black Titanium)', 'url': 'https://www.croma.com/apple-iphone-16-pro-128gb-black-titanium-/p/309725', 'price': 112900.0}, {'name': 'Apple iPhone 16 Pro (256GB, White Titanium)', 'url': 'https://www.croma.com/apple-iphone-16-pro-256gb-white-titanium-/p/309730', 'price': 122900.0}, {'name': 'Apple iPhone 16 Pro (128GB, White Titanium)', 'url': 'https://www.croma.com/apple-iphone-16-pro-128gb-white-titanium-/p/309726', 'price': 112900.0}, {'name': 'Apple iPhone 16 Pro (512GB, Black Titanium)', 'url': 'https://www.croma.com/apple-iphone-16-pro-512gb-black-titanium-/p/309733', 'price': 142900.0}]\n",
            "========================\n",
            "\n",
            "=== Calling Function ===\n",
            "Calling function: fetch_prices_from_reliance with args: {\"product\": \"iphone 16 pro max\"}\n",
            "Got output: [{'name': 'Apple iPhone 16 Pro Max 1 TB, Desert Titanium', 'url': 'https://www.reliancedigital.in/apple-iphone-16-pro-max-1-tb-desert-titanium/p/494423069', 'price': '1,77,900.00'}, {'name': 'Apple iPhone 16 Pro Max 256 GB, Black Titanium', 'url': 'https://www.reliancedigital.in/apple-iphone-16-pro-max-256-gb-black-titanium/p/494423059', 'price': '1,37,900.00'}, {'name': 'Apple iPhone 16 Pro Max 256 GB, Natural Titanium', 'url': 'https://www.reliancedigital.in/apple-iphone-16-pro-max-256-gb-natural-titanium/p/494423062', 'price': '1,37,900.00'}, {'name': 'Apple iPhone 16 Pro Max 512 GB, Black Titanium', 'url': 'https://www.reliancedigital.in/apple-iphone-16-pro-max-512-gb-black-titanium/p/494423063', 'price': '1,57,900.00'}, {'name': 'Apple iPhone 16 Pro Max 512 GB, White Titanium', 'url': 'https://www.reliancedigital.in/apple-iphone-16-pro-max-512-gb-white-titanium/p/494423064', 'price': '1,57,900.00'}, {'name': 'Apple iPhone 16 Pro Max 512 GB, Natural Titanium', 'url': 'https://www.reliancedigital.in/apple-iphone-16-pro-max-512-gb-natural-titanium/p/494423066', 'price': '1,57,900.00'}, {'name': 'Apple iPhone 16 Pro Max 512 GB, Desert Titanium', 'url': 'https://www.reliancedigital.in/apple-iphone-16-pro-max-512-gb-desert-titanium/p/494423065', 'price': '1,57,900.00'}, {'name': 'Apple iPhone 16 Pro Max 1 TB, Black Titanium', 'url': 'https://www.reliancedigital.in/apple-iphone-16-pro-max-1-tb-black-titanium/p/494423067', 'price': '1,77,900.00'}, {'name': 'Apple iPhone 16 Pro Max 1 TB, White Titanium', 'url': 'https://www.reliancedigital.in/apple-iphone-16-pro-max-1-tb-white-titanium/p/494423068', 'price': '1,77,900.00'}, {'name': 'Apple iPhone 16 Pro Max 1 TB, Natural Titanium', 'url': 'https://www.reliancedigital.in/apple-iphone-16-pro-max-1-tb-natural-titanium/p/494423070', 'price': '1,77,900.00'}, {'name': 'Apple iPhone 16 Pro Max 256 GB, White Titanium', 'url': 'https://www.reliancedigital.in/apple-iphone-16-pro-max-256-gb-white-titanium/p/494423060', 'price': '1,37,900.00'}, {'name': 'Apple iPhone 16 Pro Max 256 GB, Desert Titanium', 'url': 'https://www.reliancedigital.in/apple-iphone-16-pro-max-256-gb-desert-titanium/p/494423061', 'price': '1,37,900.00'}, {'name': 'iPhone\\xa016 Pro Max Silicone Case with MagSafe, Fuchsia', 'url': 'https://www.reliancedigital.in/iphone-16-pro-max-silicone-case-with-magsafe-fuchsia/p/494423127', 'price': '3,920.00'}, {'name': 'iPhone 16 Pro Max Clear Mobile Case with MagSafe', 'url': 'https://www.reliancedigital.in/iphone-16-pro-max-clear-mobile-case-with-magsafe/p/494423096', 'price': '3,920.00'}, {'name': 'iPhone\\xa016 Pro Max Silicone Case with MagSafe, Black', 'url': 'https://www.reliancedigital.in/iphone-16-pro-max-silicone-case-with-magsafe-black/p/494423123', 'price': '3,920.00'}, {'name': 'iPhone\\xa016 Pro Max Silicone Case with MagSafe, Denim', 'url': 'https://www.reliancedigital.in/iphone-16-pro-max-silicone-case-with-magsafe-denim/p/494423124', 'price': '3,920.00'}, {'name': 'iPhone\\xa016 Pro Max Silicone Case with MagSafe, Plum', 'url': 'https://www.reliancedigital.in/iphone-16-pro-max-silicone-case-with-magsafe-plum/p/494423126', 'price': '3,920.00'}, {'name': 'iPhone\\xa016 Pro Max Silicone Case with MagSafe, Ultramarine', 'url': 'https://www.reliancedigital.in/iphone-16-pro-max-silicone-case-with-magsafe-ultramarine/p/494423128', 'price': '3,920.00'}, {'name': 'iPhone\\xa016 Pro Max Silicone Case with MagSafe, Stone Grey', 'url': 'https://www.reliancedigital.in/iphone-16-pro-max-silicone-case-with-magsafe-stone-grey/p/494423125', 'price': '4,900.00'}, {'name': 'iPhone\\xa016 Pro Max Silicone Mobile Case with MagSafe, Lake Green', 'url': 'https://www.reliancedigital.in/iphone-16-pro-max-silicone-mobile-case-with-magsafe-lake-green/p/494423098', 'price': '4,900.00'}, {'name': 'Belkin F8W911ZZ ScreenForce Tempered Glass for iPhone XS Max, iPhone 11 Pro Max', 'url': 'https://www.reliancedigital.in/belkin-f8w911zz-screenforce-tempered-glass-for-iphone-xs-max-iphone-11-pro-max/p/491550758', 'price': '794.00'}, {'name': 'iPhone 15 Pro Max Silicone Mobile Case Pink', 'url': 'https://www.reliancedigital.in/iphone-15-pro-max-silicone-mobile-case-pink/p/494352798', 'price': '3,900.00'}, {'name': 'iPhone 15 Pro Max Silicone Mobile Case Sunshine', 'url': 'https://www.reliancedigital.in/iphone-15-pro-max-silicone-mobile-case-sunshine/p/494352799', 'price': '3,900.00'}, {'name': 'Apple iPhone 15 Pro Max 1TB, White Titanium', 'url': 'https://www.reliancedigital.in/apple-iphone-15-pro-max-1tb-white-titanium/p/493839364', 'price': '1,74,900.00'}]\n",
            "========================\n",
            "\n",
            "Here are the best prices for the iPhone 16 Pro Max from Croma and Reliance Digital:\n",
            "\n",
            "### Croma\n",
            "1. **Apple iPhone 16 Pro Max (256GB, Desert Titanium)** - ₹137,900\n",
            "   - [View Product](https://www.croma.com/apple-iphone-16-pro-max-256gb-desert-titanium-/p/309746)\n",
            "2. **Apple iPhone 16 Pro Max (256GB, Natural Titanium)** - ₹137,900\n",
            "   - [View Product](https://www.croma.com/apple-iphone-16-pro-max-256gb-natural-titanium-/p/309747)\n",
            "3. **Apple iPhone 16 Pro Max (256GB, Black Titanium)** - ₹137,900\n",
            "   - [View Product](https://www.croma.com/apple-iphone-16-pro-max-256gb-black-titanium-/p/309742)\n",
            "4. **Apple iPhone 16 Pro Max (256GB, White Titanium)** - ₹137,900\n",
            "   - [View Product](https://www.croma.com/apple-iphone-16-pro-max-256gb-white-titanium-/p/309744)\n",
            "\n",
            "### Reliance Digital\n",
            "1. **Apple iPhone 16 Pro Max 256 GB, Black Titanium** - ₹137,900\n",
            "   - [View Product](https://www.reliancedigital.in/apple-iphone-16-pro-max-256-gb-black-titanium/p/494423059)\n",
            "2. **Apple iPhone 16 Pro Max 256 GB, Natural Titanium** - ₹137,900\n",
            "   - [View Product](https://www.reliancedigital.in/apple-iphone-16-pro-max-256-gb-natural-titanium/p/494423062)\n",
            "3. **Apple iPhone 16 Pro Max 256 GB, White Titanium** - ₹137,900\n",
            "   - [View Product](https://www.reliancedigital.in/apple-iphone-16-pro-max-256-gb-white-titanium/p/494423060)\n",
            "4. **Apple iPhone 16 Pro Max 256 GB, Desert Titanium** - ₹137,900\n",
            "   - [View Product](https://www.reliancedigital.in/apple-iphone-16-pro-max-256-gb-desert-titanium/p/494423061)\n",
            "\n",
            "### Summary\n",
            "The best price for the iPhone 16 Pro Max (256GB) is ₹137,900, available at both Croma and Reliance Digital.\n"
          ]
        }
      ]
    }
  ],
  "metadata": {
    "kernelspec": {
      "display_name": "agentenv",
      "language": "python",
      "name": "python3"
    },
    "language_info": {
      "codemirror_mode": {
        "name": "ipython",
        "version": 3
      },
      "file_extension": ".py",
      "mimetype": "text/x-python",
      "name": "python",
      "nbconvert_exporter": "python",
      "pygments_lexer": "ipython3",
      "version": "3.13.1"
    },
    "colab": {
      "provenance": [],
      "include_colab_link": true
    }
  },
  "nbformat": 4,
  "nbformat_minor": 0
}