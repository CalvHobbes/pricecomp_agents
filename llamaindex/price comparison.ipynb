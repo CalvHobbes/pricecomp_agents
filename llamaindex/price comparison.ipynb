{
  "cells": [
    {
      "cell_type": "markdown",
      "metadata": {
        "id": "view-in-github",
        "colab_type": "text"
      },
      "source": [
        "<a href=\"https://colab.research.google.com/github/CalvHobbes/shop_india/blob/main/llamaindex/price%20comparison.ipynb\" target=\"_parent\"><img src=\"https://colab.research.google.com/assets/colab-badge.svg\" alt=\"Open In Colab\"/></a>"
      ]
    },
    {
      "cell_type": "code",
      "execution_count": 1,
      "metadata": {
        "colab": {
          "base_uri": "https://localhost:8080/"
        },
        "id": "hMS-Frhtdb3K",
        "outputId": "2ecf2c0b-3521-4b17-fd85-5ffbe1c14569"
      },
      "outputs": [
        {
          "output_type": "stream",
          "name": "stdout",
          "text": [
            "Requirement already satisfied: beautifulsoup4 in /usr/local/lib/python3.11/dist-packages (4.12.3)\n",
            "Requirement already satisfied: requests in /usr/local/lib/python3.11/dist-packages (2.32.3)\n",
            "Requirement already satisfied: soupsieve>1.2 in /usr/local/lib/python3.11/dist-packages (from beautifulsoup4) (2.6)\n",
            "Requirement already satisfied: charset-normalizer<4,>=2 in /usr/local/lib/python3.11/dist-packages (from requests) (3.4.1)\n",
            "Requirement already satisfied: idna<4,>=2.5 in /usr/local/lib/python3.11/dist-packages (from requests) (3.10)\n",
            "Requirement already satisfied: urllib3<3,>=1.21.1 in /usr/local/lib/python3.11/dist-packages (from requests) (2.3.0)\n",
            "Requirement already satisfied: certifi>=2017.4.17 in /usr/local/lib/python3.11/dist-packages (from requests) (2024.12.14)\n"
          ]
        }
      ],
      "source": [
        "!pip install beautifulsoup4 requests"
      ]
    },
    {
      "cell_type": "code",
      "source": [
        "import nest_asyncio\n",
        "\n",
        "nest_asyncio.apply()"
      ],
      "metadata": {
        "id": "mJjmprjgxoIv"
      },
      "execution_count": 41,
      "outputs": []
    },
    {
      "cell_type": "code",
      "source": [
        "# prompt: check if in colab environment and if so, fetch helper functions for tools\n",
        "\n",
        "import sys\n",
        "\n",
        "try:\n",
        "  import google.colab\n",
        "  IN_COLAB = True\n",
        "except:\n",
        "  IN_COLAB = False\n",
        "\n",
        "if IN_COLAB:\n",
        "  !wget https://raw.githubusercontent.com/CalvHobbes/shop_india/main/llamaindex/search_Croma.py\n",
        "  !wget https://raw.githubusercontent.com/CalvHobbes/shop_india/main/llamaindex/search_reliance.py\n"
      ],
      "metadata": {
        "colab": {
          "base_uri": "https://localhost:8080/"
        },
        "id": "no5PnrrNd4va",
        "outputId": "5093637e-1eaf-4181-b01b-0bc9b3bae091"
      },
      "execution_count": 2,
      "outputs": [
        {
          "output_type": "stream",
          "name": "stdout",
          "text": [
            "--2025-01-30 13:49:59--  https://raw.githubusercontent.com/CalvHobbes/shop_india/main/llamaindex/search_Croma.py\n",
            "Resolving raw.githubusercontent.com (raw.githubusercontent.com)... 185.199.108.133, 185.199.110.133, 185.199.111.133, ...\n",
            "Connecting to raw.githubusercontent.com (raw.githubusercontent.com)|185.199.108.133|:443... connected.\n",
            "HTTP request sent, awaiting response... 200 OK\n",
            "Length: 1811 (1.8K) [text/plain]\n",
            "Saving to: ‘search_Croma.py’\n",
            "\n",
            "search_Croma.py     100%[===================>]   1.77K  --.-KB/s    in 0s      \n",
            "\n",
            "2025-01-30 13:49:59 (24.5 MB/s) - ‘search_Croma.py’ saved [1811/1811]\n",
            "\n",
            "--2025-01-30 13:49:59--  https://raw.githubusercontent.com/CalvHobbes/shop_india/main/llamaindex/search_reliance.py\n",
            "Resolving raw.githubusercontent.com (raw.githubusercontent.com)... 185.199.108.133, 185.199.109.133, 185.199.110.133, ...\n",
            "Connecting to raw.githubusercontent.com (raw.githubusercontent.com)|185.199.108.133|:443... connected.\n",
            "HTTP request sent, awaiting response... 200 OK\n",
            "Length: 1460 (1.4K) [text/plain]\n",
            "Saving to: ‘search_reliance.py’\n",
            "\n",
            "search_reliance.py  100%[===================>]   1.43K  --.-KB/s    in 0s      \n",
            "\n",
            "2025-01-30 13:49:59 (21.9 MB/s) - ‘search_reliance.py’ saved [1460/1460]\n",
            "\n"
          ]
        }
      ]
    },
    {
      "cell_type": "code",
      "execution_count": null,
      "metadata": {
        "id": "oHVpzJGQdb3L"
      },
      "outputs": [],
      "source": [
        "# Import the necessary functions\n",
        "from search_Croma import fetch_prices_from_croma\n",
        "from search_reliance import fetch_prices_from_reliance\n",
        "import json\n",
        "\n",
        "def test_functions():\n",
        "  # Define the product query\n",
        "  query = \"iphone 16 pro max\"\n",
        "\n",
        "  # Fetch prices from Croma\n",
        "  croma_prices = fetch_prices_from_croma(query)\n",
        "  print(\"Croma Prices:\")\n",
        "  print(json.dumps(croma_prices, indent=4))\n",
        "\n",
        "  # Fetch prices from Reliance Digital\n",
        "  reliance_prices = fetch_prices_from_reliance(query)\n",
        "  print(\"Reliance Digital Prices:\")\n",
        "  print(json.dumps(reliance_prices, indent=4))\n",
        "\n",
        "\n",
        "# test_functions()\n",
        "\n",
        "\n",
        "\n"
      ]
    },
    {
      "cell_type": "code",
      "source": [
        "!pip install llama-index llama-index-llms-openai"
      ],
      "metadata": {
        "id": "xFOIHaGMgfn4"
      },
      "execution_count": null,
      "outputs": []
    },
    {
      "cell_type": "code",
      "source": [
        "from google.colab import userdata\n",
        "import os\n",
        "\n",
        "os.environ[\"OPENAI_API_KEY\"] = userdata.get('OPENAPI_KEY')"
      ],
      "metadata": {
        "id": "R8iwBoj3goli"
      },
      "execution_count": 9,
      "outputs": []
    },
    {
      "cell_type": "code",
      "source": [
        "\n",
        "croma_tool = FunctionTool.from_defaults(\n",
        "    fn=fetch_prices_from_croma,\n",
        "    name=\"fetch_prices_from_croma\",\n",
        "    description=\"Fetches prices for a product from Croma.\",\n",
        ")\n",
        "\n",
        "reliance_tool = FunctionTool.from_defaults(\n",
        "    fn=fetch_prices_from_reliance,\n",
        "    name=\"fetch_prices_from_reliance\",\n",
        "    description=\"Fetches prices for a product from Reliance Digital.\",\n",
        ")\n"
      ],
      "metadata": {
        "id": "fZifKj-XjOtN"
      },
      "execution_count": 12,
      "outputs": []
    },
    {
      "cell_type": "code",
      "source": [
        "from llama_index.core.tools import FunctionTool\n",
        "from llama_index.llms.openai import OpenAI\n",
        "\n",
        "# model = OpenAI(model=\"gpt-3.5-turbo\")\n",
        "model = OpenAI(model=\"gpt-4o-mini\")\n",
        "\n"
      ],
      "metadata": {
        "id": "yO9gkjhngq8S"
      },
      "execution_count": 19,
      "outputs": []
    },
    {
      "cell_type": "code",
      "source": [
        "instructions = '''\n",
        "You are an intelligent assistant tasked with analyzing and combining product price data by executing one or more tools available to you. to run the tools you must provide them the name of the product the user is searching.. Your goal is to identify the most relevant product prices and present them in a structured format.  Execute all applicable tools.Follow these steps:\n",
        "\n",
        "Combine Results: Analyze the product data from all websites. If product names or display names are slightly different but refer to the same product, use your judgment to group them together.\n",
        "\n",
        "Identify the Best Prices: For each product, compare the prices across all websites and order them in ascending order (lowest price first).\n",
        "\n",
        "Output Format: Present the results in the following structured format for each product:\n",
        "\n",
        "Product Name: The most accurate or common name for the product.\n",
        "\n",
        "For each store, include:\n",
        "\n",
        "Store Display Name: The name of the store.\n",
        "\n",
        "Product URL: A clickable link to the product page.\n",
        "\n",
        "Price: The price of the product at that store.\n",
        "\n",
        "Ensure the store-wise details are ordered by ascending price (cheapest first).\n",
        "\n",
        "Handle Ambiguities: If product names or details are unclear, use context to determine if they refer to the same product. If uncertain, list them separately.\n",
        "\n",
        "Sample Result:\n",
        "Product Name: Wireless Noise-Cancelling Headphones\n",
        "- Store: TechWorld, Product URL: [TechWorld Link], Price: $120\n",
        "- Store: GadgetHub, Product URL: [GadgetHub Link], Price: $125\n",
        "- Store: ElectroShop, Product URL: [ElectroShop Link], Price: $130\n",
        "\n",
        "'''"
      ],
      "metadata": {
        "id": "6Fpvpo1Xqi4Y"
      },
      "execution_count": 28,
      "outputs": []
    },
    {
      "cell_type": "code",
      "source": [
        "# Use low level API - AgentWorker and AgentRunner\n",
        "# Gives more control,can use non OpenAI model\n",
        "from llama_index.core.agent import FunctionCallingAgentWorker\n",
        "from llama_index.core.agent import AgentRunner\n",
        "from typing import List, Tuple\n",
        "\n",
        "class PriceCompAgentWorker(FunctionCallingAgentWorker):\n",
        "       def __init__(self, llm, tools, **kwargs):\n",
        "           super().__init__(llm=llm, tools=tools, **kwargs)\n",
        "           self.system_prompt = kwargs.get(\"system_prompt\")\n",
        "\n",
        "       async def call_llm_with_tools(\n",
        "           self,\n",
        "           prompt: str,\n",
        "           tool_strings: List[str],\n",
        "           verbose: bool = False,\n",
        "       ) -> Tuple[str, str]:\n",
        "           # Prepend system prompt to the user prompt\n",
        "           full_prompt = f\"{self.system_prompt}\\n\\n{prompt}\"\n",
        "\n",
        "           # Call the LLM with the combined prompt and tool strings\n",
        "           response, tool_code = await self.llm.apredict_and_call(\n",
        "               full_prompt, tool_strings=tool_strings\n",
        "           )\n",
        "           return response, tool_code\n",
        "\n",
        "\n",
        "agent_worker = PriceCompAgentWorker.from_tools(\n",
        "    [croma_tool, reliance_tool],\n",
        "    llm=model,\n",
        "    system_prompt=instructions,\n",
        "    verbose=True\n",
        "\n",
        ")\n",
        "agent_runner = AgentRunner(agent_worker)"
      ],
      "metadata": {
        "id": "MSF2t9hyqIFs"
      },
      "execution_count": 33,
      "outputs": []
    },
    {
      "cell_type": "code",
      "source": [
        "from IPython.display import display, Markdown\n",
        "chat_history = []\n",
        "response = agent_runner.chat(\"What is the best price for LG 9kg  Front Load Washing Machine?\", chat_history=chat_history)\n",
        "display(Markdown(response.response))"
      ],
      "metadata": {
        "colab": {
          "base_uri": "https://localhost:8080/",
          "height": 1000
        },
        "id": "1GEvEQajs1RE",
        "outputId": "3223bab6-a82c-438d-e77d-6f47b4f0364e"
      },
      "execution_count": 34,
      "outputs": [
        {
          "output_type": "stream",
          "name": "stdout",
          "text": [
            "Added user message to memory: What is the best price for LG 9kg  Front Load Washing Machine?\n",
            "=== Calling Function ===\n",
            "Calling function: fetch_prices_from_croma with args: {\"product\": \"LG 9kg Front Load Washing Machine\"}\n",
            "=== Function Output ===\n",
            "[{'name': 'LG 9kg 5 Star Fully Automatic Front Load Washing Machine (FHV1409Z4M.ABMQEIL, LG ThinQ with Wi-Fi, Middle Black)', 'url': 'https://www.croma.com/lg-9kg-5-star-fully-automatic-front-load-washing-machine-fhv1409z4m-abmqeil-lg-thinq-with-wi-fi-middle-black-/p/260606', 'price': 43990.0}, {'name': 'LG 9 kg 5 Star Wi-Fi Inverter Fully Automatic Front Load Washing Machine (FHB1209Z4B, Auto Restart, Platinum Black)', 'url': 'https://www.croma.com/lg-9-kg-5-star-wi-fi-inverter-fully-automatic-front-load-washing-machine-fhb1209z4b-auto-restart-platinum-black-/p/311332', 'price': 45990.0}, {'name': 'LG 9 kg 5 Star Inverter Fully Automatic Front Load Washing Machine (Vivace Pro, FHP1209Z5M.AMBQEIL, AI Direct Drive Technology, Middle Black)', 'url': 'https://www.croma.com/lg-9-kg-5-star-inverter-fully-automatic-front-load-washing-machine-vivace-pro-fhp1209z5m-ambqeil-ai-direct-drive-technology-middle-black-/p/301441', 'price': 45990.0}, {'name': 'LG 9 Kg 5 Star Inverter Fully Automatic Front Load Washing Machine (FHP1209Z9B.ABLQEIL, In-built Heater, Steam Plus, Black)', 'url': 'https://www.croma.com/lg-9-kg-5-star-inverter-fully-automatic-front-load-washing-machine-fhp1209z9b-ablqeil-in-built-heater-steam-plus-black-/p/270905', 'price': 44990.0}, {'name': 'LG 9/5 kg 5 Star Fully Automatic Front Load Washer Dryer(FHD0905STB.ABLQEIL, In-built Heater, Black)', 'url': 'https://www.croma.com/lg-9-5-kg-5-star-fully-automatic-front-load-washer-dryer-fhd0905stb-ablqeil-in-built-heater-black-/p/274043', 'price': 55490.0}, {'name': 'LG 11 kg 5 Star Inverter Fully Automatic Front Load Washing Machine (FHP1411Z9B.ABLQEIL, Steam Wash Technology, Black)', 'url': 'https://www.croma.com/lg-11-kg-5-star-inverter-fully-automatic-front-load-washing-machine-fhp1411z9b-ablqeil-steam-wash-technology-black-/p/253429', 'price': 57490.0}, {'name': 'LG 10 kg 5 Star Fully Automatic Front Load Washing Machine (FHP1410Z7P.APSQEIL, Smart Diagnosis, Platinum Silver)', 'url': 'https://www.croma.com/lg-10-kg-5-star-fully-automatic-front-load-washing-machine-fhp1410z7p-apsqeil-smart-diagnosis-platinum-silver-/p/260607', 'price': 49990.0}, {'name': 'LG 8 kg 5 Star Fully Automatic Front Load Washing Machine (FHV1408Z2M.ABMQEIL, AI Direct Drive Motor, Middle Black)', 'url': 'https://www.croma.com/lg-8-kg-5-star-fully-automatic-front-load-washing-machine-fhv1408z2m-abmqeil-ai-direct-drive-motor-middle-black-/p/260925', 'price': 39760.0}, {'name': 'LG 8 kg 5 Star Inverter Fully Automatic Front Load Washing Machine (FHP1208Z3W, AI Direct Drive Technology, White)', 'url': 'https://www.croma.com/lg-8-kg-5-star-inverter-fully-automatic-front-load-washing-machine-fhp1208z3w-ai-direct-drive-technology-white-/p/301446', 'price': 39990.0}, {'name': 'LG 21/12 kg 5 Star Inverter Fully Automatic Front Load Washer Dryer (FHD2112STB.ABLPEIL, Steam Wash Technology, Black VCM)', 'url': 'https://www.croma.com/lg-21-12-kg-5-star-inverter-fully-automatic-front-load-washer-dryer-fhd2112stb-ablpeil-steam-wash-technology-black-vcm-/p/245951', 'price': 121240.0}, {'name': 'LG 7 kg 5 Star Wi-Fi Inverter Fully Automatic Front Load Washing Machine (FHB1207Z4M, Auto Restart, Middle Black)', 'url': 'https://www.croma.com/lg-7-kg-5-star-wi-fi-inverter-fully-automatic-front-load-washing-machine-fhb1207z4m-auto-restart-middle-black-/p/310960', 'price': 35990.0}, {'name': 'LG 8 Kg 5 Star Inverter Fully Automatic Front Load Washing Machine (FHP1208A5M.AMBQEIL, In-built Heater, Middle Black)', 'url': 'https://www.croma.com/lg-8-kg-5-star-inverter-fully-automatic-front-load-washing-machine-fhp1208a5m-ambqeil-in-built-heater-middle-black-/p/270904', 'price': 39990.0}, {'name': 'LG Vivace 11 kg/7 kg 5 Star Fully Automatic Front Load Washer Dryer Combo (AI Direct Drive Technology, FHD1107STB.ABLQEIL, Black VCM)', 'url': 'https://www.croma.com/lg-vivace-11-kg-7-kg-5-star-fully-automatic-front-load-washer-dryer-combo-ai-direct-drive-technology-fhd1107stb-ablqeil-black-vcm-/p/301183', 'price': 62990.0}, {'name': 'LG WashTower 13 kg/10 kg Fully Automatic Front Load Washer Dryer Combo (AI Direct Drive, FWT1310BG.ABGQEIL, Green and Beige)', 'url': 'https://www.croma.com/lg-washtower-13-kg-10-kg-fully-automatic-front-load-washer-dryer-combo-ai-direct-drive-fwt1310bg-abgqeil-green-and-beige-/p/302793', 'price': 179990.0}, {'name': 'LG 7 Kg 5 Star Inverter Fully Automatic Front Load Washing Machine (FHV1207Z4M, Built-In Heater, Middle Black)', 'url': 'https://www.croma.com/lg-7-kg-5-star-inverter-fully-automatic-front-load-washing-machine-fhv1207z4m-built-in-heater-middle-black-/p/260605', 'price': 35990.0}, {'name': 'LG 8 kg 5 Star Wi-Fi Inverter Fully Automatic Front Load Washing Machine (FHB1208Z4P, Smart Diagnosis, Platinum Silver)', 'url': 'https://www.croma.com/lg-8-kg-5-star-wi-fi-inverter-fully-automatic-front-load-washing-machine-fhb1208z4p-smart-diagnosis-platinum-silver-/p/310973', 'price': 46490.0}, {'name': 'LG 15/8 kg 5 Star Fully Automatic Front Load Washer Dryer(FHD1508STB.ABLQEIL, AI Direct Drive, Black VCM)', 'url': 'https://www.croma.com/lg-15-8-kg-5-star-fully-automatic-front-load-washer-dryer-fhd1508stb-ablqeil-ai-direct-drive-black-vcm-/p/268165', 'price': 86990.0}, {'name': 'LG 7 kg 5 Star Inverter Fully Automatic Front Load Washing Machine (FHV1207Z2W, In-built Heater, White)', 'url': 'https://www.croma.com/lg-7-kg-5-star-inverter-fully-automatic-front-load-washing-machine-fhv1207z2w-in-built-heater-white-/p/275876', 'price': 31500.0}, {'name': 'LG 13 kg Wi-Fi Inverter Fully Automatic Front Load Washing Machine (FHD1308STB, AI Direct Drive, Black)', 'url': 'https://www.croma.com/lg-13-kg-wi-fi-inverter-fully-automatic-front-load-washing-machine-fhd1308stb-ai-direct-drive-black-/p/306986', 'price': 89990.0}, {'name': 'LG 6.5 kg 5 Star Inverter Fully Automatic Front Load Washing Machine (FHM1065SDWB, In-built Heater, White)', 'url': 'https://www.croma.com/lg-6-5-kg-5-star-inverter-fully-automatic-front-load-washing-machine-fhm1065sdwb-in-built-heater-white-/p/275875', 'price': 28500.0}, {'name': 'LG 13 kg 5 Star Wi-Fi Inverter Fully Automatic Front Load Washing Machine (FHP1413Z7M, AI Direct Drive, Middle Black)', 'url': 'https://www.croma.com/lg-13-kg-5-star-wi-fi-inverter-fully-automatic-front-load-washing-machine-fhp1413z7m-ai-direct-drive-middle-black-/p/306987', 'price': 59990.0}]\n",
            "=== Calling Function ===\n",
            "Calling function: fetch_prices_from_reliance with args: {\"product\": \"LG 9kg Front Load Washing Machine\"}\n",
            "=== Function Output ===\n",
            "[{'name': 'LG 8 Kg Front Fully Automatic Washing Machine with 6 Motion Control Technology, FHM1208ZDL', 'url': 'https://www.reliancedigital.in/lg-8-kg-front-fully-automatic-washing-machine-with-6-motion-control-technology-fhm1208zdl/p/491892024', 'price': '39,390.00'}, {'name': 'LG 11 Kg Front Loading Fully Automatic Washing Machine, FHD1107STB', 'url': 'https://www.reliancedigital.in/lg-11-kg-front-loading-fully-automatic-washing-machine-fhd1107stb/p/494226802', 'price': '62,990.00'}, {'name': 'LG 13 Kg Front Loading Fully Automatic Washing Machine, FHP1413Z7M', 'url': 'https://www.reliancedigital.in/lg-13-kg-front-loading-fully-automatic-washing-machine-fhp1413z7m/p/494338702', 'price': '57,990.00'}, {'name': 'LG 9 Kg Fully Automatic Front Loading Washing Machine, FHB1209Z4B, Platinum Black', 'url': 'https://www.reliancedigital.in/lg-9-kg-fully-automatic-front-loading-washing-machine-fhb1209z4b-platinum-black/p/494460088', 'price': '39,990.00'}, {'name': 'LG 8 Kg Fully Automatic Front Loading Washing Machine, FHB1208Z4P, Platinum Silver', 'url': 'https://www.reliancedigital.in/lg-8-kg-fully-automatic-front-loading-washing-machine-fhb1208z4p-platinum-silver/p/494460087', 'price': '37,990.00'}, {'name': 'LG 10 Kg Front Loading Fully Automatic Washing Machine, FHP1410Z7P, Platinum Silver', 'url': 'https://www.reliancedigital.in/lg-10-kg-front-loading-fully-automatic-washing-machine-fhp1410z7p-platinum-silver/p/492911184', 'price': '51,990.00'}, {'name': 'LG 9 Kg Front Load Fully Automatic Washing Machine, FHV1409Z2M, Middle Black', 'url': 'https://www.reliancedigital.in/lg-9-kg-front-load-fully-automatic-washing-machine-fhv1409z2m-middle-black/p/493620608', 'price': '40,990.00'}, {'name': 'LG  13-10 kg Fully Automatic Front Loading Washing Machine Beige Green, FWT1310BG', 'url': 'https://www.reliancedigital.in/lg-13-10-kg-fully-automatic-front-loading-washing-machine-beige-green-fwt1310bg/p/494338391', 'price': '1,69,990.00'}, {'name': 'LG 9/5 Kg Fully Automatic Front Loading Washing Machine (FHD0905STB, Black VCM)', 'url': 'https://www.reliancedigital.in/lg-9-5-kg-fully-automatic-front-loading-washing-machine-fhd0905stb-black-vcm-/p/493858872', 'price': '54,490.00'}, {'name': 'LG 7 kg Fully Automatic Front Loading Washing Machine, Inverter Direct Drive, Middle Black, FHB1207Z2MA', 'url': 'https://www.reliancedigital.in/lg-7-kg-fully-automatic-front-loading-washing-machine-inverter-direct-drive-middle-black-fhb1207z2ma/p/494460028', 'price': '32,490.00'}, {'name': 'LG 15 Kg Washer and 8 Kg Dryer Front Load Fully Automatic Washing Machine, FHD1508STB, Black VCM', 'url': 'https://www.reliancedigital.in/lg-15-kg-washer-and-8-kg-dryer-front-load-fully-automatic-washing-machine-fhd1508stb-black-vcm/p/493627368', 'price': '84,990.00'}]\n",
            "=== LLM Response ===\n",
            "Here are the best prices for the LG 9kg Front Load Washing Machine:\n",
            "\n",
            "### Product Name: LG 9kg Front Load Washing Machine\n",
            "\n",
            "- **Store:** Reliance Digital  \n",
            "  **Product URL:** [LG 9 Kg Fully Automatic Front Loading Washing Machine, FHB1209Z4B, Platinum Black](https://www.reliancedigital.in/lg-9-kg-fully-automatic-front-loading-washing-machine-fhb1209z4b-platinum-black/p/494460088)  \n",
            "  **Price:** ₹39,990.00\n",
            "\n",
            "- **Store:** Reliance Digital  \n",
            "  **Product URL:** [LG 9 Kg Front Load Fully Automatic Washing Machine, FHV1409Z2M, Middle Black](https://www.reliancedigital.in/lg-9-kg-front-load-fully-automatic-washing-machine-fhv1409z2m-middle-black/p/493620608)  \n",
            "  **Price:** ₹40,990.00\n",
            "\n",
            "- **Store:** Croma  \n",
            "  **Product URL:** [LG 9kg 5 Star Fully Automatic Front Load Washing Machine (FHV1409Z4M.ABMQEIL, LG ThinQ with Wi-Fi, Middle Black)](https://www.croma.com/lg-9kg-5-star-fully-automatic-front-load-washing-machine-fhv1409z4m-abmqeil-lg-thinq-with-wi-fi-middle-black-/p/260606)  \n",
            "  **Price:** ₹43,990.00\n",
            "\n",
            "- **Store:** Croma  \n",
            "  **Product URL:** [LG 9 kg 5 Star Inverter Fully Automatic Front Load Washing Machine (FHP1209Z9B.ABLQEIL, In-built Heater, Steam Plus, Black)](https://www.croma.com/lg-9-kg-5-star-inverter-fully-automatic-front-load-washing-machine-fhp1209z9b-ablqeil-in-built-heater-steam-plus-black-/p/270905)  \n",
            "  **Price:** ₹44,990.00\n",
            "\n",
            "- **Store:** Croma  \n",
            "  **Product URL:** [LG 9 kg 5 Star Wi-Fi Inverter Fully Automatic Front Load Washing Machine (FHB1209Z4B, Auto Restart, Platinum Black)](https://www.croma.com/lg-9-kg-5-star-wi-fi-inverter-fully-automatic-front-load-washing-machine-fhb1209z4b-auto-restart-platinum-black-/p/311332)  \n",
            "  **Price:** ₹45,990.00\n",
            "\n",
            "### Summary\n",
            "The best price for the LG 9kg Front Load Washing Machine is ₹39,990.00 at Reliance Digital for the model FHB1209Z4B.\n"
          ]
        },
        {
          "output_type": "display_data",
          "data": {
            "text/plain": [
              "<IPython.core.display.Markdown object>"
            ],
            "text/markdown": "Here are the best prices for the LG 9kg Front Load Washing Machine:\n\n### Product Name: LG 9kg Front Load Washing Machine\n\n- **Store:** Reliance Digital  \n  **Product URL:** [LG 9 Kg Fully Automatic Front Loading Washing Machine, FHB1209Z4B, Platinum Black](https://www.reliancedigital.in/lg-9-kg-fully-automatic-front-loading-washing-machine-fhb1209z4b-platinum-black/p/494460088)  \n  **Price:** ₹39,990.00\n\n- **Store:** Reliance Digital  \n  **Product URL:** [LG 9 Kg Front Load Fully Automatic Washing Machine, FHV1409Z2M, Middle Black](https://www.reliancedigital.in/lg-9-kg-front-load-fully-automatic-washing-machine-fhv1409z2m-middle-black/p/493620608)  \n  **Price:** ₹40,990.00\n\n- **Store:** Croma  \n  **Product URL:** [LG 9kg 5 Star Fully Automatic Front Load Washing Machine (FHV1409Z4M.ABMQEIL, LG ThinQ with Wi-Fi, Middle Black)](https://www.croma.com/lg-9kg-5-star-fully-automatic-front-load-washing-machine-fhv1409z4m-abmqeil-lg-thinq-with-wi-fi-middle-black-/p/260606)  \n  **Price:** ₹43,990.00\n\n- **Store:** Croma  \n  **Product URL:** [LG 9 kg 5 Star Inverter Fully Automatic Front Load Washing Machine (FHP1209Z9B.ABLQEIL, In-built Heater, Steam Plus, Black)](https://www.croma.com/lg-9-kg-5-star-inverter-fully-automatic-front-load-washing-machine-fhp1209z9b-ablqeil-in-built-heater-steam-plus-black-/p/270905)  \n  **Price:** ₹44,990.00\n\n- **Store:** Croma  \n  **Product URL:** [LG 9 kg 5 Star Wi-Fi Inverter Fully Automatic Front Load Washing Machine (FHB1209Z4B, Auto Restart, Platinum Black)](https://www.croma.com/lg-9-kg-5-star-wi-fi-inverter-fully-automatic-front-load-washing-machine-fhb1209z4b-auto-restart-platinum-black-/p/311332)  \n  **Price:** ₹45,990.00\n\n### Summary\nThe best price for the LG 9kg Front Load Washing Machine is ₹39,990.00 at Reliance Digital for the model FHB1209Z4B."
          },
          "metadata": {}
        }
      ]
    },
    {
      "cell_type": "code",
      "source": [
        "# Same thing using ReActAgent\n",
        "from llama_index.core.agent import ReActAgent\n",
        "from llama_index.core.agent.react import ReActChatFormatter\n",
        "\n",
        "agent = ReActAgent.from_tools(\n",
        "    [croma_tool, reliance_tool],\n",
        "    llm=model,\n",
        "    verbose=True,\n",
        "    instructions=instructions,\n",
        "    react_chat_formatter=ReActChatFormatter.from_defaults(\n",
        "        context=instructions\n",
        "    )\n",
        ")\n"
      ],
      "metadata": {
        "id": "5nuAgD64vOZ6"
      },
      "execution_count": 38,
      "outputs": []
    },
    {
      "cell_type": "code",
      "source": [
        "response = agent_runner.chat(\"What is the best price for LG 9kg  Front Load Washing Machine?\", chat_history=chat_history)\n",
        "display(Markdown(response.response))"
      ],
      "metadata": {
        "colab": {
          "base_uri": "https://localhost:8080/",
          "height": 1000
        },
        "id": "sLid7ICpw2hz",
        "outputId": "6ce0f0da-e9ae-4180-fb84-5a9f1be12d94"
      },
      "execution_count": 40,
      "outputs": [
        {
          "output_type": "stream",
          "name": "stdout",
          "text": [
            "Added user message to memory: What is the best price for LG 9kg  Front Load Washing Machine?\n",
            "=== Calling Function ===\n",
            "Calling function: fetch_prices_from_croma with args: {\"product\": \"LG 9kg Front Load Washing Machine\"}\n",
            "=== Function Output ===\n",
            "[{'name': 'LG 9kg 5 Star Fully Automatic Front Load Washing Machine (FHV1409Z4M.ABMQEIL, LG ThinQ with Wi-Fi, Middle Black)', 'url': 'https://www.croma.com/lg-9kg-5-star-fully-automatic-front-load-washing-machine-fhv1409z4m-abmqeil-lg-thinq-with-wi-fi-middle-black-/p/260606', 'price': 43990.0}, {'name': 'LG 9 kg 5 Star Wi-Fi Inverter Fully Automatic Front Load Washing Machine (FHB1209Z4B, Auto Restart, Platinum Black)', 'url': 'https://www.croma.com/lg-9-kg-5-star-wi-fi-inverter-fully-automatic-front-load-washing-machine-fhb1209z4b-auto-restart-platinum-black-/p/311332', 'price': 45990.0}, {'name': 'LG 9 kg 5 Star Inverter Fully Automatic Front Load Washing Machine (Vivace Pro, FHP1209Z5M.AMBQEIL, AI Direct Drive Technology, Middle Black)', 'url': 'https://www.croma.com/lg-9-kg-5-star-inverter-fully-automatic-front-load-washing-machine-vivace-pro-fhp1209z5m-ambqeil-ai-direct-drive-technology-middle-black-/p/301441', 'price': 45990.0}, {'name': 'LG 9 Kg 5 Star Inverter Fully Automatic Front Load Washing Machine (FHP1209Z9B.ABLQEIL, In-built Heater, Steam Plus, Black)', 'url': 'https://www.croma.com/lg-9-kg-5-star-inverter-fully-automatic-front-load-washing-machine-fhp1209z9b-ablqeil-in-built-heater-steam-plus-black-/p/270905', 'price': 44990.0}, {'name': 'LG 9/5 kg 5 Star Fully Automatic Front Load Washer Dryer(FHD0905STB.ABLQEIL, In-built Heater, Black)', 'url': 'https://www.croma.com/lg-9-5-kg-5-star-fully-automatic-front-load-washer-dryer-fhd0905stb-ablqeil-in-built-heater-black-/p/274043', 'price': 55490.0}, {'name': 'LG 11 kg 5 Star Inverter Fully Automatic Front Load Washing Machine (FHP1411Z9B.ABLQEIL, Steam Wash Technology, Black)', 'url': 'https://www.croma.com/lg-11-kg-5-star-inverter-fully-automatic-front-load-washing-machine-fhp1411z9b-ablqeil-steam-wash-technology-black-/p/253429', 'price': 57490.0}, {'name': 'LG 10 kg 5 Star Fully Automatic Front Load Washing Machine (FHP1410Z7P.APSQEIL, Smart Diagnosis, Platinum Silver)', 'url': 'https://www.croma.com/lg-10-kg-5-star-fully-automatic-front-load-washing-machine-fhp1410z7p-apsqeil-smart-diagnosis-platinum-silver-/p/260607', 'price': 49990.0}, {'name': 'LG 8 kg 5 Star Fully Automatic Front Load Washing Machine (FHV1408Z2M.ABMQEIL, AI Direct Drive Motor, Middle Black)', 'url': 'https://www.croma.com/lg-8-kg-5-star-fully-automatic-front-load-washing-machine-fhv1408z2m-abmqeil-ai-direct-drive-motor-middle-black-/p/260925', 'price': 39760.0}, {'name': 'LG 8 kg 5 Star Inverter Fully Automatic Front Load Washing Machine (FHP1208Z3W, AI Direct Drive Technology, White)', 'url': 'https://www.croma.com/lg-8-kg-5-star-inverter-fully-automatic-front-load-washing-machine-fhp1208z3w-ai-direct-drive-technology-white-/p/301446', 'price': 39990.0}, {'name': 'LG 21/12 kg 5 Star Inverter Fully Automatic Front Load Washer Dryer (FHD2112STB.ABLPEIL, Steam Wash Technology, Black VCM)', 'url': 'https://www.croma.com/lg-21-12-kg-5-star-inverter-fully-automatic-front-load-washer-dryer-fhd2112stb-ablpeil-steam-wash-technology-black-vcm-/p/245951', 'price': 121240.0}, {'name': 'LG 7 kg 5 Star Wi-Fi Inverter Fully Automatic Front Load Washing Machine (FHB1207Z4M, Auto Restart, Middle Black)', 'url': 'https://www.croma.com/lg-7-kg-5-star-wi-fi-inverter-fully-automatic-front-load-washing-machine-fhb1207z4m-auto-restart-middle-black-/p/310960', 'price': 35990.0}, {'name': 'LG 8 Kg 5 Star Inverter Fully Automatic Front Load Washing Machine (FHP1208A5M.AMBQEIL, In-built Heater, Middle Black)', 'url': 'https://www.croma.com/lg-8-kg-5-star-inverter-fully-automatic-front-load-washing-machine-fhp1208a5m-ambqeil-in-built-heater-middle-black-/p/270904', 'price': 39990.0}, {'name': 'LG Vivace 11 kg/7 kg 5 Star Fully Automatic Front Load Washer Dryer Combo (AI Direct Drive Technology, FHD1107STB.ABLQEIL, Black VCM)', 'url': 'https://www.croma.com/lg-vivace-11-kg-7-kg-5-star-fully-automatic-front-load-washer-dryer-combo-ai-direct-drive-technology-fhd1107stb-ablqeil-black-vcm-/p/301183', 'price': 62990.0}, {'name': 'LG WashTower 13 kg/10 kg Fully Automatic Front Load Washer Dryer Combo (AI Direct Drive, FWT1310BG.ABGQEIL, Green and Beige)', 'url': 'https://www.croma.com/lg-washtower-13-kg-10-kg-fully-automatic-front-load-washer-dryer-combo-ai-direct-drive-fwt1310bg-abgqeil-green-and-beige-/p/302793', 'price': 179990.0}, {'name': 'LG 7 Kg 5 Star Inverter Fully Automatic Front Load Washing Machine (FHV1207Z4M, Built-In Heater, Middle Black)', 'url': 'https://www.croma.com/lg-7-kg-5-star-inverter-fully-automatic-front-load-washing-machine-fhv1207z4m-built-in-heater-middle-black-/p/260605', 'price': 35990.0}, {'name': 'LG 8 kg 5 Star Wi-Fi Inverter Fully Automatic Front Load Washing Machine (FHB1208Z4P, Smart Diagnosis, Platinum Silver)', 'url': 'https://www.croma.com/lg-8-kg-5-star-wi-fi-inverter-fully-automatic-front-load-washing-machine-fhb1208z4p-smart-diagnosis-platinum-silver-/p/310973', 'price': 46490.0}, {'name': 'LG 15/8 kg 5 Star Fully Automatic Front Load Washer Dryer(FHD1508STB.ABLQEIL, AI Direct Drive, Black VCM)', 'url': 'https://www.croma.com/lg-15-8-kg-5-star-fully-automatic-front-load-washer-dryer-fhd1508stb-ablqeil-ai-direct-drive-black-vcm-/p/268165', 'price': 86990.0}, {'name': 'LG 7 kg 5 Star Inverter Fully Automatic Front Load Washing Machine (FHV1207Z2W, In-built Heater, White)', 'url': 'https://www.croma.com/lg-7-kg-5-star-inverter-fully-automatic-front-load-washing-machine-fhv1207z2w-in-built-heater-white-/p/275876', 'price': 31500.0}, {'name': 'LG 13 kg Wi-Fi Inverter Fully Automatic Front Load Washing Machine (FHD1308STB, AI Direct Drive, Black)', 'url': 'https://www.croma.com/lg-13-kg-wi-fi-inverter-fully-automatic-front-load-washing-machine-fhd1308stb-ai-direct-drive-black-/p/306986', 'price': 89990.0}, {'name': 'LG 6.5 kg 5 Star Inverter Fully Automatic Front Load Washing Machine (FHM1065SDWB, In-built Heater, White)', 'url': 'https://www.croma.com/lg-6-5-kg-5-star-inverter-fully-automatic-front-load-washing-machine-fhm1065sdwb-in-built-heater-white-/p/275875', 'price': 28500.0}, {'name': 'LG 13 kg 5 Star Wi-Fi Inverter Fully Automatic Front Load Washing Machine (FHP1413Z7M, AI Direct Drive, Middle Black)', 'url': 'https://www.croma.com/lg-13-kg-5-star-wi-fi-inverter-fully-automatic-front-load-washing-machine-fhp1413z7m-ai-direct-drive-middle-black-/p/306987', 'price': 59990.0}]\n",
            "=== Calling Function ===\n",
            "Calling function: fetch_prices_from_reliance with args: {\"product\": \"LG 9kg Front Load Washing Machine\"}\n",
            "=== Function Output ===\n",
            "[{'name': 'LG 8 Kg Front Fully Automatic Washing Machine with 6 Motion Control Technology, FHM1208ZDL', 'url': 'https://www.reliancedigital.in/lg-8-kg-front-fully-automatic-washing-machine-with-6-motion-control-technology-fhm1208zdl/p/491892024', 'price': '39,390.00'}, {'name': 'LG 11 Kg Front Loading Fully Automatic Washing Machine, FHD1107STB', 'url': 'https://www.reliancedigital.in/lg-11-kg-front-loading-fully-automatic-washing-machine-fhd1107stb/p/494226802', 'price': '62,990.00'}, {'name': 'LG 13 Kg Front Loading Fully Automatic Washing Machine, FHP1413Z7M', 'url': 'https://www.reliancedigital.in/lg-13-kg-front-loading-fully-automatic-washing-machine-fhp1413z7m/p/494338702', 'price': '57,990.00'}, {'name': 'LG 9 Kg Fully Automatic Front Loading Washing Machine, FHB1209Z4B, Platinum Black', 'url': 'https://www.reliancedigital.in/lg-9-kg-fully-automatic-front-loading-washing-machine-fhb1209z4b-platinum-black/p/494460088', 'price': '39,990.00'}, {'name': 'LG 8 Kg Fully Automatic Front Loading Washing Machine, FHB1208Z4P, Platinum Silver', 'url': 'https://www.reliancedigital.in/lg-8-kg-fully-automatic-front-loading-washing-machine-fhb1208z4p-platinum-silver/p/494460087', 'price': '37,990.00'}, {'name': 'LG 10 Kg Front Loading Fully Automatic Washing Machine, FHP1410Z7P, Platinum Silver', 'url': 'https://www.reliancedigital.in/lg-10-kg-front-loading-fully-automatic-washing-machine-fhp1410z7p-platinum-silver/p/492911184', 'price': '51,990.00'}, {'name': 'LG 9 Kg Front Load Fully Automatic Washing Machine, FHV1409Z2M, Middle Black', 'url': 'https://www.reliancedigital.in/lg-9-kg-front-load-fully-automatic-washing-machine-fhv1409z2m-middle-black/p/493620608', 'price': '40,990.00'}, {'name': 'LG  13-10 kg Fully Automatic Front Loading Washing Machine Beige Green, FWT1310BG', 'url': 'https://www.reliancedigital.in/lg-13-10-kg-fully-automatic-front-loading-washing-machine-beige-green-fwt1310bg/p/494338391', 'price': '1,69,990.00'}, {'name': 'LG 9/5 Kg Fully Automatic Front Loading Washing Machine (FHD0905STB, Black VCM)', 'url': 'https://www.reliancedigital.in/lg-9-5-kg-fully-automatic-front-loading-washing-machine-fhd0905stb-black-vcm-/p/493858872', 'price': '54,490.00'}, {'name': 'LG 7 kg Fully Automatic Front Loading Washing Machine, Inverter Direct Drive, Middle Black, FHB1207Z2MA', 'url': 'https://www.reliancedigital.in/lg-7-kg-fully-automatic-front-loading-washing-machine-inverter-direct-drive-middle-black-fhb1207z2ma/p/494460028', 'price': '32,490.00'}, {'name': 'LG 15 Kg Washer and 8 Kg Dryer Front Load Fully Automatic Washing Machine, FHD1508STB, Black VCM', 'url': 'https://www.reliancedigital.in/lg-15-kg-washer-and-8-kg-dryer-front-load-fully-automatic-washing-machine-fhd1508stb-black-vcm/p/493627368', 'price': '84,990.00'}]\n",
            "=== LLM Response ===\n",
            "Here are the best prices for the LG 9kg Front Load Washing Machine:\n",
            "\n",
            "### Product Name: LG 9kg Front Load Washing Machine\n",
            "\n",
            "- **Store:** Reliance Digital  \n",
            "  **Product URL:** [LG 9 Kg Fully Automatic Front Loading Washing Machine, FHB1209Z4B, Platinum Black](https://www.reliancedigital.in/lg-9-kg-fully-automatic-front-loading-washing-machine-fhb1209z4b-platinum-black/p/494460088)  \n",
            "  **Price:** ₹39,990.00\n",
            "\n",
            "- **Store:** Reliance Digital  \n",
            "  **Product URL:** [LG 9 Kg Front Load Fully Automatic Washing Machine, FHV1409Z2M, Middle Black](https://www.reliancedigital.in/lg-9-kg-front-load-fully-automatic-washing-machine-fhv1409z2m-middle-black/p/493620608)  \n",
            "  **Price:** ₹40,990.00\n",
            "\n",
            "- **Store:** Croma  \n",
            "  **Product URL:** [LG 9kg 5 Star Fully Automatic Front Load Washing Machine (FHV1409Z4M.ABMQEIL, LG ThinQ with Wi-Fi, Middle Black)](https://www.croma.com/lg-9kg-5-star-fully-automatic-front-load-washing-machine-fhv1409z4m-abmqeil-lg-thinq-with-wi-fi-middle-black-/p/260606)  \n",
            "  **Price:** ₹43,990.00\n",
            "\n",
            "- **Store:** Croma  \n",
            "  **Product URL:** [LG 9 Kg 5 Star Inverter Fully Automatic Front Load Washing Machine (FHP1209Z9B.ABLQEIL, In-built Heater, Steam Plus, Black)](https://www.croma.com/lg-9-kg-5-star-inverter-fully-automatic-front-load-washing-machine-fhp1209z9b-ablqeil-in-built-heater-steam-plus-black-/p/270905)  \n",
            "  **Price:** ₹44,990.00\n",
            "\n",
            "- **Store:** Croma  \n",
            "  **Product URL:** [LG 9 kg 5 Star Wi-Fi Inverter Fully Automatic Front Load Washing Machine (FHB1209Z4B, Auto Restart, Platinum Black)](https://www.croma.com/lg-9-kg-5-star-wi-fi-inverter-fully-automatic-front-load-washing-machine-fhb1209z4b-auto-restart-platinum-black-/p/311332)  \n",
            "  **Price:** ₹45,990.00\n",
            "\n",
            "- **Store:** Croma  \n",
            "  **Product URL:** [LG 9/5 kg 5 Star Fully Automatic Front Load Washer Dryer(FHD0905STB.ABLQEIL, In-built Heater, Black)](https://www.croma.com/lg-9-5-kg-5-star-fully-automatic-front-load-washer-dryer-fhd0905stb-ablqeil-in-built-heater-black-/p/274043)  \n",
            "  **Price:** ₹55,490.00\n",
            "\n",
            "This structured format provides a clear comparison of the best prices available for the LG 9kg Front Load Washing Machine across different stores.\n"
          ]
        },
        {
          "output_type": "display_data",
          "data": {
            "text/plain": [
              "<IPython.core.display.Markdown object>"
            ],
            "text/markdown": "Here are the best prices for the LG 9kg Front Load Washing Machine:\n\n### Product Name: LG 9kg Front Load Washing Machine\n\n- **Store:** Reliance Digital  \n  **Product URL:** [LG 9 Kg Fully Automatic Front Loading Washing Machine, FHB1209Z4B, Platinum Black](https://www.reliancedigital.in/lg-9-kg-fully-automatic-front-loading-washing-machine-fhb1209z4b-platinum-black/p/494460088)  \n  **Price:** ₹39,990.00\n\n- **Store:** Reliance Digital  \n  **Product URL:** [LG 9 Kg Front Load Fully Automatic Washing Machine, FHV1409Z2M, Middle Black](https://www.reliancedigital.in/lg-9-kg-front-load-fully-automatic-washing-machine-fhv1409z2m-middle-black/p/493620608)  \n  **Price:** ₹40,990.00\n\n- **Store:** Croma  \n  **Product URL:** [LG 9kg 5 Star Fully Automatic Front Load Washing Machine (FHV1409Z4M.ABMQEIL, LG ThinQ with Wi-Fi, Middle Black)](https://www.croma.com/lg-9kg-5-star-fully-automatic-front-load-washing-machine-fhv1409z4m-abmqeil-lg-thinq-with-wi-fi-middle-black-/p/260606)  \n  **Price:** ₹43,990.00\n\n- **Store:** Croma  \n  **Product URL:** [LG 9 Kg 5 Star Inverter Fully Automatic Front Load Washing Machine (FHP1209Z9B.ABLQEIL, In-built Heater, Steam Plus, Black)](https://www.croma.com/lg-9-kg-5-star-inverter-fully-automatic-front-load-washing-machine-fhp1209z9b-ablqeil-in-built-heater-steam-plus-black-/p/270905)  \n  **Price:** ₹44,990.00\n\n- **Store:** Croma  \n  **Product URL:** [LG 9 kg 5 Star Wi-Fi Inverter Fully Automatic Front Load Washing Machine (FHB1209Z4B, Auto Restart, Platinum Black)](https://www.croma.com/lg-9-kg-5-star-wi-fi-inverter-fully-automatic-front-load-washing-machine-fhb1209z4b-auto-restart-platinum-black-/p/311332)  \n  **Price:** ₹45,990.00\n\n- **Store:** Croma  \n  **Product URL:** [LG 9/5 kg 5 Star Fully Automatic Front Load Washer Dryer(FHD0905STB.ABLQEIL, In-built Heater, Black)](https://www.croma.com/lg-9-5-kg-5-star-fully-automatic-front-load-washer-dryer-fhd0905stb-ablqeil-in-built-heater-black-/p/274043)  \n  **Price:** ₹55,490.00\n\nThis structured format provides a clear comparison of the best prices available for the LG 9kg Front Load Washing Machine across different stores."
          },
          "metadata": {}
        }
      ]
    },
    {
      "cell_type": "code",
      "source": [
        "from llama_index.agent.openai import OpenAIAgent\n",
        "\n",
        "\n",
        "# Initialize the OpenAIAgent with the tools and model - OpenAIAgent is a higher level of abstraction as compared\n",
        "# to using FunctionCallingAgentWorker with AgentRunner\n",
        "agent = OpenAIAgent.from_tools(\n",
        "    [croma_tool, reliance_tool],\n",
        "    llm=model,\n",
        "    verbose=True,\n",
        "    instructions=instructions\n",
        ")\n"
      ],
      "metadata": {
        "id": "XYJZwCoNkml3"
      },
      "execution_count": 20,
      "outputs": []
    },
    {
      "cell_type": "code",
      "source": [
        "from IPython.display import display, Markdown\n",
        "\n",
        "chat_history = []\n",
        "response = agent.chat(\"What is the best price for LG 9kg  Front Load Washing Machine?\", chat_history=chat_history)\n",
        "display(Markdown(response.response))"
      ],
      "metadata": {
        "colab": {
          "base_uri": "https://localhost:8080/",
          "height": 528
        },
        "id": "VkBn33M8mGwz",
        "outputId": "b36eb197-059f-487a-9b39-e64f3840bf16"
      },
      "execution_count": 27,
      "outputs": [
        {
          "output_type": "stream",
          "name": "stdout",
          "text": [
            "Added user message to memory: What is the best price for LG 9kg  Front Load Washing Machine?\n",
            "=== Calling Function ===\n",
            "Calling function: fetch_prices_from_croma with args: {\"product\": \"LG 9kg Front Load Washing Machine\"}\n",
            "Got output: [{'name': 'LG 9kg 5 Star Fully Automatic Front Load Washing Machine (FHV1409Z4M.ABMQEIL, LG ThinQ with Wi-Fi, Middle Black)', 'url': 'https://www.croma.com/lg-9kg-5-star-fully-automatic-front-load-washing-machine-fhv1409z4m-abmqeil-lg-thinq-with-wi-fi-middle-black-/p/260606', 'price': 43990.0}, {'name': 'LG 9 kg 5 Star Wi-Fi Inverter Fully Automatic Front Load Washing Machine (FHB1209Z4B, Auto Restart, Platinum Black)', 'url': 'https://www.croma.com/lg-9-kg-5-star-wi-fi-inverter-fully-automatic-front-load-washing-machine-fhb1209z4b-auto-restart-platinum-black-/p/311332', 'price': 45990.0}, {'name': 'LG 9 kg 5 Star Inverter Fully Automatic Front Load Washing Machine (Vivace Pro, FHP1209Z5M.AMBQEIL, AI Direct Drive Technology, Middle Black)', 'url': 'https://www.croma.com/lg-9-kg-5-star-inverter-fully-automatic-front-load-washing-machine-vivace-pro-fhp1209z5m-ambqeil-ai-direct-drive-technology-middle-black-/p/301441', 'price': 45990.0}, {'name': 'LG 9 Kg 5 Star Inverter Fully Automatic Front Load Washing Machine (FHP1209Z9B.ABLQEIL, In-built Heater, Steam Plus, Black)', 'url': 'https://www.croma.com/lg-9-kg-5-star-inverter-fully-automatic-front-load-washing-machine-fhp1209z9b-ablqeil-in-built-heater-steam-plus-black-/p/270905', 'price': 44990.0}, {'name': 'LG 9/5 kg 5 Star Fully Automatic Front Load Washer Dryer(FHD0905STB.ABLQEIL, In-built Heater, Black)', 'url': 'https://www.croma.com/lg-9-5-kg-5-star-fully-automatic-front-load-washer-dryer-fhd0905stb-ablqeil-in-built-heater-black-/p/274043', 'price': 55490.0}, {'name': 'LG 11 kg 5 Star Inverter Fully Automatic Front Load Washing Machine (FHP1411Z9B.ABLQEIL, Steam Wash Technology, Black)', 'url': 'https://www.croma.com/lg-11-kg-5-star-inverter-fully-automatic-front-load-washing-machine-fhp1411z9b-ablqeil-steam-wash-technology-black-/p/253429', 'price': 57490.0}, {'name': 'LG 10 kg 5 Star Fully Automatic Front Load Washing Machine (FHP1410Z7P.APSQEIL, Smart Diagnosis, Platinum Silver)', 'url': 'https://www.croma.com/lg-10-kg-5-star-fully-automatic-front-load-washing-machine-fhp1410z7p-apsqeil-smart-diagnosis-platinum-silver-/p/260607', 'price': 49990.0}, {'name': 'LG 8 kg 5 Star Fully Automatic Front Load Washing Machine (FHV1408Z2M.ABMQEIL, AI Direct Drive Motor, Middle Black)', 'url': 'https://www.croma.com/lg-8-kg-5-star-fully-automatic-front-load-washing-machine-fhv1408z2m-abmqeil-ai-direct-drive-motor-middle-black-/p/260925', 'price': 39760.0}, {'name': 'LG 8 kg 5 Star Inverter Fully Automatic Front Load Washing Machine (FHP1208Z3W, AI Direct Drive Technology, White)', 'url': 'https://www.croma.com/lg-8-kg-5-star-inverter-fully-automatic-front-load-washing-machine-fhp1208z3w-ai-direct-drive-technology-white-/p/301446', 'price': 39990.0}, {'name': 'LG 21/12 kg 5 Star Inverter Fully Automatic Front Load Washer Dryer (FHD2112STB.ABLPEIL, Steam Wash Technology, Black VCM)', 'url': 'https://www.croma.com/lg-21-12-kg-5-star-inverter-fully-automatic-front-load-washer-dryer-fhd2112stb-ablpeil-steam-wash-technology-black-vcm-/p/245951', 'price': 121240.0}, {'name': 'LG 7 kg 5 Star Wi-Fi Inverter Fully Automatic Front Load Washing Machine (FHB1207Z4M, Auto Restart, Middle Black)', 'url': 'https://www.croma.com/lg-7-kg-5-star-wi-fi-inverter-fully-automatic-front-load-washing-machine-fhb1207z4m-auto-restart-middle-black-/p/310960', 'price': 35990.0}, {'name': 'LG 8 Kg 5 Star Inverter Fully Automatic Front Load Washing Machine (FHP1208A5M.AMBQEIL, In-built Heater, Middle Black)', 'url': 'https://www.croma.com/lg-8-kg-5-star-inverter-fully-automatic-front-load-washing-machine-fhp1208a5m-ambqeil-in-built-heater-middle-black-/p/270904', 'price': 39990.0}, {'name': 'LG Vivace 11 kg/7 kg 5 Star Fully Automatic Front Load Washer Dryer Combo (AI Direct Drive Technology, FHD1107STB.ABLQEIL, Black VCM)', 'url': 'https://www.croma.com/lg-vivace-11-kg-7-kg-5-star-fully-automatic-front-load-washer-dryer-combo-ai-direct-drive-technology-fhd1107stb-ablqeil-black-vcm-/p/301183', 'price': 62990.0}, {'name': 'LG WashTower 13 kg/10 kg Fully Automatic Front Load Washer Dryer Combo (AI Direct Drive, FWT1310BG.ABGQEIL, Green and Beige)', 'url': 'https://www.croma.com/lg-washtower-13-kg-10-kg-fully-automatic-front-load-washer-dryer-combo-ai-direct-drive-fwt1310bg-abgqeil-green-and-beige-/p/302793', 'price': 179990.0}, {'name': 'LG 7 Kg 5 Star Inverter Fully Automatic Front Load Washing Machine (FHV1207Z4M, Built-In Heater, Middle Black)', 'url': 'https://www.croma.com/lg-7-kg-5-star-inverter-fully-automatic-front-load-washing-machine-fhv1207z4m-built-in-heater-middle-black-/p/260605', 'price': 35990.0}, {'name': 'LG 8 kg 5 Star Wi-Fi Inverter Fully Automatic Front Load Washing Machine (FHB1208Z4P, Smart Diagnosis, Platinum Silver)', 'url': 'https://www.croma.com/lg-8-kg-5-star-wi-fi-inverter-fully-automatic-front-load-washing-machine-fhb1208z4p-smart-diagnosis-platinum-silver-/p/310973', 'price': 46490.0}, {'name': 'LG 15/8 kg 5 Star Fully Automatic Front Load Washer Dryer(FHD1508STB.ABLQEIL, AI Direct Drive, Black VCM)', 'url': 'https://www.croma.com/lg-15-8-kg-5-star-fully-automatic-front-load-washer-dryer-fhd1508stb-ablqeil-ai-direct-drive-black-vcm-/p/268165', 'price': 86990.0}, {'name': 'LG 7 kg 5 Star Inverter Fully Automatic Front Load Washing Machine (FHV1207Z2W, In-built Heater, White)', 'url': 'https://www.croma.com/lg-7-kg-5-star-inverter-fully-automatic-front-load-washing-machine-fhv1207z2w-in-built-heater-white-/p/275876', 'price': 31500.0}, {'name': 'LG 13 kg Wi-Fi Inverter Fully Automatic Front Load Washing Machine (FHD1308STB, AI Direct Drive, Black)', 'url': 'https://www.croma.com/lg-13-kg-wi-fi-inverter-fully-automatic-front-load-washing-machine-fhd1308stb-ai-direct-drive-black-/p/306986', 'price': 89990.0}, {'name': 'LG 6.5 kg 5 Star Inverter Fully Automatic Front Load Washing Machine (FHM1065SDWB, In-built Heater, White)', 'url': 'https://www.croma.com/lg-6-5-kg-5-star-inverter-fully-automatic-front-load-washing-machine-fhm1065sdwb-in-built-heater-white-/p/275875', 'price': 28500.0}, {'name': 'LG 13 kg 5 Star Wi-Fi Inverter Fully Automatic Front Load Washing Machine (FHP1413Z7M, AI Direct Drive, Middle Black)', 'url': 'https://www.croma.com/lg-13-kg-5-star-wi-fi-inverter-fully-automatic-front-load-washing-machine-fhp1413z7m-ai-direct-drive-middle-black-/p/306987', 'price': 59990.0}]\n",
            "========================\n",
            "\n",
            "=== Calling Function ===\n",
            "Calling function: fetch_prices_from_reliance with args: {\"product\": \"LG 9kg Front Load Washing Machine\"}\n",
            "Got output: [{'name': 'LG 8 Kg Front Fully Automatic Washing Machine with 6 Motion Control Technology, FHM1208ZDL', 'url': 'https://www.reliancedigital.in/lg-8-kg-front-fully-automatic-washing-machine-with-6-motion-control-technology-fhm1208zdl/p/491892024', 'price': '39,390.00'}, {'name': 'LG 11 Kg Front Loading Fully Automatic Washing Machine, FHD1107STB', 'url': 'https://www.reliancedigital.in/lg-11-kg-front-loading-fully-automatic-washing-machine-fhd1107stb/p/494226802', 'price': '62,990.00'}, {'name': 'LG 13 Kg Front Loading Fully Automatic Washing Machine, FHP1413Z7M', 'url': 'https://www.reliancedigital.in/lg-13-kg-front-loading-fully-automatic-washing-machine-fhp1413z7m/p/494338702', 'price': '57,990.00'}, {'name': 'LG 9 Kg Fully Automatic Front Loading Washing Machine, FHB1209Z4B, Platinum Black', 'url': 'https://www.reliancedigital.in/lg-9-kg-fully-automatic-front-loading-washing-machine-fhb1209z4b-platinum-black/p/494460088', 'price': '39,990.00'}, {'name': 'LG 8 Kg Fully Automatic Front Loading Washing Machine, FHB1208Z4P, Platinum Silver', 'url': 'https://www.reliancedigital.in/lg-8-kg-fully-automatic-front-loading-washing-machine-fhb1208z4p-platinum-silver/p/494460087', 'price': '37,990.00'}, {'name': 'LG 10 Kg Front Loading Fully Automatic Washing Machine, FHP1410Z7P, Platinum Silver', 'url': 'https://www.reliancedigital.in/lg-10-kg-front-loading-fully-automatic-washing-machine-fhp1410z7p-platinum-silver/p/492911184', 'price': '51,990.00'}, {'name': 'LG 9 Kg Front Load Fully Automatic Washing Machine, FHV1409Z2M, Middle Black', 'url': 'https://www.reliancedigital.in/lg-9-kg-front-load-fully-automatic-washing-machine-fhv1409z2m-middle-black/p/493620608', 'price': '40,990.00'}, {'name': 'LG  13-10 kg Fully Automatic Front Loading Washing Machine Beige Green, FWT1310BG', 'url': 'https://www.reliancedigital.in/lg-13-10-kg-fully-automatic-front-loading-washing-machine-beige-green-fwt1310bg/p/494338391', 'price': '1,69,990.00'}, {'name': 'LG 9/5 Kg Fully Automatic Front Loading Washing Machine (FHD0905STB, Black VCM)', 'url': 'https://www.reliancedigital.in/lg-9-5-kg-fully-automatic-front-loading-washing-machine-fhd0905stb-black-vcm-/p/493858872', 'price': '54,490.00'}, {'name': 'LG 7 kg Fully Automatic Front Loading Washing Machine, Inverter Direct Drive, Middle Black, FHB1207Z2MA', 'url': 'https://www.reliancedigital.in/lg-7-kg-fully-automatic-front-loading-washing-machine-inverter-direct-drive-middle-black-fhb1207z2ma/p/494460028', 'price': '32,490.00'}, {'name': 'LG 15 Kg Washer and 8 Kg Dryer Front Load Fully Automatic Washing Machine, FHD1508STB, Black VCM', 'url': 'https://www.reliancedigital.in/lg-15-kg-washer-and-8-kg-dryer-front-load-fully-automatic-washing-machine-fhd1508stb-black-vcm/p/493627368', 'price': '84,990.00'}]\n",
            "========================\n",
            "\n"
          ]
        },
        {
          "output_type": "display_data",
          "data": {
            "text/plain": [
              "<IPython.core.display.Markdown object>"
            ],
            "text/markdown": "Here are the best prices for the LG 9kg Front Load Washing Machine from Croma and Reliance Digital:\n\n### Croma\n1. **[LG 9kg 5 Star Fully Automatic Front Load Washing Machine (FHV1409Z4M.ABMQEIL, LG ThinQ with Wi-Fi, Middle Black)](https://www.croma.com/lg-9kg-5-star-fully-automatic-front-load-washing-machine-fhv1409z4m-abmqeil-lg-thinq-with-wi-fi-middle-black-/p/260606)** - ₹43,990.00\n2. **[LG 9 kg 5 Star Wi-Fi Inverter Fully Automatic Front Load Washing Machine (FHB1209Z4B, Auto Restart, Platinum Black)](https://www.croma.com/lg-9-kg-5-star-wi-fi-inverter-fully-automatic-front-load-washing-machine-fhb1209z4b-auto-restart-platinum-black-/p/311332)** - ₹45,990.00\n3. **[LG 9 Kg 5 Star Inverter Fully Automatic Front Load Washing Machine (FHP1209Z9B.ABLQEIL, In-built Heater, Steam Plus, Black)](https://www.croma.com/lg-9-kg-5-star-inverter-fully-automatic-front-load-washing-machine-fhp1209z9b-ablqeil-in-built-heater-steam-plus-black-/p/270905)** - ₹44,990.00\n\n### Reliance Digital\n1. **[LG 9 Kg Fully Automatic Front Loading Washing Machine (FHB1209Z4B, Platinum Black)](https://www.reliancedigital.in/lg-9-kg-fully-automatic-front-loading-washing-machine-fhb1209z4b-platinum-black/p/494460088)** - ₹39,990.00\n2. **[LG 9 Kg Front Load Fully Automatic Washing Machine (FHV1409Z2M, Middle Black)](https://www.reliancedigital.in/lg-9-kg-front-load-fully-automatic-washing-machine-fhv1409z2m-middle-black/p/493620608)** - ₹40,990.00\n\n### Best Price\nThe best price for the LG 9kg Front Load Washing Machine is **₹39,990.00** at Reliance Digital for the model FHB1209Z4B."
          },
          "metadata": {}
        }
      ]
    }
  ],
  "metadata": {
    "kernelspec": {
      "display_name": "agentenv",
      "language": "python",
      "name": "python3"
    },
    "language_info": {
      "codemirror_mode": {
        "name": "ipython",
        "version": 3
      },
      "file_extension": ".py",
      "mimetype": "text/x-python",
      "name": "python",
      "nbconvert_exporter": "python",
      "pygments_lexer": "ipython3",
      "version": "3.13.1"
    },
    "colab": {
      "provenance": [],
      "include_colab_link": true
    }
  },
  "nbformat": 4,
  "nbformat_minor": 0
}