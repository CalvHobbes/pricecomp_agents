{
 "cells": [
  {
   "cell_type": "code",
   "execution_count": null,
   "metadata": {},
   "outputs": [],
   "source": []
  },
  {
   "cell_type": "code",
   "execution_count": null,
   "metadata": {},
   "outputs": [],
   "source": [
    "# Import the necessary functions\n",
    "from search_Croma import fetch_prices_from_croma\n",
    "from search_reliance import fetch_prices_from_reliance\n",
    "import json\n",
    "\n",
    "# Define the product query\n",
    "query = \"iphone 16 pro max\"\n",
    "\n",
    "# Fetch prices from Croma\n",
    "croma_prices = fetch_prices_from_croma(query)\n",
    "print(\"Croma Prices:\")\n",
    "print(json.dumps(croma_prices, indent=4))\n",
    "\n",
    "# Fetch prices from Reliance Digital\n",
    "reliance_prices = fetch_prices_from_reliance(query)\n",
    "print(\"Reliance Digital Prices:\")\n",
    "print(json.dumps(reliance_prices, indent=4))\n"
   ]
  }
 ],
 "metadata": {
  "kernelspec": {
   "display_name": "agentenv",
   "language": "python",
   "name": "python3"
  },
  "language_info": {
   "codemirror_mode": {
    "name": "ipython",
    "version": 3
   },
   "file_extension": ".py",
   "mimetype": "text/x-python",
   "name": "python",
   "nbconvert_exporter": "python",
   "pygments_lexer": "ipython3",
   "version": "3.13.1"
  }
 },
 "nbformat": 4,
 "nbformat_minor": 2
}
