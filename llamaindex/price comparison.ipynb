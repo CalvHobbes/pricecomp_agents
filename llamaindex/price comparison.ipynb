{
  "cells": [
    {
      "cell_type": "markdown",
      "metadata": {
        "id": "view-in-github",
        "colab_type": "text"
      },
      "source": [
        "<a href=\"https://colab.research.google.com/github/CalvHobbes/shop_india/blob/main/llamaindex/price%20comparison.ipynb\" target=\"_parent\"><img src=\"https://colab.research.google.com/assets/colab-badge.svg\" alt=\"Open In Colab\"/></a>"
      ]
    },
    {
      "cell_type": "code",
      "execution_count": null,
      "metadata": {
        "id": "hMS-Frhtdb3K"
      },
      "outputs": [],
      "source": [
        "! pip install beautifulsoup4 requests"
      ]
    },
    {
      "cell_type": "code",
      "execution_count": null,
      "metadata": {
        "id": "oHVpzJGQdb3L"
      },
      "outputs": [],
      "source": [
        "# Import the necessary functions\n",
        "from search_Croma import fetch_prices_from_croma\n",
        "from search_reliance import fetch_prices_from_reliance\n",
        "import json\n",
        "\n",
        "# Define the product query\n",
        "query = \"iphone16promax\"\n",
        "\n",
        "# Fetch prices from Croma\n",
        "croma_prices = fetch_prices_from_croma(query)\n",
        "print(\"Croma Prices:\")\n",
        "print(json.dumps(croma_prices, indent=4))\n",
        "\n",
        "# Fetch prices from Reliance Digital\n",
        "reliance_prices = fetch_prices_from_reliance(query)\n",
        "print(\"Reliance Digital Prices:\")\n",
        "print(json.dumps(reliance_prices, indent=4))\n"
      ]
    }
  ],
  "metadata": {
    "kernelspec": {
      "display_name": "agentenv",
      "language": "python",
      "name": "python3"
    },
    "language_info": {
      "codemirror_mode": {
        "name": "ipython",
        "version": 3
      },
      "file_extension": ".py",
      "mimetype": "text/x-python",
      "name": "python",
      "nbconvert_exporter": "python",
      "pygments_lexer": "ipython3",
      "version": "3.13.1"
    },
    "colab": {
      "provenance": [],
      "include_colab_link": true
    }
  },
  "nbformat": 4,
  "nbformat_minor": 0
}