{
  "cells": [
    {
      "cell_type": "markdown",
      "metadata": {
        "id": "view-in-github",
        "colab_type": "text"
      },
      "source": [
        "<a href=\"https://colab.research.google.com/github/CalvHobbes/shop_india/blob/main/llamaindex/price%20comparison.ipynb\" target=\"_parent\"><img src=\"https://colab.research.google.com/assets/colab-badge.svg\" alt=\"Open In Colab\"/></a>"
      ]
    },
    {
      "cell_type": "code",
      "execution_count": 1,
      "metadata": {
        "colab": {
          "base_uri": "https://localhost:8080/"
        },
        "id": "hMS-Frhtdb3K",
        "outputId": "2ecf2c0b-3521-4b17-fd85-5ffbe1c14569"
      },
      "outputs": [
        {
          "output_type": "stream",
          "name": "stdout",
          "text": [
            "Requirement already satisfied: beautifulsoup4 in /usr/local/lib/python3.11/dist-packages (4.12.3)\n",
            "Requirement already satisfied: requests in /usr/local/lib/python3.11/dist-packages (2.32.3)\n",
            "Requirement already satisfied: soupsieve>1.2 in /usr/local/lib/python3.11/dist-packages (from beautifulsoup4) (2.6)\n",
            "Requirement already satisfied: charset-normalizer<4,>=2 in /usr/local/lib/python3.11/dist-packages (from requests) (3.4.1)\n",
            "Requirement already satisfied: idna<4,>=2.5 in /usr/local/lib/python3.11/dist-packages (from requests) (3.10)\n",
            "Requirement already satisfied: urllib3<3,>=1.21.1 in /usr/local/lib/python3.11/dist-packages (from requests) (2.3.0)\n",
            "Requirement already satisfied: certifi>=2017.4.17 in /usr/local/lib/python3.11/dist-packages (from requests) (2024.12.14)\n"
          ]
        }
      ],
      "source": [
        "!pip install beautifulsoup4 requests"
      ]
    },
    {
      "cell_type": "code",
      "source": [
        "# prompt: check if in colab environment and if so, fetch helper functions for tools\n",
        "\n",
        "import sys\n",
        "\n",
        "try:\n",
        "  import google.colab\n",
        "  IN_COLAB = True\n",
        "except:\n",
        "  IN_COLAB = False\n",
        "\n",
        "if IN_COLAB:\n",
        "  !wget https://raw.githubusercontent.com/CalvHobbes/shop_india/main/llamaindex/search_Croma.py\n",
        "  !wget https://raw.githubusercontent.com/CalvHobbes/shop_india/main/llamaindex/search_reliance.py\n"
      ],
      "metadata": {
        "id": "no5PnrrNd4va",
        "outputId": "5093637e-1eaf-4181-b01b-0bc9b3bae091",
        "colab": {
          "base_uri": "https://localhost:8080/"
        }
      },
      "execution_count": 2,
      "outputs": [
        {
          "output_type": "stream",
          "name": "stdout",
          "text": [
            "--2025-01-30 13:49:59--  https://raw.githubusercontent.com/CalvHobbes/shop_india/main/llamaindex/search_Croma.py\n",
            "Resolving raw.githubusercontent.com (raw.githubusercontent.com)... 185.199.108.133, 185.199.110.133, 185.199.111.133, ...\n",
            "Connecting to raw.githubusercontent.com (raw.githubusercontent.com)|185.199.108.133|:443... connected.\n",
            "HTTP request sent, awaiting response... 200 OK\n",
            "Length: 1811 (1.8K) [text/plain]\n",
            "Saving to: ‘search_Croma.py’\n",
            "\n",
            "search_Croma.py     100%[===================>]   1.77K  --.-KB/s    in 0s      \n",
            "\n",
            "2025-01-30 13:49:59 (24.5 MB/s) - ‘search_Croma.py’ saved [1811/1811]\n",
            "\n",
            "--2025-01-30 13:49:59--  https://raw.githubusercontent.com/CalvHobbes/shop_india/main/llamaindex/search_reliance.py\n",
            "Resolving raw.githubusercontent.com (raw.githubusercontent.com)... 185.199.108.133, 185.199.109.133, 185.199.110.133, ...\n",
            "Connecting to raw.githubusercontent.com (raw.githubusercontent.com)|185.199.108.133|:443... connected.\n",
            "HTTP request sent, awaiting response... 200 OK\n",
            "Length: 1460 (1.4K) [text/plain]\n",
            "Saving to: ‘search_reliance.py’\n",
            "\n",
            "search_reliance.py  100%[===================>]   1.43K  --.-KB/s    in 0s      \n",
            "\n",
            "2025-01-30 13:49:59 (21.9 MB/s) - ‘search_reliance.py’ saved [1460/1460]\n",
            "\n"
          ]
        }
      ]
    },
    {
      "cell_type": "code",
      "execution_count": null,
      "metadata": {
        "id": "oHVpzJGQdb3L"
      },
      "outputs": [],
      "source": [
        "# Import the necessary functions\n",
        "from search_Croma import fetch_prices_from_croma\n",
        "from search_reliance import fetch_prices_from_reliance\n",
        "import json\n",
        "\n",
        "def test_functions():\n",
        "  # Define the product query\n",
        "  query = \"iphone 16 pro max\"\n",
        "\n",
        "  # Fetch prices from Croma\n",
        "  croma_prices = fetch_prices_from_croma(query)\n",
        "  print(\"Croma Prices:\")\n",
        "  print(json.dumps(croma_prices, indent=4))\n",
        "\n",
        "  # Fetch prices from Reliance Digital\n",
        "  reliance_prices = fetch_prices_from_reliance(query)\n",
        "  print(\"Reliance Digital Prices:\")\n",
        "  print(json.dumps(reliance_prices, indent=4))\n",
        "\n",
        "\n",
        "# test_functions()\n",
        "\n",
        "\n",
        "\n"
      ]
    }
  ],
  "metadata": {
    "kernelspec": {
      "display_name": "agentenv",
      "language": "python",
      "name": "python3"
    },
    "language_info": {
      "codemirror_mode": {
        "name": "ipython",
        "version": 3
      },
      "file_extension": ".py",
      "mimetype": "text/x-python",
      "name": "python",
      "nbconvert_exporter": "python",
      "pygments_lexer": "ipython3",
      "version": "3.13.1"
    },
    "colab": {
      "provenance": [],
      "include_colab_link": true
    }
  },
  "nbformat": 4,
  "nbformat_minor": 0
}