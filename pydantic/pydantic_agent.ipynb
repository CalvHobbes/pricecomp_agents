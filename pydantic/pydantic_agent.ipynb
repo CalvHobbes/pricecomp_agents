{
  "nbformat": 4,
  "nbformat_minor": 0,
  "metadata": {
    "colab": {
      "provenance": [],
      "authorship_tag": "ABX9TyMtnJcBAlW4pObRlvwupmCO",
      "include_colab_link": true
    },
    "kernelspec": {
      "name": "python3",
      "display_name": "Python 3"
    },
    "language_info": {
      "name": "python"
    }
  },
  "cells": [
    {
      "cell_type": "markdown",
      "metadata": {
        "id": "view-in-github",
        "colab_type": "text"
      },
      "source": [
        "<a href=\"https://colab.research.google.com/github/CalvHobbes/pricecomp_agents/blob/main/pydantic/pydantic_agent.ipynb\" target=\"_parent\"><img src=\"https://colab.research.google.com/assets/colab-badge.svg\" alt=\"Open In Colab\"/></a>"
      ]
    },
    {
      "cell_type": "code",
      "source": [
        "!pip install 'pydantic-ai[logfire]'"
      ],
      "metadata": {
        "collapsed": true,
        "id": "r5fAYJxiDwEY"
      },
      "execution_count": null,
      "outputs": []
    },
    {
      "cell_type": "code",
      "source": [
        "!pip install logfire\n"
      ],
      "metadata": {
        "colab": {
          "base_uri": "https://localhost:8080/"
        },
        "id": "0n6EMTFFne-P",
        "outputId": "282540d8-1af2-409b-876d-a06e2b22e6b3"
      },
      "execution_count": 15,
      "outputs": [
        {
          "output_type": "stream",
          "name": "stdout",
          "text": [
            "Requirement already satisfied: logfire in /usr/local/lib/python3.11/dist-packages (3.5.0)\n",
            "Requirement already satisfied: executing>=2.0.1 in /usr/local/lib/python3.11/dist-packages (from logfire) (2.2.0)\n",
            "Requirement already satisfied: opentelemetry-exporter-otlp-proto-http>=1.21.0 in /usr/local/lib/python3.11/dist-packages (from logfire) (1.29.0)\n",
            "Requirement already satisfied: opentelemetry-instrumentation>=0.41b0 in /usr/local/lib/python3.11/dist-packages (from logfire) (0.50b0)\n",
            "Requirement already satisfied: opentelemetry-sdk>=1.21.0 in /usr/local/lib/python3.11/dist-packages (from logfire) (1.29.0)\n",
            "Requirement already satisfied: protobuf>=4.23.4 in /usr/local/lib/python3.11/dist-packages (from logfire) (5.29.3)\n",
            "Requirement already satisfied: rich>=13.4.2 in /usr/local/lib/python3.11/dist-packages (from logfire) (13.9.4)\n",
            "Requirement already satisfied: typing-extensions>=4.1.0 in /usr/local/lib/python3.11/dist-packages (from logfire) (4.12.2)\n",
            "Requirement already satisfied: deprecated>=1.2.6 in /usr/local/lib/python3.11/dist-packages (from opentelemetry-exporter-otlp-proto-http>=1.21.0->logfire) (1.2.18)\n",
            "Requirement already satisfied: googleapis-common-protos~=1.52 in /usr/local/lib/python3.11/dist-packages (from opentelemetry-exporter-otlp-proto-http>=1.21.0->logfire) (1.66.0)\n",
            "Requirement already satisfied: opentelemetry-api~=1.15 in /usr/local/lib/python3.11/dist-packages (from opentelemetry-exporter-otlp-proto-http>=1.21.0->logfire) (1.29.0)\n",
            "Requirement already satisfied: opentelemetry-exporter-otlp-proto-common==1.29.0 in /usr/local/lib/python3.11/dist-packages (from opentelemetry-exporter-otlp-proto-http>=1.21.0->logfire) (1.29.0)\n",
            "Requirement already satisfied: opentelemetry-proto==1.29.0 in /usr/local/lib/python3.11/dist-packages (from opentelemetry-exporter-otlp-proto-http>=1.21.0->logfire) (1.29.0)\n",
            "Requirement already satisfied: requests~=2.7 in /usr/local/lib/python3.11/dist-packages (from opentelemetry-exporter-otlp-proto-http>=1.21.0->logfire) (2.32.3)\n",
            "Requirement already satisfied: opentelemetry-semantic-conventions==0.50b0 in /usr/local/lib/python3.11/dist-packages (from opentelemetry-instrumentation>=0.41b0->logfire) (0.50b0)\n",
            "Requirement already satisfied: packaging>=18.0 in /usr/local/lib/python3.11/dist-packages (from opentelemetry-instrumentation>=0.41b0->logfire) (24.2)\n",
            "Requirement already satisfied: wrapt<2.0.0,>=1.0.0 in /usr/local/lib/python3.11/dist-packages (from opentelemetry-instrumentation>=0.41b0->logfire) (1.17.2)\n",
            "Requirement already satisfied: importlib-metadata<=8.5.0,>=6.0 in /usr/local/lib/python3.11/dist-packages (from opentelemetry-api~=1.15->opentelemetry-exporter-otlp-proto-http>=1.21.0->logfire) (8.5.0)\n",
            "Requirement already satisfied: markdown-it-py>=2.2.0 in /usr/local/lib/python3.11/dist-packages (from rich>=13.4.2->logfire) (3.0.0)\n",
            "Requirement already satisfied: pygments<3.0.0,>=2.13.0 in /usr/local/lib/python3.11/dist-packages (from rich>=13.4.2->logfire) (2.18.0)\n",
            "Requirement already satisfied: mdurl~=0.1 in /usr/local/lib/python3.11/dist-packages (from markdown-it-py>=2.2.0->rich>=13.4.2->logfire) (0.1.2)\n",
            "Requirement already satisfied: charset-normalizer<4,>=2 in /usr/local/lib/python3.11/dist-packages (from requests~=2.7->opentelemetry-exporter-otlp-proto-http>=1.21.0->logfire) (3.4.1)\n",
            "Requirement already satisfied: idna<4,>=2.5 in /usr/local/lib/python3.11/dist-packages (from requests~=2.7->opentelemetry-exporter-otlp-proto-http>=1.21.0->logfire) (3.10)\n",
            "Requirement already satisfied: urllib3<3,>=1.21.1 in /usr/local/lib/python3.11/dist-packages (from requests~=2.7->opentelemetry-exporter-otlp-proto-http>=1.21.0->logfire) (2.3.0)\n",
            "Requirement already satisfied: certifi>=2017.4.17 in /usr/local/lib/python3.11/dist-packages (from requests~=2.7->opentelemetry-exporter-otlp-proto-http>=1.21.0->logfire) (2024.12.14)\n",
            "Requirement already satisfied: zipp>=3.20 in /usr/local/lib/python3.11/dist-packages (from importlib-metadata<=8.5.0,>=6.0->opentelemetry-api~=1.15->opentelemetry-exporter-otlp-proto-http>=1.21.0->logfire) (3.21.0)\n"
          ]
        }
      ]
    },
    {
      "cell_type": "code",
      "source": [
        "import nest_asyncio\n",
        "\n",
        "nest_asyncio.apply()"
      ],
      "metadata": {
        "id": "ZTsGkNmWJRXx"
      },
      "execution_count": 2,
      "outputs": []
    },
    {
      "cell_type": "code",
      "execution_count": null,
      "metadata": {
        "id": "zBQilxxNDY9b"
      },
      "outputs": [],
      "source": [
        "# prompt: check if in colab environment and if so, fetch helper functions for tools\n",
        "\n",
        "import sys\n",
        "\n",
        "try:\n",
        "  import google.colab\n",
        "  IN_COLAB = True\n",
        "except:\n",
        "  IN_COLAB = False\n",
        "\n",
        "if IN_COLAB:\n",
        "  !wget https://raw.githubusercontent.com/CalvHobbes/shop_india/main/llamaindex/search_Croma.py\n",
        "  !wget https://raw.githubusercontent.com/CalvHobbes/shop_india/main/llamaindex/search_reliance.py"
      ]
    },
    {
      "cell_type": "code",
      "source": [
        "from google.colab import userdata\n",
        "import os\n",
        "\n",
        "openapi_key = userdata.get('OPENAPI_KEY')\n",
        "hf_token = userdata.get('HF_TOKEN')\n",
        "os.environ[\"OPENAI_API_KEY\"] = openapi_key\n",
        "os.environ[\"LOGFIRE_TOKEN\"] = userdata.get('LOGFIRE_TOKEN')\n"
      ],
      "metadata": {
        "id": "aBT_4-fWDo6R"
      },
      "execution_count": 1,
      "outputs": []
    },
    {
      "cell_type": "code",
      "source": [
        "import logfire\n",
        "\n",
        "logfire.configure(environment='local')\n",
        "\n",
        "logfire.instrument_pydantic()  # Defaults to record='all'"
      ],
      "metadata": {
        "colab": {
          "base_uri": "https://localhost:8080/"
        },
        "id": "iB-I63TYriRP",
        "outputId": "05d66558-65ac-473e-caef-d639cc72618b"
      },
      "execution_count": 18,
      "outputs": [
        {
          "output_type": "stream",
          "name": "stderr",
          "text": [
            "Logfire project URL: https://logfire.pydantic.dev/calvhobbes/agents\n"
          ]
        }
      ]
    },
    {
      "cell_type": "code",
      "source": [
        "instructions = '''\n",
        "You are an intelligent assistant tasked with analyzing and combining product price data by executing one or more tools available to you. to run the tools you must provide them the name of the product the user is searching.. Your goal is to identify the most relevant product prices and present them in a structured format.  Execute all applicable tools.Follow these steps:\n",
        "\n",
        "Combine Results: Analyze the product data from all websites. If product names or display names are slightly different but refer to the same product, use your judgment to group them together.\n",
        "\n",
        "Identify the Best Prices: For each product, compare the prices across all websites and order them in ascending order (lowest price first).\n",
        "\n",
        "Output Format: Present the results in the following structured format for each product:\n",
        "\n",
        "Product Name: The most accurate or common name for the product.\n",
        "\n",
        "For each store, include:\n",
        "\n",
        "Store Display Name: The name of the store.\n",
        "\n",
        "Product URL: A clickable link to the product page.\n",
        "\n",
        "Price: The price of the product at that store.\n",
        "\n",
        "Ensure the store-wise details are ordered by ascending price (cheapest first).\n",
        "\n",
        "Handle Ambiguities: If product names or details are unclear, use context to determine if they refer to the same product. If uncertain, list them separately.\n",
        "\n",
        "Sample Result:\n",
        "Product Name: Wireless Noise-Cancelling Headphones\n",
        "- Store: TechWorld, Product URL: [TechWorld Link], Price: $120\n",
        "- Store: GadgetHub, Product URL: [GadgetHub Link], Price: $125\n",
        "- Store: ElectroShop, Product URL: [ElectroShop Link], Price: $130\n",
        "\n",
        "'''"
      ],
      "metadata": {
        "id": "sWy9HUE-ELqx"
      },
      "execution_count": 19,
      "outputs": []
    },
    {
      "cell_type": "code",
      "source": [
        "model_id = \"gpt-4o-mini\""
      ],
      "metadata": {
        "id": "X6IfaIC8Gwuk"
      },
      "execution_count": 20,
      "outputs": []
    },
    {
      "cell_type": "code",
      "source": [
        "from pydantic_ai import Agent, RunContext\n",
        "from search_Croma import fetch_prices_from_croma\n",
        "from search_reliance import fetch_prices_from_reliance\n",
        "\n",
        "price_comp__agent_with_tools = Agent(\n",
        "    model_id,\n",
        "    deps_type=str,\n",
        "    result_type=str,\n",
        "    system_prompt=(\n",
        "        'Use the `search_croma_tool`  and `search_reliance_tool` functions to determine best '\n",
        "        'price for a product.'\n",
        "    ),\n",
        ")\n",
        "\n",
        "@price_comp__agent_with_tools.tool\n",
        "def search_croma_tool(ctx: RunContext[str],product: str) -> str:\n",
        "    \"\"\"\n",
        "    This is a tool that searches for the user specified product on Croma and returns the name, url and price of the product in JSON\n",
        "\n",
        "    Args:\n",
        "        product: The product name to search for\n",
        "    \"\"\"\n",
        "    return fetch_prices_from_croma(product)\n",
        "\n",
        "\n",
        "@price_comp__agent_with_tools.tool\n",
        "def search_reliance_tool(ctx: RunContext[str],product: str) -> str:\n",
        "    \"\"\"\n",
        "    This is a tool that searches for the user specified product on Reliance and returns the name, url and price of the product in JSON\n",
        "\n",
        "    Args:\n",
        "        product: The product name to search for\n",
        "    \"\"\"\n",
        "    return fetch_prices_from_reliance(product)"
      ],
      "metadata": {
        "id": "2tq01876HPtY"
      },
      "execution_count": 21,
      "outputs": []
    },
    {
      "cell_type": "code",
      "source": [
        "result = price_comp__agent_with_tools.run_sync(\"what is the best price for iphone 16 pro max\")\n",
        "print(result.data)"
      ],
      "metadata": {
        "colab": {
          "base_uri": "https://localhost:8080/"
        },
        "id": "n_yveuouI-Wk",
        "outputId": "140930c6-a6c9-4f1d-a46f-00b11bb3985a"
      },
      "execution_count": 22,
      "outputs": [
        {
          "output_type": "stream",
          "name": "stdout",
          "text": [
            "06:42:37.119 price_comp__agent_with_tools run prompt=what is the best price for iphone 16 pro max\n",
            "06:42:37.120   preparing model and tools run_step=1\n",
            "06:42:37.122   model request\n",
            "06:42:39.744     Pydantic nullable validate_python\n",
            "06:42:40.535     Pydantic nullable validate_python\n",
            "06:42:40.537     Pydantic nullable validate_python\n",
            "06:42:40.540     Pydantic nullable validate_python\n",
            "06:42:40.549   handle model response\n",
            "06:42:40.553     running tools=['search_croma_tool', 'search_reliance_tool']\n",
            "06:42:40.553     Pydantic typed-dict validate_json\n",
            "06:42:40.556     Pydantic typed-dict validate_json\n",
            "06:42:47.996   preparing model and tools run_step=2\n",
            "06:42:47.997   model request\n",
            "06:42:55.959     Pydantic nullable validate_python\n",
            "06:42:55.962     Pydantic nullable validate_python\n",
            "06:42:55.963     Pydantic nullable validate_python\n",
            "06:42:55.964     Pydantic nullable validate_python\n",
            "06:42:55.966   handle model response\n",
            "Here are the best prices for the iPhone 16 Pro Max from Croma and Reliance:\n",
            "\n",
            "### Croma\n",
            "1. **Apple iPhone 16 Pro Max (256GB, Desert Titanium)** \n",
            "   - Price: ₹137,900\n",
            "   - [View Product](https://www.croma.com/apple-iphone-16-pro-max-256gb-desert-titanium-/p/309746)\n",
            "   \n",
            "2. **Apple iPhone 16 Pro Max (1TB, Black Titanium)** \n",
            "   - Price: ₹177,900\n",
            "   - [View Product](https://www.croma.com/apple-iphone-16-pro-max-1tb-black-titanium-/p/309754)\n",
            "\n",
            "3. **Apple iPhone 16 Pro Max (512GB, Black Titanium)** \n",
            "   - Price: ₹157,900\n",
            "   - [View Product](https://www.croma.com/apple-iphone-16-pro-max-512gb-black-titanium-/p/309748)\n",
            "\n",
            "### Reliance\n",
            "1. **Apple iPhone 16 Pro Max 256 GB, Black Titanium** \n",
            "   - Price: ₹137,900\n",
            "   - [View Product](https://www.reliancedigital.in/apple-iphone-16-pro-max-256-gb-black-titanium/p/494423059)\n",
            "   \n",
            "2. **Apple iPhone 16 Pro Max 512 GB, Black Titanium** \n",
            "   - Price: ₹157,900\n",
            "   - [View Product](https://www.reliancedigital.in/apple-iphone-16-pro-max-512-gb-black-titanium/p/494423063)\n",
            "\n",
            "3. **Apple iPhone 16 Pro Max 1 TB, Desert Titanium** \n",
            "   - Price: ₹177,900\n",
            "   - [View Product](https://www.reliancedigital.in/apple-iphone-16-pro-max-1-tb-desert-titanium/p/494423069)\n",
            "\n",
            "### Best Price Summary\n",
            "- The **best price for the 256GB variant** is ₹137,900, available at both Croma and Reliance.\n",
            "- The **512GB variant** is priced at ₹157,900 at both stores.\n",
            "- The **1TB variants** are priced at ₹177,900 at both stores.\n",
            "\n",
            "You can choose to purchase from either store based on convenience.\n"
          ]
        }
      ]
    },
    {
      "cell_type": "code",
      "source": [
        "result = await price_comp__agent_with_tools.run('best price for samsung s25?')\n",
        "print(result.data)\n",
        "\n"
      ],
      "metadata": {
        "colab": {
          "base_uri": "https://localhost:8080/"
        },
        "collapsed": true,
        "id": "thI79aqaL1Vr",
        "outputId": "ae987ecb-9969-4fce-ae59-5cd4c7fa3f90"
      },
      "execution_count": 14,
      "outputs": [
        {
          "output_type": "stream",
          "name": "stdout",
          "text": [
            "Here are the best prices for the Samsung Galaxy S25 from Croma and Reliance:\n",
            "\n",
            "### Croma\n",
            "1. **[SAMSUNG Galaxy S25 (12GB RAM, 256GB, Icyblue)](https://www.croma.com/samsung-galaxy-s25-5g-12gb-ram-256gb-icyblue-/p/313341)**\n",
            "   - Price: ₹80,999\n",
            "\n",
            "2. **[SAMSUNG Galaxy S25 (12GB RAM, 512GB, Icyblue)](https://www.croma.com/samsung-galaxy-s25-5g-12gb-ram-512gb-icyblue-/p/313335)**\n",
            "   - Price: ₹92,999\n",
            "\n",
            "### Reliance\n",
            "1. **[Samsung Galaxy S25 5G 256 GB, 12 GB RAM, Icyblue](https://www.reliancedigital.in/samsung-galaxy-s25-5g-256-gb-12-gb-ram-icyblue-mobile-phone/p/494493901)**\n",
            "   - Price: ₹80,999\n",
            "\n",
            "2. **[Samsung Galaxy S25 5G 512 GB, 12 GB RAM, Icyblue](https://www.reliancedigital.in/samsung-galaxy-s25-5g-512-gb-12-gb-ram-icyblue-mobile-phone/p/494493907)**\n",
            "   - Price: ₹92,999\n",
            "\n",
            "### Best Price Summary:\n",
            "- The **best price** for the **Samsung Galaxy S25 (256GB)** is **₹80,999** available at both **Croma** and **Reliance**.\n",
            "- The **Samsung Galaxy S25 (512GB)** is **available for ₹92,999** at both stores as well. \n",
            "\n",
            "You can choose either store based on your preference!\n"
          ]
        }
      ]
    },
    {
      "cell_type": "code",
      "source": [
        "async with price_comp__agent_with_tools.run_stream('What is the cheapest iphone 13') as response:\n",
        "    print(await response.get_data())"
      ],
      "metadata": {
        "colab": {
          "base_uri": "https://localhost:8080/"
        },
        "collapsed": true,
        "id": "WEja-cmJMRLv",
        "outputId": "78eeaae2-ff32-49c2-95ce-68ed86451aef"
      },
      "execution_count": 15,
      "outputs": [
        {
          "output_type": "stream",
          "name": "stdout",
          "text": [
            "The cheapest iPhone 13 options are:\n",
            "\n",
            "1. **Apple iPhone 13 (256GB, Alpine Green)**\n",
            "   - Price: ₹43,994\n",
            "   - [View Product](https://www.croma.com/apple-iphone-13-256gb-alpine-green-/p/249841)\n",
            "\n",
            "2. **Apple iPhone 13 (256GB, Starlight White)**\n",
            "   - Price: ₹43,994\n",
            "   - [View Product](https://www.croma.com/apple-iphone-13-256gb-starlight-white-/p/243465)\n",
            "\n",
            "3. **Apple iPhone 13 (256GB, Pink)**\n",
            "   - Price: ₹43,994\n",
            "   - [View Product](https://www.croma.com/apple-iphone-13-256gb-pink-/p/243466)\n",
            "\n",
            "4. **Apple iPhone 13 (256GB, Midnight)**\n",
            "   - Price: ₹43,994\n",
            "   - [View Product](https://www.croma.com/apple-iphone-13-256gb-midnight-/p/243464)\n",
            "\n",
            "5. **Apple iPhone 13 (256GB, Blue)**\n",
            "   - Price: ₹43,994\n",
            "   - [View Product](https://www.croma.com/apple-iphone-13-256gb-blue-/p/243468)\n",
            "\n",
            "There are no listings for the iPhone 13 from Reliance at this time. All the listed options from Croma are for the 256GB variant, which is currently the best price available.\n"
          ]
        }
      ]
    },
    {
      "cell_type": "code",
      "source": [
        "from pydantic_ai import Agent, Tool, RunContext\n",
        "\n",
        "\n",
        "agent_b = Agent(\n",
        "    model_id,\n",
        "    tools=[\n",
        "        Tool(fetch_prices_from_reliance, takes_ctx=False),\n",
        "        Tool(fetch_prices_from_croma, takes_ctx=False),\n",
        "    ],\n",
        ")"
      ],
      "metadata": {
        "id": "8uycLpyzfL8c"
      },
      "execution_count": 17,
      "outputs": []
    },
    {
      "cell_type": "code",
      "source": [
        "result = agent_b.run_sync(\"what is the best price for samsung smart tv?\")\n",
        "print(result)"
      ],
      "metadata": {
        "colab": {
          "base_uri": "https://localhost:8080/"
        },
        "id": "WuxfOYgRfgGo",
        "outputId": "065b3a5e-24fa-4164-d046-effc0af5a30c"
      },
      "execution_count": 20,
      "outputs": [
        {
          "output_type": "stream",
          "name": "stdout",
          "text": [
            "RunResult(_all_messages=[ModelRequest(parts=[UserPromptPart(content='what is the best price for samsung smart tv?', timestamp=datetime.datetime(2025, 2, 3, 11, 8, 23, 347696, tzinfo=datetime.timezone.utc), part_kind='user-prompt')], kind='request'), ModelResponse(parts=[ToolCallPart(tool_name='fetch_prices_from_reliance', args='{\"product\": \"samsung smart tv\"}', tool_call_id='call_iWZ5SHwtCDbLHjzLCp9WTwMC', part_kind='tool-call'), ToolCallPart(tool_name='fetch_prices_from_croma', args='{\"product\": \"samsung smart tv\"}', tool_call_id='call_3eTUxMY6j0BqbSh4mGQ1z1hq', part_kind='tool-call')], model_name='gpt-4o-mini', timestamp=datetime.datetime(2025, 2, 3, 11, 8, 24, tzinfo=datetime.timezone.utc), kind='response'), ModelRequest(parts=[ToolReturnPart(tool_name='fetch_prices_from_reliance', content=[{'name': 'Samsung 108 cm (43 inch) Wondertainment Series Full HD LED Smart TV, UA43TE50AAKXXL (Titan Gray)', 'url': 'https://www.reliancedigital.in/samsung-108-cm-43-inch-wondertainment-series-full-hd-led-smart-tv-ua43te50aakxxl-titan-gray-/p/492166127', 'price': '28,990.00'}, {'name': 'Samsung 75 Neo QLED Smart LED TV, 75QN90C', 'url': 'https://www.reliancedigital.in/samsung-75-neo-qled-smart-led-tv-75qn90c/p/493841749', 'price': '2,49,990.00'}, {'name': 'Samsung 55 Neo QLED Smart LED TV, 55QN95C', 'url': 'https://www.reliancedigital.in/samsung-55-neo-qled-smart-led-tv-55qn95c/p/493841754', 'price': '1,39,990.00'}, {'name': 'Samsung 55 Neo QLED Smart LED TV, 55QN85C', 'url': 'https://www.reliancedigital.in/samsung-55-neo-qled-smart-led-tv-55qn85c/p/493841747', 'price': '79,990.00'}, {'name': 'Samsung 65 Neo QLED Smart LED TV, 65QN85C', 'url': 'https://www.reliancedigital.in/samsung-65-neo-qled-smart-led-tv-65qn85c/p/493841746', 'price': '1,44,990.00'}, {'name': 'Samsung 85 Neo QLED Smart LED TV, 85QN90C', 'url': 'https://www.reliancedigital.in/samsung-85-neo-qled-smart-led-tv-85qn90c/p/493841748', 'price': '4,99,990.00'}, {'name': 'Samsung 50 Neo QLED Smart LED TV, 50QN90C', 'url': 'https://www.reliancedigital.in/samsung-50-neo-qled-smart-led-tv-50qn90c/p/493841752', 'price': '84,990.00'}, {'name': 'Samsung 65 Neo QLED Smart LED TV, 65QN95C', 'url': 'https://www.reliancedigital.in/samsung-65-neo-qled-smart-led-tv-65qn95c/p/493841753', 'price': '1,50,000.00'}, {'name': 'Samsung 138 cm (55 Inch) 4K QLED Smart TV (QA55Q60DAULXL, Black)', 'url': 'https://www.reliancedigital.in/samsung-138-cm-55-inch-4k-qled-smart-tv-qa55q60daulxl-black-/p/494410289', 'price': '69,990.00'}, {'name': 'Samsung 189 cm (75 Inch) 4K QLED Smart TV (QA75Q60DAUXXL, Black)', 'url': 'https://www.reliancedigital.in/samsung-189-cm-75-inch-4k-qled-smart-tv-qa75q60dauxxl-black-/p/494410276', 'price': '1,99,990.00'}, {'name': 'Samsung 163 cm (65 Inch) 4K QLED Smart TV (QA65Q60DAULXL, Black)', 'url': 'https://www.reliancedigital.in/samsung-163-cm-65-inch-4k-qled-smart-tv-qa65q60daulxl-black-/p/494410283', 'price': '1,12,990.00'}, {'name': 'Samsung 190.5 cm (75 inch) QLED Smart LED TV 75Q60C', 'url': 'https://www.reliancedigital.in/samsung-190-5-cm-75-inch-qled-smart-led-tv-75q60c/p/493711928', 'price': '1,64,990.00'}, {'name': 'Samsung 215.9 cm (85 inch) UHD Smart LED TV 85CU8000', 'url': 'https://www.reliancedigital.in/samsung-215-9-cm-85-inch-uhd-smart-led-tv-85cu8000/p/493711915', 'price': '2,90,990.00'}, {'name': 'Samsung 190.5 cm (75 inch) UHD Smart LED TV 75CU8000', 'url': 'https://www.reliancedigital.in/samsung-190-5-cm-75-inch-uhd-smart-led-tv-75cu8000/p/493711923', 'price': '94,990.00'}, {'name': 'Samsung 190.5 cm (75 inch) UHD Smart LED TV 75CU7700', 'url': 'https://www.reliancedigital.in/samsung-190-5-cm-75-inch-uhd-smart-led-tv-75cu7700/p/493711911', 'price': '89,999.00'}, {'name': 'Samsung 177.8 cm (70 inch) UHD Smart LED TV 70CU7700', 'url': 'https://www.reliancedigital.in/samsung-177-8-cm-70-inch-uhd-smart-led-tv-70cu7700/p/493711910', 'price': '74,990.00'}, {'name': 'Samsung 127 cm (50 inch) UHD Smart LED TV 50CU7700', 'url': 'https://www.reliancedigital.in/samsung-127-cm-50-inch-uhd-smart-led-tv-50cu7700/p/493711913', 'price': '39,990.00'}, {'name': 'Samsung 165.1 cm (65 inch) UHD Smart LED TV 65CU7700', 'url': 'https://www.reliancedigital.in/samsung-165-1-cm-65-inch-uhd-smart-led-tv-65cu7700/p/493711909', 'price': '69,990.00'}, {'name': 'Samsung 109.22 cm (43 inch) UHD Smart LED TV 43CU8000', 'url': 'https://www.reliancedigital.in/samsung-109-22-cm-43-inch-uhd-smart-led-tv-43cu8000/p/493711919', 'price': '32,990.00'}, {'name': 'Samsung 139.7 cm (55 inch) QLED Smart LED TV 55Q60C', 'url': 'https://www.reliancedigital.in/samsung-139-7-cm-55-inch-qled-smart-led-tv-55q60c/p/493711926', 'price': '58,000.00'}, {'name': 'Samsung 127 cm (50 inch) UHD Smart LED TV 50CU8000', 'url': 'https://www.reliancedigital.in/samsung-127-cm-50-inch-uhd-smart-led-tv-50cu8000/p/493711920', 'price': '46,990.00'}, {'name': 'Samsung 139.7 cm (55 inch) UHD Smart LED TV 55CU8000', 'url': 'https://www.reliancedigital.in/samsung-139-7-cm-55-inch-uhd-smart-led-tv-55cu8000/p/493711921', 'price': '49,990.00'}, {'name': 'Samsung 165.1 cm (65 inch) UHD Smart LED TV 65CU8000', 'url': 'https://www.reliancedigital.in/samsung-165-1-cm-65-inch-uhd-smart-led-tv-65cu8000/p/493711922', 'price': '64,990.00'}, {'name': 'Samsung 109.22 cm (43 inch) QLED Smart LED TV 43Q60C', 'url': 'https://www.reliancedigital.in/samsung-109-22-cm-43-inch-qled-smart-led-tv-43q60c/p/493711924', 'price': '42,990.00'}], tool_call_id='call_iWZ5SHwtCDbLHjzLCp9WTwMC', timestamp=datetime.datetime(2025, 2, 3, 11, 8, 30, 269266, tzinfo=datetime.timezone.utc), part_kind='tool-return'), ToolReturnPart(tool_name='fetch_prices_from_croma', content=[{'name': 'SAMSUNG Crystal 4K Vivid 108 cm (43 inch) 4K Ultra HD LED Tizen TV with Crystal Processor 4K', 'url': 'https://www.croma.com/samsung-crystal-4k-vivid-108-cm-43-inch-4k-ultra-hd-led-tizen-tv-with-crystal-processor-4k/p/306175', 'price': 31990.0}, {'name': 'SAMSUNG Crystal 4K Vivid 138 cm (55 inch) 4K Ultra HD LED Tizen TV with Crystal Processor 4K', 'url': 'https://www.croma.com/samsung-crystal-4k-vivid-138-cm-55-inch-4k-ultra-hd-led-tizen-tv-with-crystal-processor-4k/p/306173', 'price': 45990.0}, {'name': 'SAMSUNG Series 5 108 cm (43 inch) Full HD LED Tizen TV with Hyper Real Picture Processor (2022 model)', 'url': 'https://www.croma.com/samsung-series-5-108-cm-43-inch-full-hd-led-tizen-tv-with-hyper-real-picture-processor-2022-model-/p/261175', 'price': 24990.0}, {'name': 'SAMSUNG T4380A Series 80 cm (32 inch) HD LED Smart Tizen TV with PurColor (2022 model)', 'url': 'https://www.croma.com/samsung-t4380a-series-80-cm-32-inch-hd-led-smart-tizen-tv-with-purcolor-2022-model-/p/306641', 'price': 14990.0}, {'name': 'SAMSUNG Crystal 4K Vivid 164 cm (65 inch) 4K Ultra HD LED Tizen TV with Crystal Processor 4K', 'url': 'https://www.croma.com/samsung-crystal-4k-vivid-164-cm-65-inch-4k-ultra-hd-led-tizen-tv-with-crystal-processor-4k/p/305598', 'price': 65990.0}, {'name': 'SAMSUNG Q70 Series 138 cm (55 inch) QLED 4K Ultra HD Tizen TV with Motion Xcelerator (2024 model)', 'url': 'https://www.croma.com/samsung-q70-series-138-cm-55-inch-qled-4k-ultra-hd-tizen-tv-with-motion-xcelerator-2024-model-/p/305600', 'price': 72890.0}, {'name': 'SAMSUNG Crystal 4K Vivid 127 cm (50 inch) 4K Ultra HD LED Tizen TV with Crystal Processor 4K', 'url': 'https://www.croma.com/samsung-crystal-4k-vivid-127-cm-50-inch-4k-ultra-hd-led-tizen-tv-with-crystal-processor-4k/p/306174', 'price': 42990.0}, {'name': 'SAMSUNG Series 4 80 cm (32 inch) HD Ready LED Smart Tizen TV with Hyper Real Picture Engine', 'url': 'https://www.croma.com/samsung-series-4-80-cm-32-inch-hd-ready-led-smart-tizen-tv-with-hyper-real-picture-engine/p/251190', 'price': 14990.0}, {'name': 'SAMSUNG Crystal 4K 125 cm (50 inch) 4K Ultra HD LED Tizen TV (2021 model)', 'url': 'https://www.croma.com/samsung-crystal-4k-125-cm-50-inch-4k-ultra-hd-led-tizen-tv-2021-model-/p/252330', 'price': 36999.0}, {'name': 'SAMSUNG Crystal 4K Pro 163 cm (65 inch) 4K Ultra HD LED Tizen TV with Alexa Compatibility (2021 model)', 'url': 'https://www.croma.com/samsung-crystal-4k-pro-163-cm-65-inch-4k-ultra-hd-led-tizen-tv-with-alexa-compatibility-2021-model-/p/250636', 'price': 54990.0}, {'name': 'SAMSUNG Crystal 4K 163 cm (65 inch) 4K Ultra HD LED Tizen TV (2021 model)', 'url': 'https://www.croma.com/samsung-crystal-4k-163-cm-65-inch-4k-ultra-hd-led-tizen-tv-2021-model-/p/252332', 'price': 54990.0}, {'name': 'SAMSUNG Series 4 80 cm (32 inch) HD Ready LED Smart Tizen TV with Hyper Real Picture Engine', 'url': 'https://www.croma.com/samsung-series-4-80-cm-32-inch-hd-ready-led-smart-tizen-tv-with-hyper-real-picture-engine/p/226403', 'price': 16990.0}, {'name': 'SAMSUNG DU7000 Series 138 cm (55 inch) 4K Ultra HD LED Tizen TV with UHD Dimming', 'url': 'https://www.croma.com/samsung-du7000-series-138-cm-55-inch-4k-ultra-hd-led-tizen-tv-with-uhd-dimming/p/305676', 'price': 54990.0}, {'name': 'SAMSUNG Series 5 108 cm (43 inch) Full HD LED Smart Tizen TV with Google Assistant (2020 model)', 'url': 'https://www.croma.com/samsung-series-5-108-cm-43-inch-full-hd-led-smart-tizen-tv-with-google-assistant-2020-model-/p/250631', 'price': 15999.0}, {'name': 'SAMSUNG The Frame 139.7 cm (55 inch) 4K Ultra HD Tizen QLED  TV with Motion Xcelerator (2024 model)', 'url': 'https://www.croma.com/samsung-the-frame-139-7-cm-55-inch-4k-ultra-hd-tizen-qled-tv-with-motion-xcelerator-2024-model-/p/305901', 'price': 91590.0}, {'name': 'SAMSUNG Crystal 4K Pro 125 cm (50 inch) 4K Ultra HD LED Tizen TV with Alexa Compatibility (2021 model)', 'url': 'https://www.croma.com/samsung-crystal-4k-pro-125-cm-50-inch-4k-ultra-hd-led-tizen-tv-with-alexa-compatibility-2021-model-/p/250633', 'price': 34999.0}, {'name': 'SAMSUNG Crystal 4K 138 cm (55 inch) 4K Ultra HD LED Tizen Smart TV (2021 model)', 'url': 'https://www.croma.com/samsung-crystal-4k-138-cm-55-inch-4k-ultra-hd-led-tizen-smart-tv-2021-model-/p/252331', 'price': 38990.0}, {'name': 'SAMSUNG DU7660 139.7 cm (55 inch) 4K Ultra HD LED Tizen TV with Motion Xcelerator (2024 model)', 'url': 'https://www.croma.com/samsung-du7660-139-7-cm-55-inch-4k-ultra-hd-led-tizen-tv-with-motion-xcelerator-2024-model-/p/305665', 'price': 52990.0}, {'name': 'SAMSUNG DU8300 163 cm (65 inch) 4K Ultra HD LED Tizen TV with Dynamic Crystal Color (2024 model)', 'url': 'https://www.croma.com/samsung-du8300-163-cm-65-inch-4k-ultra-hd-led-tizen-tv-with-dynamic-crystal-color-2024-model-/p/305599', 'price': 78190.0}, {'name': 'SAMSUNG The Frame 165.1 cm (65 inch) 4K Ultra HD QLED Tizen TV with Dolby Audio Technology (2024 model)', 'url': 'https://www.croma.com/samsung-the-frame-165-1-cm-65-inch-4k-ultra-hd-qled-tizen-tv-with-dolby-audio-technology-2024-model-/p/305902', 'price': 132790.0}, {'name': 'SAMSUNG CUE60 124 cm (50 inch) 4K Ultra HD LED Tizen TV with Crystal Processor 4K (2023 model)', 'url': 'https://www.croma.com/samsung-cue60-124-cm-50-inch-4k-ultra-hd-led-tizen-tv-with-crystal-processor-4k-2023-model-/p/273686', 'price': 37999.0}], tool_call_id='call_3eTUxMY6j0BqbSh4mGQ1z1hq', timestamp=datetime.datetime(2025, 2, 3, 11, 8, 26, 307960, tzinfo=datetime.timezone.utc), part_kind='tool-return')], kind='request'), ModelResponse(parts=[TextPart(content='Here are some of the best prices for Samsung Smart TVs from Reliance Digital and Croma:\\n\\n### Reliance Digital\\n1. [Samsung 108 cm (43 inch) Wondertainment Series Full HD LED Smart TV](https://www.reliancedigital.in/samsung-108-cm-43-inch-wondertainment-series-full-hd-led-smart-tv-ua43te50aakxxl-titan-gray-/p/492166127) - **₹28,990**\\n2. [Samsung 138 cm (55 Inch) 4K QLED Smart TV](https://www.reliancedigital.in/samsung-138-cm-55-inch-4k-qled-smart-tv-qa55q60daulxl-black-/p/494410289) - **₹69,990**\\n3. [Samsung 190.5 cm (75 inch) UHD Smart LED TV 75CU8000](https://www.reliancedigital.in/samsung-190-5-cm-75-inch-uhd-smart-led-tv-75cu8000/p/493711923) - **₹94,990**\\n4. [Samsung 127 cm (50 inch) UHD Smart LED TV 50CU7700](https://www.reliancedigital.in/samsung-127-cm-50-inch-uhd-smart-led-tv-50cu7700/p/493711913) - **₹39,990**\\n\\n### Croma\\n1. [SAMSUNG Crystal 4K Vivid 108 cm (43 inch) 4K Ultra HD LED Tizen TV](https://www.croma.com/samsung-crystal-4k-vivid-108-cm-43-inch-4k-ultra-hd-led-tizen-tv-with-crystal-processor-4k/p/306175) - **₹31,990**\\n2. [SAMSUNG Crystal 4K Vivid 138 cm (55 inch) 4K Ultra HD LED Tizen TV](https://www.croma.com/samsung-crystal-4k-vivid-138-cm-55-inch-4k-ultra-hd-led-tizen-tv-with-crystal-processor-4k/p/306173) - **₹45,990**\\n3. [SAMSUNG Series 5 108 cm (43 inch) Full HD LED Tizen TV](https://www.croma.com/samsung-series-5-108-cm-43-inch-full-hd-led-tizen-tv-with-hyper-real-picture-processor-2022-model-/p/261175) - **₹24,990**\\n4. [SAMSUNG Crystal 4K Vivid 164 cm (65 inch) 4K Ultra HD LED Tizen TV](https://www.croma.com/samsung-crystal-4k-vivid-164-cm-65-inch-4k-ultra-hd-led-tizen-tv-with-crystal-processor-4k/p/305598) - **₹65,990**\\n\\n### Most Affordable Option\\n- From Reliance: **Samsung 108 cm (43 inch) Wondertainment Series** at **₹28,990**\\n- From Croma: **SAMSUNG Series 5 108 cm (43 inch) Full HD LED** at **₹24,990**\\n\\nYou can choose based on size and specifications that suit your preferences!', part_kind='text')], model_name='gpt-4o-mini', timestamp=datetime.datetime(2025, 2, 3, 11, 8, 30, tzinfo=datetime.timezone.utc), kind='response')], _new_message_index=0, data='Here are some of the best prices for Samsung Smart TVs from Reliance Digital and Croma:\\n\\n### Reliance Digital\\n1. [Samsung 108 cm (43 inch) Wondertainment Series Full HD LED Smart TV](https://www.reliancedigital.in/samsung-108-cm-43-inch-wondertainment-series-full-hd-led-smart-tv-ua43te50aakxxl-titan-gray-/p/492166127) - **₹28,990**\\n2. [Samsung 138 cm (55 Inch) 4K QLED Smart TV](https://www.reliancedigital.in/samsung-138-cm-55-inch-4k-qled-smart-tv-qa55q60daulxl-black-/p/494410289) - **₹69,990**\\n3. [Samsung 190.5 cm (75 inch) UHD Smart LED TV 75CU8000](https://www.reliancedigital.in/samsung-190-5-cm-75-inch-uhd-smart-led-tv-75cu8000/p/493711923) - **₹94,990**\\n4. [Samsung 127 cm (50 inch) UHD Smart LED TV 50CU7700](https://www.reliancedigital.in/samsung-127-cm-50-inch-uhd-smart-led-tv-50cu7700/p/493711913) - **₹39,990**\\n\\n### Croma\\n1. [SAMSUNG Crystal 4K Vivid 108 cm (43 inch) 4K Ultra HD LED Tizen TV](https://www.croma.com/samsung-crystal-4k-vivid-108-cm-43-inch-4k-ultra-hd-led-tizen-tv-with-crystal-processor-4k/p/306175) - **₹31,990**\\n2. [SAMSUNG Crystal 4K Vivid 138 cm (55 inch) 4K Ultra HD LED Tizen TV](https://www.croma.com/samsung-crystal-4k-vivid-138-cm-55-inch-4k-ultra-hd-led-tizen-tv-with-crystal-processor-4k/p/306173) - **₹45,990**\\n3. [SAMSUNG Series 5 108 cm (43 inch) Full HD LED Tizen TV](https://www.croma.com/samsung-series-5-108-cm-43-inch-full-hd-led-tizen-tv-with-hyper-real-picture-processor-2022-model-/p/261175) - **₹24,990**\\n4. [SAMSUNG Crystal 4K Vivid 164 cm (65 inch) 4K Ultra HD LED Tizen TV](https://www.croma.com/samsung-crystal-4k-vivid-164-cm-65-inch-4k-ultra-hd-led-tizen-tv-with-crystal-processor-4k/p/305598) - **₹65,990**\\n\\n### Most Affordable Option\\n- From Reliance: **Samsung 108 cm (43 inch) Wondertainment Series** at **₹28,990**\\n- From Croma: **SAMSUNG Series 5 108 cm (43 inch) Full HD LED** at **₹24,990**\\n\\nYou can choose based on size and specifications that suit your preferences!', _result_tool_name=None, _usage=Usage(requests=2, request_tokens=3981, response_tokens=746, total_tokens=4727, details={'accepted_prediction_tokens': 0, 'audio_tokens': 0, 'reasoning_tokens': 0, 'rejected_prediction_tokens': 0, 'cached_tokens': 0}))\n"
          ]
        },
        {
          "output_type": "stream",
          "name": "stderr",
          "text": [
            "Exception ignored in: <coroutine object Agent.run at 0x79002f4d2bc0>\n",
            "Traceback (most recent call last):\n",
            "  File \"/usr/local/lib/python3.11/dist-packages/google/colab/_variable_inspector.py\", line 27, in run\n",
            "KeyError: '__builtins__'\n",
            "Exception ignored in: <coroutine object Agent.run at 0x79002f4d2bc0>\n",
            "Traceback (most recent call last):\n",
            "  File \"/usr/local/lib/python3.11/dist-packages/google/colab/_variable_inspector.py\", line 27, in run\n",
            "KeyError: '__builtins__'\n"
          ]
        }
      ]
    },
    {
      "cell_type": "code",
      "source": [
        "print(result.data)"
      ],
      "metadata": {
        "colab": {
          "base_uri": "https://localhost:8080/"
        },
        "id": "6A8u1fzMf_hQ",
        "outputId": "2d4efe81-3533-4609-f290-98d9e7d188a2"
      },
      "execution_count": 21,
      "outputs": [
        {
          "output_type": "stream",
          "name": "stdout",
          "text": [
            "Here are some of the best prices for Samsung Smart TVs from Reliance Digital and Croma:\n",
            "\n",
            "### Reliance Digital\n",
            "1. [Samsung 108 cm (43 inch) Wondertainment Series Full HD LED Smart TV](https://www.reliancedigital.in/samsung-108-cm-43-inch-wondertainment-series-full-hd-led-smart-tv-ua43te50aakxxl-titan-gray-/p/492166127) - **₹28,990**\n",
            "2. [Samsung 138 cm (55 Inch) 4K QLED Smart TV](https://www.reliancedigital.in/samsung-138-cm-55-inch-4k-qled-smart-tv-qa55q60daulxl-black-/p/494410289) - **₹69,990**\n",
            "3. [Samsung 190.5 cm (75 inch) UHD Smart LED TV 75CU8000](https://www.reliancedigital.in/samsung-190-5-cm-75-inch-uhd-smart-led-tv-75cu8000/p/493711923) - **₹94,990**\n",
            "4. [Samsung 127 cm (50 inch) UHD Smart LED TV 50CU7700](https://www.reliancedigital.in/samsung-127-cm-50-inch-uhd-smart-led-tv-50cu7700/p/493711913) - **₹39,990**\n",
            "\n",
            "### Croma\n",
            "1. [SAMSUNG Crystal 4K Vivid 108 cm (43 inch) 4K Ultra HD LED Tizen TV](https://www.croma.com/samsung-crystal-4k-vivid-108-cm-43-inch-4k-ultra-hd-led-tizen-tv-with-crystal-processor-4k/p/306175) - **₹31,990**\n",
            "2. [SAMSUNG Crystal 4K Vivid 138 cm (55 inch) 4K Ultra HD LED Tizen TV](https://www.croma.com/samsung-crystal-4k-vivid-138-cm-55-inch-4k-ultra-hd-led-tizen-tv-with-crystal-processor-4k/p/306173) - **₹45,990**\n",
            "3. [SAMSUNG Series 5 108 cm (43 inch) Full HD LED Tizen TV](https://www.croma.com/samsung-series-5-108-cm-43-inch-full-hd-led-tizen-tv-with-hyper-real-picture-processor-2022-model-/p/261175) - **₹24,990**\n",
            "4. [SAMSUNG Crystal 4K Vivid 164 cm (65 inch) 4K Ultra HD LED Tizen TV](https://www.croma.com/samsung-crystal-4k-vivid-164-cm-65-inch-4k-ultra-hd-led-tizen-tv-with-crystal-processor-4k/p/305598) - **₹65,990**\n",
            "\n",
            "### Most Affordable Option\n",
            "- From Reliance: **Samsung 108 cm (43 inch) Wondertainment Series** at **₹28,990**\n",
            "- From Croma: **SAMSUNG Series 5 108 cm (43 inch) Full HD LED** at **₹24,990**\n",
            "\n",
            "You can choose based on size and specifications that suit your preferences!\n"
          ]
        }
      ]
    }
  ]
}