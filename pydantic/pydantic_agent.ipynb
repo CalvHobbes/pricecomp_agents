{
  "nbformat": 4,
  "nbformat_minor": 0,
  "metadata": {
    "colab": {
      "provenance": [],
      "authorship_tag": "ABX9TyMBXcVvOEH7RHG98IAOcKAl",
      "include_colab_link": true
    },
    "kernelspec": {
      "name": "python3",
      "display_name": "Python 3"
    },
    "language_info": {
      "name": "python"
    }
  },
  "cells": [
    {
      "cell_type": "markdown",
      "metadata": {
        "id": "view-in-github",
        "colab_type": "text"
      },
      "source": [
        "<a href=\"https://colab.research.google.com/github/CalvHobbes/pricecomp_agents/blob/main/pydantic/pydantic_agent.ipynb\" target=\"_parent\"><img src=\"https://colab.research.google.com/assets/colab-badge.svg\" alt=\"Open In Colab\"/></a>"
      ]
    },
    {
      "cell_type": "code",
      "source": [
        "!pip install 'pydantic-ai[logfire]'"
      ],
      "metadata": {
        "colab": {
          "base_uri": "https://localhost:8080/",
          "height": 0
        },
        "collapsed": true,
        "id": "r5fAYJxiDwEY",
        "outputId": "8b8ad0f5-91b7-496b-aed8-434c515a60d3"
      },
      "execution_count": 4,
      "outputs": [
        {
          "output_type": "stream",
          "name": "stdout",
          "text": [
            "Requirement already satisfied: pydantic-ai[logfire] in /usr/local/lib/python3.11/dist-packages (0.0.21)\n",
            "Requirement already satisfied: pydantic-ai-slim==0.0.21 in /usr/local/lib/python3.11/dist-packages (from pydantic-ai-slim[anthropic,cohere,graph,groq,mistral,openai,vertexai]==0.0.21->pydantic-ai[logfire]) (0.0.21)\n",
            "Collecting logfire>=2.3 (from pydantic-ai[logfire])\n",
            "  Downloading logfire-3.4.0-py3-none-any.whl.metadata (8.5 kB)\n",
            "Requirement already satisfied: eval-type-backport>=0.2.0 in /usr/local/lib/python3.11/dist-packages (from pydantic-ai-slim==0.0.21->pydantic-ai-slim[anthropic,cohere,graph,groq,mistral,openai,vertexai]==0.0.21->pydantic-ai[logfire]) (0.2.2)\n",
            "Requirement already satisfied: griffe>=1.3.2 in /usr/local/lib/python3.11/dist-packages (from pydantic-ai-slim==0.0.21->pydantic-ai-slim[anthropic,cohere,graph,groq,mistral,openai,vertexai]==0.0.21->pydantic-ai[logfire]) (1.5.6)\n",
            "Requirement already satisfied: httpx>=0.27 in /usr/local/lib/python3.11/dist-packages (from pydantic-ai-slim==0.0.21->pydantic-ai-slim[anthropic,cohere,graph,groq,mistral,openai,vertexai]==0.0.21->pydantic-ai[logfire]) (0.28.1)\n",
            "Requirement already satisfied: logfire-api>=1.2.0 in /usr/local/lib/python3.11/dist-packages (from pydantic-ai-slim==0.0.21->pydantic-ai-slim[anthropic,cohere,graph,groq,mistral,openai,vertexai]==0.0.21->pydantic-ai[logfire]) (3.4.0)\n",
            "Requirement already satisfied: pydantic>=2.10 in /usr/local/lib/python3.11/dist-packages (from pydantic-ai-slim==0.0.21->pydantic-ai-slim[anthropic,cohere,graph,groq,mistral,openai,vertexai]==0.0.21->pydantic-ai[logfire]) (2.10.6)\n",
            "Requirement already satisfied: anthropic>=0.40.0 in /usr/local/lib/python3.11/dist-packages (from pydantic-ai-slim[anthropic,cohere,graph,groq,mistral,openai,vertexai]==0.0.21->pydantic-ai[logfire]) (0.45.2)\n",
            "Requirement already satisfied: cohere>=5.13.11 in /usr/local/lib/python3.11/dist-packages (from pydantic-ai-slim[anthropic,cohere,graph,groq,mistral,openai,vertexai]==0.0.21->pydantic-ai[logfire]) (5.13.11)\n",
            "Requirement already satisfied: pydantic-graph==0.0.21 in /usr/local/lib/python3.11/dist-packages (from pydantic-ai-slim[anthropic,cohere,graph,groq,mistral,openai,vertexai]==0.0.21->pydantic-ai[logfire]) (0.0.21)\n",
            "Requirement already satisfied: groq>=0.12.0 in /usr/local/lib/python3.11/dist-packages (from pydantic-ai-slim[anthropic,cohere,graph,groq,mistral,openai,vertexai]==0.0.21->pydantic-ai[logfire]) (0.16.0)\n",
            "Requirement already satisfied: mistralai>=1.2.5 in /usr/local/lib/python3.11/dist-packages (from pydantic-ai-slim[anthropic,cohere,graph,groq,mistral,openai,vertexai]==0.0.21->pydantic-ai[logfire]) (1.5.0)\n",
            "Requirement already satisfied: openai>=1.59.0 in /usr/local/lib/python3.11/dist-packages (from pydantic-ai-slim[anthropic,cohere,graph,groq,mistral,openai,vertexai]==0.0.21->pydantic-ai[logfire]) (1.59.9)\n",
            "Requirement already satisfied: google-auth>=2.36.0 in /usr/local/lib/python3.11/dist-packages (from pydantic-ai-slim[anthropic,cohere,graph,groq,mistral,openai,vertexai]==0.0.21->pydantic-ai[logfire]) (2.38.0)\n",
            "Requirement already satisfied: requests>=2.32.3 in /usr/local/lib/python3.11/dist-packages (from pydantic-ai-slim[anthropic,cohere,graph,groq,mistral,openai,vertexai]==0.0.21->pydantic-ai[logfire]) (2.32.3)\n",
            "Collecting executing>=2.0.1 (from logfire>=2.3->pydantic-ai[logfire])\n",
            "  Downloading executing-2.2.0-py2.py3-none-any.whl.metadata (8.9 kB)\n",
            "Collecting opentelemetry-exporter-otlp-proto-http>=1.21.0 (from logfire>=2.3->pydantic-ai[logfire])\n",
            "  Downloading opentelemetry_exporter_otlp_proto_http-1.29.0-py3-none-any.whl.metadata (2.2 kB)\n",
            "Collecting opentelemetry-instrumentation>=0.41b0 (from logfire>=2.3->pydantic-ai[logfire])\n",
            "  Downloading opentelemetry_instrumentation-0.50b0-py3-none-any.whl.metadata (6.1 kB)\n",
            "Collecting opentelemetry-sdk>=1.21.0 (from logfire>=2.3->pydantic-ai[logfire])\n",
            "  Downloading opentelemetry_sdk-1.29.0-py3-none-any.whl.metadata (1.5 kB)\n",
            "Requirement already satisfied: protobuf>=4.23.4 in /usr/local/lib/python3.11/dist-packages (from logfire>=2.3->pydantic-ai[logfire]) (4.25.6)\n",
            "Requirement already satisfied: rich>=13.4.2 in /usr/local/lib/python3.11/dist-packages (from logfire>=2.3->pydantic-ai[logfire]) (13.9.4)\n",
            "Requirement already satisfied: typing-extensions>=4.1.0 in /usr/local/lib/python3.11/dist-packages (from logfire>=2.3->pydantic-ai[logfire]) (4.12.2)\n",
            "Requirement already satisfied: anyio<5,>=3.5.0 in /usr/local/lib/python3.11/dist-packages (from anthropic>=0.40.0->pydantic-ai-slim[anthropic,cohere,graph,groq,mistral,openai,vertexai]==0.0.21->pydantic-ai[logfire]) (3.7.1)\n",
            "Requirement already satisfied: distro<2,>=1.7.0 in /usr/local/lib/python3.11/dist-packages (from anthropic>=0.40.0->pydantic-ai-slim[anthropic,cohere,graph,groq,mistral,openai,vertexai]==0.0.21->pydantic-ai[logfire]) (1.9.0)\n",
            "Requirement already satisfied: jiter<1,>=0.4.0 in /usr/local/lib/python3.11/dist-packages (from anthropic>=0.40.0->pydantic-ai-slim[anthropic,cohere,graph,groq,mistral,openai,vertexai]==0.0.21->pydantic-ai[logfire]) (0.8.2)\n",
            "Requirement already satisfied: sniffio in /usr/local/lib/python3.11/dist-packages (from anthropic>=0.40.0->pydantic-ai-slim[anthropic,cohere,graph,groq,mistral,openai,vertexai]==0.0.21->pydantic-ai[logfire]) (1.3.1)\n",
            "Requirement already satisfied: fastavro<2.0.0,>=1.9.4 in /usr/local/lib/python3.11/dist-packages (from cohere>=5.13.11->pydantic-ai-slim[anthropic,cohere,graph,groq,mistral,openai,vertexai]==0.0.21->pydantic-ai[logfire]) (1.10.0)\n",
            "Requirement already satisfied: httpx-sse==0.4.0 in /usr/local/lib/python3.11/dist-packages (from cohere>=5.13.11->pydantic-ai-slim[anthropic,cohere,graph,groq,mistral,openai,vertexai]==0.0.21->pydantic-ai[logfire]) (0.4.0)\n",
            "Requirement already satisfied: pydantic-core<3.0.0,>=2.18.2 in /usr/local/lib/python3.11/dist-packages (from cohere>=5.13.11->pydantic-ai-slim[anthropic,cohere,graph,groq,mistral,openai,vertexai]==0.0.21->pydantic-ai[logfire]) (2.27.2)\n",
            "Requirement already satisfied: tokenizers<1,>=0.15 in /usr/local/lib/python3.11/dist-packages (from cohere>=5.13.11->pydantic-ai-slim[anthropic,cohere,graph,groq,mistral,openai,vertexai]==0.0.21->pydantic-ai[logfire]) (0.21.0)\n",
            "Requirement already satisfied: types-requests<3.0.0,>=2.0.0 in /usr/local/lib/python3.11/dist-packages (from cohere>=5.13.11->pydantic-ai-slim[anthropic,cohere,graph,groq,mistral,openai,vertexai]==0.0.21->pydantic-ai[logfire]) (2.32.0.20241016)\n",
            "Requirement already satisfied: cachetools<6.0,>=2.0.0 in /usr/local/lib/python3.11/dist-packages (from google-auth>=2.36.0->pydantic-ai-slim[anthropic,cohere,graph,groq,mistral,openai,vertexai]==0.0.21->pydantic-ai[logfire]) (5.5.1)\n",
            "Requirement already satisfied: pyasn1-modules>=0.2.1 in /usr/local/lib/python3.11/dist-packages (from google-auth>=2.36.0->pydantic-ai-slim[anthropic,cohere,graph,groq,mistral,openai,vertexai]==0.0.21->pydantic-ai[logfire]) (0.4.1)\n",
            "Requirement already satisfied: rsa<5,>=3.1.4 in /usr/local/lib/python3.11/dist-packages (from google-auth>=2.36.0->pydantic-ai-slim[anthropic,cohere,graph,groq,mistral,openai,vertexai]==0.0.21->pydantic-ai[logfire]) (4.9)\n",
            "Requirement already satisfied: colorama>=0.4 in /usr/local/lib/python3.11/dist-packages (from griffe>=1.3.2->pydantic-ai-slim==0.0.21->pydantic-ai-slim[anthropic,cohere,graph,groq,mistral,openai,vertexai]==0.0.21->pydantic-ai[logfire]) (0.4.6)\n",
            "Requirement already satisfied: certifi in /usr/local/lib/python3.11/dist-packages (from httpx>=0.27->pydantic-ai-slim==0.0.21->pydantic-ai-slim[anthropic,cohere,graph,groq,mistral,openai,vertexai]==0.0.21->pydantic-ai[logfire]) (2024.12.14)\n",
            "Requirement already satisfied: httpcore==1.* in /usr/local/lib/python3.11/dist-packages (from httpx>=0.27->pydantic-ai-slim==0.0.21->pydantic-ai-slim[anthropic,cohere,graph,groq,mistral,openai,vertexai]==0.0.21->pydantic-ai[logfire]) (1.0.7)\n",
            "Requirement already satisfied: idna in /usr/local/lib/python3.11/dist-packages (from httpx>=0.27->pydantic-ai-slim==0.0.21->pydantic-ai-slim[anthropic,cohere,graph,groq,mistral,openai,vertexai]==0.0.21->pydantic-ai[logfire]) (3.10)\n",
            "Requirement already satisfied: h11<0.15,>=0.13 in /usr/local/lib/python3.11/dist-packages (from httpcore==1.*->httpx>=0.27->pydantic-ai-slim==0.0.21->pydantic-ai-slim[anthropic,cohere,graph,groq,mistral,openai,vertexai]==0.0.21->pydantic-ai[logfire]) (0.14.0)\n",
            "Requirement already satisfied: jsonpath-python>=1.0.6 in /usr/local/lib/python3.11/dist-packages (from mistralai>=1.2.5->pydantic-ai-slim[anthropic,cohere,graph,groq,mistral,openai,vertexai]==0.0.21->pydantic-ai[logfire]) (1.0.6)\n",
            "Requirement already satisfied: python-dateutil>=2.8.2 in /usr/local/lib/python3.11/dist-packages (from mistralai>=1.2.5->pydantic-ai-slim[anthropic,cohere,graph,groq,mistral,openai,vertexai]==0.0.21->pydantic-ai[logfire]) (2.8.2)\n",
            "Requirement already satisfied: typing-inspect>=0.9.0 in /usr/local/lib/python3.11/dist-packages (from mistralai>=1.2.5->pydantic-ai-slim[anthropic,cohere,graph,groq,mistral,openai,vertexai]==0.0.21->pydantic-ai[logfire]) (0.9.0)\n",
            "Requirement already satisfied: tqdm>4 in /usr/local/lib/python3.11/dist-packages (from openai>=1.59.0->pydantic-ai-slim[anthropic,cohere,graph,groq,mistral,openai,vertexai]==0.0.21->pydantic-ai[logfire]) (4.67.1)\n",
            "Requirement already satisfied: deprecated>=1.2.6 in /usr/local/lib/python3.11/dist-packages (from opentelemetry-exporter-otlp-proto-http>=1.21.0->logfire>=2.3->pydantic-ai[logfire]) (1.2.18)\n",
            "Requirement already satisfied: googleapis-common-protos~=1.52 in /usr/local/lib/python3.11/dist-packages (from opentelemetry-exporter-otlp-proto-http>=1.21.0->logfire>=2.3->pydantic-ai[logfire]) (1.66.0)\n",
            "Requirement already satisfied: opentelemetry-api~=1.15 in /usr/local/lib/python3.11/dist-packages (from opentelemetry-exporter-otlp-proto-http>=1.21.0->logfire>=2.3->pydantic-ai[logfire]) (1.16.0)\n",
            "Collecting opentelemetry-exporter-otlp-proto-common==1.29.0 (from opentelemetry-exporter-otlp-proto-http>=1.21.0->logfire>=2.3->pydantic-ai[logfire])\n",
            "  Downloading opentelemetry_exporter_otlp_proto_common-1.29.0-py3-none-any.whl.metadata (1.8 kB)\n",
            "Collecting opentelemetry-proto==1.29.0 (from opentelemetry-exporter-otlp-proto-http>=1.21.0->logfire>=2.3->pydantic-ai[logfire])\n",
            "  Downloading opentelemetry_proto-1.29.0-py3-none-any.whl.metadata (2.3 kB)\n",
            "Collecting protobuf>=4.23.4 (from logfire>=2.3->pydantic-ai[logfire])\n",
            "  Downloading protobuf-5.29.3-cp38-abi3-manylinux2014_x86_64.whl.metadata (592 bytes)\n",
            "Collecting opentelemetry-semantic-conventions==0.50b0 (from opentelemetry-instrumentation>=0.41b0->logfire>=2.3->pydantic-ai[logfire])\n",
            "  Downloading opentelemetry_semantic_conventions-0.50b0-py3-none-any.whl.metadata (2.3 kB)\n",
            "Requirement already satisfied: packaging>=18.0 in /usr/local/lib/python3.11/dist-packages (from opentelemetry-instrumentation>=0.41b0->logfire>=2.3->pydantic-ai[logfire]) (24.2)\n",
            "Requirement already satisfied: wrapt<2.0.0,>=1.0.0 in /usr/local/lib/python3.11/dist-packages (from opentelemetry-instrumentation>=0.41b0->logfire>=2.3->pydantic-ai[logfire]) (1.17.2)\n",
            "Collecting opentelemetry-api~=1.15 (from opentelemetry-exporter-otlp-proto-http>=1.21.0->logfire>=2.3->pydantic-ai[logfire])\n",
            "  Downloading opentelemetry_api-1.29.0-py3-none-any.whl.metadata (1.4 kB)\n",
            "Collecting importlib-metadata<=8.5.0,>=6.0 (from opentelemetry-api~=1.15->opentelemetry-exporter-otlp-proto-http>=1.21.0->logfire>=2.3->pydantic-ai[logfire])\n",
            "  Downloading importlib_metadata-8.5.0-py3-none-any.whl.metadata (4.8 kB)\n",
            "Requirement already satisfied: annotated-types>=0.6.0 in /usr/local/lib/python3.11/dist-packages (from pydantic>=2.10->pydantic-ai-slim==0.0.21->pydantic-ai-slim[anthropic,cohere,graph,groq,mistral,openai,vertexai]==0.0.21->pydantic-ai[logfire]) (0.7.0)\n",
            "Requirement already satisfied: charset-normalizer<4,>=2 in /usr/local/lib/python3.11/dist-packages (from requests>=2.32.3->pydantic-ai-slim[anthropic,cohere,graph,groq,mistral,openai,vertexai]==0.0.21->pydantic-ai[logfire]) (3.4.1)\n",
            "Requirement already satisfied: urllib3<3,>=1.21.1 in /usr/local/lib/python3.11/dist-packages (from requests>=2.32.3->pydantic-ai-slim[anthropic,cohere,graph,groq,mistral,openai,vertexai]==0.0.21->pydantic-ai[logfire]) (2.3.0)\n",
            "Requirement already satisfied: markdown-it-py>=2.2.0 in /usr/local/lib/python3.11/dist-packages (from rich>=13.4.2->logfire>=2.3->pydantic-ai[logfire]) (3.0.0)\n",
            "Requirement already satisfied: pygments<3.0.0,>=2.13.0 in /usr/local/lib/python3.11/dist-packages (from rich>=13.4.2->logfire>=2.3->pydantic-ai[logfire]) (2.18.0)\n",
            "Requirement already satisfied: mdurl~=0.1 in /usr/local/lib/python3.11/dist-packages (from markdown-it-py>=2.2.0->rich>=13.4.2->logfire>=2.3->pydantic-ai[logfire]) (0.1.2)\n",
            "Requirement already satisfied: pyasn1<0.7.0,>=0.4.6 in /usr/local/lib/python3.11/dist-packages (from pyasn1-modules>=0.2.1->google-auth>=2.36.0->pydantic-ai-slim[anthropic,cohere,graph,groq,mistral,openai,vertexai]==0.0.21->pydantic-ai[logfire]) (0.6.1)\n",
            "Requirement already satisfied: six>=1.5 in /usr/local/lib/python3.11/dist-packages (from python-dateutil>=2.8.2->mistralai>=1.2.5->pydantic-ai-slim[anthropic,cohere,graph,groq,mistral,openai,vertexai]==0.0.21->pydantic-ai[logfire]) (1.17.0)\n",
            "Requirement already satisfied: huggingface-hub<1.0,>=0.16.4 in /usr/local/lib/python3.11/dist-packages (from tokenizers<1,>=0.15->cohere>=5.13.11->pydantic-ai-slim[anthropic,cohere,graph,groq,mistral,openai,vertexai]==0.0.21->pydantic-ai[logfire]) (0.27.1)\n",
            "Requirement already satisfied: mypy-extensions>=0.3.0 in /usr/local/lib/python3.11/dist-packages (from typing-inspect>=0.9.0->mistralai>=1.2.5->pydantic-ai-slim[anthropic,cohere,graph,groq,mistral,openai,vertexai]==0.0.21->pydantic-ai[logfire]) (1.0.0)\n",
            "Requirement already satisfied: filelock in /usr/local/lib/python3.11/dist-packages (from huggingface-hub<1.0,>=0.16.4->tokenizers<1,>=0.15->cohere>=5.13.11->pydantic-ai-slim[anthropic,cohere,graph,groq,mistral,openai,vertexai]==0.0.21->pydantic-ai[logfire]) (3.17.0)\n",
            "Requirement already satisfied: fsspec>=2023.5.0 in /usr/local/lib/python3.11/dist-packages (from huggingface-hub<1.0,>=0.16.4->tokenizers<1,>=0.15->cohere>=5.13.11->pydantic-ai-slim[anthropic,cohere,graph,groq,mistral,openai,vertexai]==0.0.21->pydantic-ai[logfire]) (2024.10.0)\n",
            "Requirement already satisfied: pyyaml>=5.1 in /usr/local/lib/python3.11/dist-packages (from huggingface-hub<1.0,>=0.16.4->tokenizers<1,>=0.15->cohere>=5.13.11->pydantic-ai-slim[anthropic,cohere,graph,groq,mistral,openai,vertexai]==0.0.21->pydantic-ai[logfire]) (6.0.2)\n",
            "Requirement already satisfied: zipp>=3.20 in /usr/local/lib/python3.11/dist-packages (from importlib-metadata<=8.5.0,>=6.0->opentelemetry-api~=1.15->opentelemetry-exporter-otlp-proto-http>=1.21.0->logfire>=2.3->pydantic-ai[logfire]) (3.21.0)\n",
            "Downloading logfire-3.4.0-py3-none-any.whl (177 kB)\n",
            "\u001b[2K   \u001b[90m━━━━━━━━━━━━━━━━━━━━━━━━━━━━━━━━━━━━━━━━\u001b[0m \u001b[32m177.9/177.9 kB\u001b[0m \u001b[31m4.2 MB/s\u001b[0m eta \u001b[36m0:00:00\u001b[0m\n",
            "\u001b[?25hDownloading executing-2.2.0-py2.py3-none-any.whl (26 kB)\n",
            "Downloading opentelemetry_exporter_otlp_proto_http-1.29.0-py3-none-any.whl (17 kB)\n",
            "Downloading opentelemetry_exporter_otlp_proto_common-1.29.0-py3-none-any.whl (18 kB)\n",
            "Downloading opentelemetry_proto-1.29.0-py3-none-any.whl (55 kB)\n",
            "\u001b[2K   \u001b[90m━━━━━━━━━━━━━━━━━━━━━━━━━━━━━━━━━━━━━━━━\u001b[0m \u001b[32m55.8/55.8 kB\u001b[0m \u001b[31m5.7 MB/s\u001b[0m eta \u001b[36m0:00:00\u001b[0m\n",
            "\u001b[?25hDownloading opentelemetry_instrumentation-0.50b0-py3-none-any.whl (30 kB)\n",
            "Downloading opentelemetry_semantic_conventions-0.50b0-py3-none-any.whl (166 kB)\n",
            "\u001b[2K   \u001b[90m━━━━━━━━━━━━━━━━━━━━━━━━━━━━━━━━━━━━━━━━\u001b[0m \u001b[32m166.6/166.6 kB\u001b[0m \u001b[31m15.3 MB/s\u001b[0m eta \u001b[36m0:00:00\u001b[0m\n",
            "\u001b[?25hDownloading opentelemetry_api-1.29.0-py3-none-any.whl (64 kB)\n",
            "\u001b[2K   \u001b[90m━━━━━━━━━━━━━━━━━━━━━━━━━━━━━━━━━━━━━━━━\u001b[0m \u001b[32m64.3/64.3 kB\u001b[0m \u001b[31m7.0 MB/s\u001b[0m eta \u001b[36m0:00:00\u001b[0m\n",
            "\u001b[?25hDownloading opentelemetry_sdk-1.29.0-py3-none-any.whl (118 kB)\n",
            "\u001b[2K   \u001b[90m━━━━━━━━━━━━━━━━━━━━━━━━━━━━━━━━━━━━━━━━\u001b[0m \u001b[32m118.1/118.1 kB\u001b[0m \u001b[31m12.1 MB/s\u001b[0m eta \u001b[36m0:00:00\u001b[0m\n",
            "\u001b[?25hDownloading protobuf-5.29.3-cp38-abi3-manylinux2014_x86_64.whl (319 kB)\n",
            "\u001b[2K   \u001b[90m━━━━━━━━━━━━━━━━━━━━━━━━━━━━━━━━━━━━━━━━\u001b[0m \u001b[32m319.7/319.7 kB\u001b[0m \u001b[31m22.8 MB/s\u001b[0m eta \u001b[36m0:00:00\u001b[0m\n",
            "\u001b[?25hDownloading importlib_metadata-8.5.0-py3-none-any.whl (26 kB)\n",
            "Installing collected packages: protobuf, importlib-metadata, executing, opentelemetry-proto, opentelemetry-api, opentelemetry-semantic-conventions, opentelemetry-exporter-otlp-proto-common, opentelemetry-sdk, opentelemetry-instrumentation, opentelemetry-exporter-otlp-proto-http, logfire\n",
            "  Attempting uninstall: protobuf\n",
            "    Found existing installation: protobuf 4.25.6\n",
            "    Uninstalling protobuf-4.25.6:\n",
            "      Successfully uninstalled protobuf-4.25.6\n",
            "  Attempting uninstall: importlib-metadata\n",
            "    Found existing installation: importlib_metadata 8.6.1\n",
            "    Uninstalling importlib_metadata-8.6.1:\n",
            "      Successfully uninstalled importlib_metadata-8.6.1\n",
            "  Attempting uninstall: opentelemetry-api\n",
            "    Found existing installation: opentelemetry-api 1.16.0\n",
            "    Uninstalling opentelemetry-api-1.16.0:\n",
            "      Successfully uninstalled opentelemetry-api-1.16.0\n",
            "  Attempting uninstall: opentelemetry-semantic-conventions\n",
            "    Found existing installation: opentelemetry-semantic-conventions 0.37b0\n",
            "    Uninstalling opentelemetry-semantic-conventions-0.37b0:\n",
            "      Successfully uninstalled opentelemetry-semantic-conventions-0.37b0\n",
            "  Attempting uninstall: opentelemetry-sdk\n",
            "    Found existing installation: opentelemetry-sdk 1.16.0\n",
            "    Uninstalling opentelemetry-sdk-1.16.0:\n",
            "      Successfully uninstalled opentelemetry-sdk-1.16.0\n",
            "Successfully installed executing-2.2.0 importlib-metadata-8.5.0 logfire-3.4.0 opentelemetry-api-1.29.0 opentelemetry-exporter-otlp-proto-common-1.29.0 opentelemetry-exporter-otlp-proto-http-1.29.0 opentelemetry-instrumentation-0.50b0 opentelemetry-proto-1.29.0 opentelemetry-sdk-1.29.0 opentelemetry-semantic-conventions-0.50b0 protobuf-5.29.3\n"
          ]
        },
        {
          "output_type": "display_data",
          "data": {
            "application/vnd.colab-display-data+json": {
              "pip_warning": {
                "packages": [
                  "importlib_metadata"
                ]
              },
              "id": "25041738645448dc9d74246e280b5297"
            }
          },
          "metadata": {}
        }
      ]
    },
    {
      "cell_type": "code",
      "source": [
        "import nest_asyncio\n",
        "\n",
        "nest_asyncio.apply()"
      ],
      "metadata": {
        "id": "ZTsGkNmWJRXx"
      },
      "execution_count": 11,
      "outputs": []
    },
    {
      "cell_type": "code",
      "execution_count": null,
      "metadata": {
        "id": "zBQilxxNDY9b"
      },
      "outputs": [],
      "source": [
        "# prompt: check if in colab environment and if so, fetch helper functions for tools\n",
        "\n",
        "import sys\n",
        "\n",
        "try:\n",
        "  import google.colab\n",
        "  IN_COLAB = True\n",
        "except:\n",
        "  IN_COLAB = False\n",
        "\n",
        "if IN_COLAB:\n",
        "  !wget https://raw.githubusercontent.com/CalvHobbes/shop_india/main/llamaindex/search_Croma.py\n",
        "  !wget https://raw.githubusercontent.com/CalvHobbes/shop_india/main/llamaindex/search_reliance.py"
      ]
    },
    {
      "cell_type": "code",
      "source": [
        "from google.colab import userdata\n",
        "import os\n",
        "\n",
        "openapi_key = userdata.get('OPENAPI_KEY')\n",
        "hf_token = userdata.get('HF_TOKEN')\n",
        "os.environ[\"OPENAI_API_KEY\"] = openapi_key"
      ],
      "metadata": {
        "id": "aBT_4-fWDo6R"
      },
      "execution_count": 7,
      "outputs": []
    },
    {
      "cell_type": "code",
      "source": [
        "instructions = '''\n",
        "You are an intelligent assistant tasked with analyzing and combining product price data by executing one or more tools available to you. to run the tools you must provide them the name of the product the user is searching.. Your goal is to identify the most relevant product prices and present them in a structured format.  Execute all applicable tools.Follow these steps:\n",
        "\n",
        "Combine Results: Analyze the product data from all websites. If product names or display names are slightly different but refer to the same product, use your judgment to group them together.\n",
        "\n",
        "Identify the Best Prices: For each product, compare the prices across all websites and order them in ascending order (lowest price first).\n",
        "\n",
        "Output Format: Present the results in the following structured format for each product:\n",
        "\n",
        "Product Name: The most accurate or common name for the product.\n",
        "\n",
        "For each store, include:\n",
        "\n",
        "Store Display Name: The name of the store.\n",
        "\n",
        "Product URL: A clickable link to the product page.\n",
        "\n",
        "Price: The price of the product at that store.\n",
        "\n",
        "Ensure the store-wise details are ordered by ascending price (cheapest first).\n",
        "\n",
        "Handle Ambiguities: If product names or details are unclear, use context to determine if they refer to the same product. If uncertain, list them separately.\n",
        "\n",
        "Sample Result:\n",
        "Product Name: Wireless Noise-Cancelling Headphones\n",
        "- Store: TechWorld, Product URL: [TechWorld Link], Price: $120\n",
        "- Store: GadgetHub, Product URL: [GadgetHub Link], Price: $125\n",
        "- Store: ElectroShop, Product URL: [ElectroShop Link], Price: $130\n",
        "\n",
        "'''"
      ],
      "metadata": {
        "id": "sWy9HUE-ELqx"
      },
      "execution_count": 2,
      "outputs": []
    },
    {
      "cell_type": "code",
      "source": [
        "model_id = \"gpt-4o-mini\""
      ],
      "metadata": {
        "id": "X6IfaIC8Gwuk"
      },
      "execution_count": 4,
      "outputs": []
    },
    {
      "cell_type": "code",
      "source": [
        "from pydantic_ai import Agent, RunContext\n",
        "from search_Croma import fetch_prices_from_croma\n",
        "from search_reliance import fetch_prices_from_reliance\n",
        "\n",
        "price_comp__agent_with_tools = Agent(\n",
        "    model_id,\n",
        "    deps_type=str,\n",
        "    result_type=str,\n",
        "    system_prompt=(\n",
        "        'Use the `search_croma_tool`  and `search_reliance_tool` functions to determine best '\n",
        "        'price for a product.'\n",
        "    ),\n",
        ")\n",
        "\n",
        "@price_comp__agent_with_tools.tool\n",
        "def search_croma_tool(ctx: RunContext[str],product: str) -> str:\n",
        "    \"\"\"\n",
        "    This is a tool that searches for the user specified product on Croma and returns the name, url and price of the product in JSON\n",
        "\n",
        "    Args:\n",
        "        product: The product name to search for\n",
        "    \"\"\"\n",
        "    return fetch_prices_from_croma(product)\n",
        "\n",
        "\n",
        "@price_comp__agent_with_tools.tool\n",
        "def search_reliance_tool(ctx: RunContext[str],product: str) -> str:\n",
        "    \"\"\"\n",
        "    This is a tool that searches for the user specified product on Reliance and returns the name, url and price of the product in JSON\n",
        "\n",
        "    Args:\n",
        "        product: The product name to search for\n",
        "    \"\"\"\n",
        "    return fetch_prices_from_reliance(product)"
      ],
      "metadata": {
        "id": "2tq01876HPtY"
      },
      "execution_count": 9,
      "outputs": []
    },
    {
      "cell_type": "code",
      "source": [
        "result = price_comp__agent_with_tools.run_sync(\"what is the best price for iphone 16 pro max\")\n",
        "print(result.data)"
      ],
      "metadata": {
        "colab": {
          "base_uri": "https://localhost:8080/"
        },
        "id": "n_yveuouI-Wk",
        "outputId": "dd76b06a-5a5b-4f6a-b98d-16cf436d2f4f"
      },
      "execution_count": 13,
      "outputs": [
        {
          "output_type": "stream",
          "name": "stdout",
          "text": [
            "Here are the best prices for the iPhone 16 Pro Max from Croma and Reliance:\n",
            "\n",
            "### Croma\n",
            "1. **[Apple iPhone 16 Pro Max (256GB, Black Titanium)](https://www.croma.com/apple-iphone-16-pro-max-256gb-black-titanium-/p/309742)** - ₹137,900\n",
            "2. **[Apple iPhone 16 Pro Max (256GB, Desert Titanium)](https://www.croma.com/apple-iphone-16-pro-max-256gb-desert-titanium-/p/309746)** - ₹137,900\n",
            "3. **[Apple iPhone 16 Pro Max (512GB, Black Titanium)](https://www.croma.com/apple-iphone-16-pro-max-512gb-black-titanium-/p/309748)** - ₹157,900\n",
            "\n",
            "### Reliance\n",
            "1. **[Apple iPhone 16 Pro Max 256 GB, Black Titanium](https://www.reliancedigital.in/apple-iphone-16-pro-max-256-gb-black-titanium/p/494423059)** - ₹137,900\n",
            "2. **[Apple iPhone 16 Pro Max 256 GB, White Titanium](https://www.reliancedigital.in/apple-iphone-16-pro-max-256-gb-white-titanium/p/494423060)** - ₹137,900\n",
            "3. **[Apple iPhone 16 Pro Max 512 GB, White Titanium](https://www.reliancedigital.in/apple-iphone-16-pro-max-512-gb-white-titanium/p/494423064)** - ₹157,900\n",
            "\n",
            "### Summary\n",
            "The best price for the iPhone 16 Pro Max (256GB) is ₹137,900, available at both Croma and Reliance. For the 512GB variant, the lowest price is ₹157,900 at both stores as well.\n"
          ]
        }
      ]
    },
    {
      "cell_type": "code",
      "source": [
        "result = await price_comp__agent_with_tools.run('best price for samsung s25?')\n",
        "print(result.data)\n",
        "\n"
      ],
      "metadata": {
        "colab": {
          "base_uri": "https://localhost:8080/"
        },
        "id": "thI79aqaL1Vr",
        "outputId": "ae987ecb-9969-4fce-ae59-5cd4c7fa3f90"
      },
      "execution_count": 14,
      "outputs": [
        {
          "output_type": "stream",
          "name": "stdout",
          "text": [
            "Here are the best prices for the Samsung Galaxy S25 from Croma and Reliance:\n",
            "\n",
            "### Croma\n",
            "1. **[SAMSUNG Galaxy S25 (12GB RAM, 256GB, Icyblue)](https://www.croma.com/samsung-galaxy-s25-5g-12gb-ram-256gb-icyblue-/p/313341)**\n",
            "   - Price: ₹80,999\n",
            "\n",
            "2. **[SAMSUNG Galaxy S25 (12GB RAM, 512GB, Icyblue)](https://www.croma.com/samsung-galaxy-s25-5g-12gb-ram-512gb-icyblue-/p/313335)**\n",
            "   - Price: ₹92,999\n",
            "\n",
            "### Reliance\n",
            "1. **[Samsung Galaxy S25 5G 256 GB, 12 GB RAM, Icyblue](https://www.reliancedigital.in/samsung-galaxy-s25-5g-256-gb-12-gb-ram-icyblue-mobile-phone/p/494493901)**\n",
            "   - Price: ₹80,999\n",
            "\n",
            "2. **[Samsung Galaxy S25 5G 512 GB, 12 GB RAM, Icyblue](https://www.reliancedigital.in/samsung-galaxy-s25-5g-512-gb-12-gb-ram-icyblue-mobile-phone/p/494493907)**\n",
            "   - Price: ₹92,999\n",
            "\n",
            "### Best Price Summary:\n",
            "- The **best price** for the **Samsung Galaxy S25 (256GB)** is **₹80,999** available at both **Croma** and **Reliance**.\n",
            "- The **Samsung Galaxy S25 (512GB)** is **available for ₹92,999** at both stores as well. \n",
            "\n",
            "You can choose either store based on your preference!\n"
          ]
        }
      ]
    },
    {
      "cell_type": "code",
      "source": [
        "async with price_comp__agent_with_tools.run_stream('What is the cheapest iphone 13') as response:\n",
        "    print(await response.get_data())"
      ],
      "metadata": {
        "colab": {
          "base_uri": "https://localhost:8080/"
        },
        "id": "WEja-cmJMRLv",
        "outputId": "78eeaae2-ff32-49c2-95ce-68ed86451aef"
      },
      "execution_count": 15,
      "outputs": [
        {
          "output_type": "stream",
          "name": "stdout",
          "text": [
            "The cheapest iPhone 13 options are:\n",
            "\n",
            "1. **Apple iPhone 13 (256GB, Alpine Green)**\n",
            "   - Price: ₹43,994\n",
            "   - [View Product](https://www.croma.com/apple-iphone-13-256gb-alpine-green-/p/249841)\n",
            "\n",
            "2. **Apple iPhone 13 (256GB, Starlight White)**\n",
            "   - Price: ₹43,994\n",
            "   - [View Product](https://www.croma.com/apple-iphone-13-256gb-starlight-white-/p/243465)\n",
            "\n",
            "3. **Apple iPhone 13 (256GB, Pink)**\n",
            "   - Price: ₹43,994\n",
            "   - [View Product](https://www.croma.com/apple-iphone-13-256gb-pink-/p/243466)\n",
            "\n",
            "4. **Apple iPhone 13 (256GB, Midnight)**\n",
            "   - Price: ₹43,994\n",
            "   - [View Product](https://www.croma.com/apple-iphone-13-256gb-midnight-/p/243464)\n",
            "\n",
            "5. **Apple iPhone 13 (256GB, Blue)**\n",
            "   - Price: ₹43,994\n",
            "   - [View Product](https://www.croma.com/apple-iphone-13-256gb-blue-/p/243468)\n",
            "\n",
            "There are no listings for the iPhone 13 from Reliance at this time. All the listed options from Croma are for the 256GB variant, which is currently the best price available.\n"
          ]
        }
      ]
    }
  ]
}